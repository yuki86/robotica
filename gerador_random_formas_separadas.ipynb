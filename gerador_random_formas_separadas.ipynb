{
  "nbformat": 4,
  "nbformat_minor": 0,
  "metadata": {
    "colab": {
      "name": "gerador random formas separadas.ipynb",
      "provenance": [],
      "authorship_tag": "ABX9TyMsfnjnZc18N+YCM2f4wKK7",
      "include_colab_link": true
    },
    "kernelspec": {
      "name": "python3",
      "display_name": "Python 3"
    }
  },
  "cells": [
    {
      "cell_type": "markdown",
      "metadata": {
        "id": "view-in-github",
        "colab_type": "text"
      },
      "source": [
        "<a href=\"https://colab.research.google.com/github/yuki86/robotica/blob/master/gerador_random_formas_separadas.ipynb\" target=\"_parent\"><img src=\"https://colab.research.google.com/assets/colab-badge.svg\" alt=\"Open In Colab\"/></a>"
      ]
    },
    {
      "cell_type": "markdown",
      "metadata": {
        "id": "QFjLEBL5xeq_"
      },
      "source": [
        "# gerador de quadrado tamanho random"
      ]
    },
    {
      "cell_type": "code",
      "metadata": {
        "id": "VqBejQCQz7Q3",
        "outputId": "ccd4f08a-7159-48e5-c8b1-4d9760770d69",
        "colab": {
          "base_uri": "https://localhost:8080/",
          "height": 117
        }
      },
      "source": [
        "import cv2\n",
        "from google.colab.patches import cv2_imshow\n",
        "import numpy as np\n",
        "import random\n",
        "amostras = 100\n",
        "\n",
        "#tamanho da área disponível\n",
        "altura = amostras\n",
        "largura = altura\n",
        "\n",
        "#cria dataset\n",
        "f = open(\"dataset_exe1.csv\", \"w\")\n",
        "data = \"\"\n",
        "for py in range(0,altura):\n",
        "  for px in range(0, largura):\n",
        "    data = data + \"P\"+str(py)+str(px)+\",\"\n",
        "data = data + \"Saida\\n\"\n",
        "f.write( data )\n",
        "\n",
        "#lê dataset e transforma em matriz (eu acho...)\n",
        "for amostra in range(0,amostras):\n",
        "  img = np.zeros([altura,largura,3])\n",
        "  for py in range(0,altura):\n",
        "    for px in range(0, largura):\n",
        "      img[px][py][0] = 255   # cor azul\n",
        "      img[px][py][1] = 255   # cor verde\n",
        "      img[px][py][2] = 255   # cor vermelho\n",
        "\n",
        "#define dimensões random da forma\n",
        "  tamanho = random.randint(0, amostras)\n",
        "  xmin = random.randint(0, amostras - tamanho) \n",
        "  ymin=xmin \n",
        "  xmax=(xmin+tamanho)\n",
        "  ymax=xmax\n",
        "\n",
        "#gera a forma de um quadrado\n",
        "  cv2.rectangle(img,(xmin, ymin),(xmax,ymax),(0,0,0),-1)\n",
        "  #forma(arquivo,(coordenadas do ínicio -> x,y), (coordenadas do final -> x,y), (cores RGB), espessura -> -1 equivale a preenchido)\n",
        "\n",
        "#lê a forma gerada e salva as informações (eu acho...)  \n",
        "  data = \"\"\n",
        "  for py in range(0,altura):\n",
        "    for px in range(0, largura):\n",
        "      data = data + str(int(img[px][py][0]))+\",\"\n",
        "  data = data + \"0\\n\"\n",
        "\n",
        "  f.write( data )\n",
        "\n",
        "f.close()\n",
        "\n",
        "#mostra a figura gerada\n",
        "cv2_imshow(img)"
      ],
      "execution_count": 21,
      "outputs": [
        {
          "output_type": "display_data",
          "data": {
            "image/png": "[encoded data removed]",
            "text/plain": [
              "<PIL.Image.Image image mode=RGB size=100x100 at 0x7F89DEB13630>"
            ]
          },
          "metadata": {
            "tags": []
          }
        }
      ]
    },
    {
      "cell_type": "markdown",
      "metadata": {
        "id": "LBifoDTBxeGO"
      },
      "source": [
        "# gerador de círculo tamanho random"
      ]
    },
    {
      "cell_type": "code",
      "metadata": {
        "id": "7cky1008xqfu",
        "outputId": "12bb0b23-63c8-4a1e-fd5a-4ee933882c71",
        "colab": {
          "base_uri": "https://localhost:8080/",
          "height": 117
        }
      },
      "source": [
        "import cv2\n",
        "from google.colab.patches import cv2_imshow\n",
        "import numpy as np\n",
        "import random\n",
        "import cv2 as cv\n",
        "amostras = 100\n",
        "\n",
        "#tamanho da área disponível\n",
        "altura = amostras\n",
        "largura = amostras\n",
        "\n",
        "#cria dataset\n",
        "f = open(\"dataset_exe1.csv\", \"w\")\n",
        "data = \"\"\n",
        "for py in range(0,altura):\n",
        "  for px in range(0, largura):\n",
        "    data = data + \"P\"+str(py)+str(px)+\",\"\n",
        "data = data + \"Saida\\n\"\n",
        "f.write( data )\n",
        "\n",
        "#lê dataset e transforma em matriz (eu acho...)\n",
        "for amostra in range(0,amostras):\n",
        "  img = np.zeros([altura,largura,3])\n",
        "  for py in range(0,altura):\n",
        "    for px in range(0, largura):\n",
        "      img[px][py][0] = 255   # cor azul\n",
        "      img[px][py][1] = 255   # cor verde\n",
        "      img[px][py][2] = 255   # cor vermelho\n",
        "\n",
        "#define dimensões random da forma\n",
        "xcentro = random.randint(1, amostras-1) \n",
        "ycentro = random.randint(1, amostras-1) \n",
        "raio=random.randint(1,(amostras/2))\n",
        "\n",
        "#gera a forma de um círculo\n",
        "while (raio >= (amostras-xcentro) or raio >= (amostras-ycentro) or raio >= (xcentro-0) or raio >= (ycentro-0)):\n",
        "  raio=random.randint(1,(amostras/2))\n",
        "else:\n",
        "  cv.circle(img,(xcentro, ycentro), raio, (0,0,0), -1)\n",
        "  #(arquivo,(coordenadas do centro -> x,y), raio, (cores RGB), espessura -> -1 equivale a preenchido)\n",
        "\n",
        "#lê a forma gerada e salva as informações (eu acho...)  \n",
        "  data = \"\"\n",
        "  for py in range(0,altura):\n",
        "    for px in range(0, largura):\n",
        "      data = data + str(int(img[px][py][0]))+\",\"\n",
        "  data = data + \"0\\n\"\n",
        "\n",
        "  f.write( data )\n",
        "\n",
        "f.close()\n",
        "\n",
        "#mostra a figura gerada\n",
        "cv2_imshow(img)\n"
      ],
      "execution_count": 26,
      "outputs": [
        {
          "output_type": "display_data",
          "data": {
            "image/png": "[encoded data removed]",
            "text/plain": [
              "<PIL.Image.Image image mode=RGB size=100x100 at 0x7F89CDBEF4A8>"
            ]
          },
          "metadata": {
            "tags": []
          }
        }
      ]
    },
    {
      "cell_type": "markdown",
      "metadata": {
        "id": "Csf6AvMNxB9Y"
      },
      "source": [
        "# gerador de triângulos tamanho random"
      ]
    },
    {
      "cell_type": "code",
      "metadata": {
        "id": "mbWoktfeu3Fe",
        "outputId": "9c16a97c-037d-4154-95d0-1a9363508ab6",
        "colab": {
          "base_uri": "https://localhost:8080/",
          "height": 117
        }
      },
      "source": [
        "import cv2\n",
        "from google.colab.patches import cv2_imshow\n",
        "import numpy as np\n",
        "import random\n",
        "import cv2 as cv\n",
        "amostras = 100\n",
        "\n",
        "#tamanho da área disponível\n",
        "altura = amostras\n",
        "largura = amostras\n",
        "\n",
        "#cria dataset\n",
        "f = open(\"dataset_exe1.csv\", \"w\")\n",
        "data = \"\"\n",
        "for py in range(0,altura):\n",
        "  for px in range(0, largura):\n",
        "    data = data + \"P\"+str(py)+str(px)+\",\"\n",
        "data = data + \"Saida\\n\"\n",
        "f.write( data )\n",
        "\n",
        "#lê dataset e transforma em matriz (eu acho...)\n",
        "for amostra in range(0,amostras):\n",
        "  img = np.zeros([altura,largura,3])\n",
        "  for py in range(0,altura):\n",
        "    for px in range(0, largura):\n",
        "      img[px][py][0] = 255   # cor azul\n",
        "      img[px][py][1] = 255   # cor verde\n",
        "      img[px][py][2] = 255   # cor vermelho\n",
        "\n",
        "#define dimensões random da forma\n",
        "xe=random.randint(0, amostras)\n",
        "ye=random.randint(0, amostras)\n",
        "xp=random.randint(0, amostras)\n",
        "yp=random.randint(0, amostras)\n",
        "xd=random.randint(0, amostras)\n",
        "yd=random.randint(0, amostras)\n",
        "\n",
        "#gera a forma de um triângulo\n",
        "while (yp >= ye or yp >= yd or xd <= xe):\n",
        "  xe=random.randint(0, amostras)\n",
        "  ye=random.randint(0, amostras)\n",
        "  xp=random.randint(0, amostras)\n",
        "  yp=random.randint(0, amostras)\n",
        "  xd=random.randint(0, amostras)\n",
        "  yd=random.randint(0, amostras)\n",
        "\n",
        "else:\n",
        "  #[[coordenadas do vértice esquerdo -> x,y], [coordenadas do vértice central -> x,y], [coordenadas do vértice direito -> x,y] obs: y do esquerdo e direito iguais para base reta)\n",
        "  pts = np.array([[xe,ye],[xp,yp],[xd,yd]], np.int32)\n",
        "  pts = pts.reshape((-1,1,2))\n",
        "  cv.fillPoly(img, [pts], color=(0, 0, 0)) #este comando faz o mesmo que a espessura -1\n",
        "\n",
        "#lê a forma gerada e salva as informações (eu acho...)\n",
        "  data = \"\"\n",
        "  for py in range(0,altura):\n",
        "    for px in range(0, largura):\n",
        "      data = data + str(int(img[px][py][0]))+\",\"\n",
        "  data = data + \"0\\n\"\n",
        "\n",
        "  f.write( data )\n",
        "\n",
        "f.close()\n",
        "\n",
        "#mostra a figura gerada\n",
        "cv2_imshow(img)\n"
      ],
      "execution_count": 25,
      "outputs": [
        {
          "output_type": "display_data",
          "data": {
            "image/png": "[encoded data removed]",
            "text/plain": [
              "<PIL.Image.Image image mode=RGB size=100x100 at 0x7F89CDBFB278>"
            ]
          },
          "metadata": {
            "tags": []
          }
        }
      ]
    }
  ]
}