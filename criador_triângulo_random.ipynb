{
  "nbformat": 4,
  "nbformat_minor": 0,
  "metadata": {
    "colab": {
      "name": "criador triângulo random.ipynb",
      "provenance": [],
      "authorship_tag": "ABX9TyNIYZqv+NhD/4+WhjZIy3R/",
      "include_colab_link": true
    },
    "kernelspec": {
      "name": "python3",
      "display_name": "Python 3"
    }
  },
  "cells": [
    {
      "cell_type": "markdown",
      "metadata": {
        "id": "view-in-github",
        "colab_type": "text"
      },
      "source": [
        "<a href=\"https://colab.research.google.com/github/yuki86/robotica/blob/master/criador_tri%C3%A2ngulo_random.ipynb\" target=\"_parent\"><img src=\"https://colab.research.google.com/assets/colab-badge.svg\" alt=\"Open In Colab\"/></a>"
      ]
    },
    {
      "cell_type": "code",
      "metadata": {
        "id": "W5TnMu4bdCov",
        "outputId": "ab6955d3-2c88-4338-889f-135c660a8817",
        "colab": {
          "base_uri": "https://localhost:8080/",
          "height": 117
        }
      },
      "source": [
        "import cv2\n",
        "from google.colab.patches import cv2_imshow\n",
        "import numpy as np\n",
        "import random\n",
        "import cv2 as cv\n",
        "amostras = 100\n",
        "\n",
        "xe=random.randint(0, amostras)\n",
        "ye=random.randint(0, amostras)\n",
        "xp=random.randint(0, amostras)\n",
        "yp=random.randint(0, amostras)\n",
        "xd=random.randint(0, amostras)\n",
        "yd=random.randint(0, amostras)\n",
        "\n",
        "altura = amostras\n",
        "largura = amostras\n",
        "\n",
        "f = open(\"dataset_exe1.csv\", \"w\")\n",
        "data = \"\"\n",
        "for py in range(0,altura):\n",
        "  for px in range(0, largura):\n",
        "    data = data + \"P\"+str(py)+str(px)+\",\"\n",
        "data = data + \"Saida\\n\"\n",
        "f.write( data )\n",
        "\n",
        "for amostra in range(0,amostras):\n",
        "  img = np.zeros([altura,largura,3])\n",
        "  for py in range(0,altura):\n",
        "    for px in range(0, largura):\n",
        "      img[px][py][0] = 255   # cor azul\n",
        "      img[px][py][1] = 255   # cor verde\n",
        "      img[px][py][2] = 255   # cor vermelho\n",
        "\n",
        "  \n",
        "while (yp >= ye or yp >= yd or xd <= xe):\n",
        "  xe=random.randint(0, amostras)\n",
        "  ye=random.randint(0, amostras)\n",
        "  xp=random.randint(0, amostras)\n",
        "  yp=random.randint(0, amostras)\n",
        "  xd=random.randint(0, amostras)\n",
        "  yd=random.randint(0, amostras)\n",
        "\n",
        "else:\n",
        "  #[[coordenadas do vértice esquerdo -> x,y], [coordenadas do vértice central -> x,y], [coordenadas do vértice direito -> x,y] obs: y do esquerdo e direito iguais para base reta)\n",
        "  pts = np.array([[xe,ye],[xp,yp],[xd,yd]], np.int32)\n",
        "  pts = pts.reshape((-1,1,2))\n",
        "  cv.fillPoly(img, [pts], color=(0, 0, 0)) #este comando faz o mesmo que a espessura -1\n",
        "\n",
        "  data = \"\"\n",
        "  for py in range(0,altura):\n",
        "    for px in range(0, largura):\n",
        "      data = data + str(int(img[px][py][0]))+\",\"\n",
        "  data = data + \"0\\n\"\n",
        "\n",
        "  f.write( data )\n",
        "\n",
        "f.close()\n",
        "\n",
        "cv2_imshow(img)\n"
      ],
      "execution_count": 35,
      "outputs": [
        {
          "output_type": "display_data",
          "data": {
            "image/png": "[encoded data removed]",
            "text/plain": [
              "<PIL.Image.Image image mode=RGB size=100x100 at 0x7FBC642919B0>"
            ]
          },
          "metadata": {
            "tags": []
          }
        }
      ]
    }
  ]
}