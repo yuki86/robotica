{
  "nbformat": 4,
  "nbformat_minor": 0,
  "metadata": {
    "colab": {
      "name": "Untitled8.ipynb",
      "provenance": [],
      "authorship_tag": "ABX9TyOMumNHd0lV7eN1XPr1N9Kr",
      "include_colab_link": true
    },
    "kernelspec": {
      "name": "python3",
      "display_name": "Python 3"
    }
  },
  "cells": [
    {
      "cell_type": "markdown",
      "metadata": {
        "id": "view-in-github",
        "colab_type": "text"
      },
      "source": [
        "<a href=\"https://colab.research.google.com/github/yuki86/robotica/blob/master/biblioteca-neural.ipynb\" target=\"_parent\"><img src=\"https://colab.research.google.com/assets/colab-badge.svg\" alt=\"Open In Colab\"/></a>"
      ]
    },
    {
      "cell_type": "code",
      "metadata": {
        "id": "dAIb6lz-eZEw",
        "outputId": "a9f1757e-17e6-475d-d2ef-6928aab19cd3",
        "colab": {
          "base_uri": "https://localhost:8080/",
          "height": 35
        }
      },
      "source": [
        "import numpy as np\n",
        "\n",
        "def calculo_z (lista_w, lista_X):\n",
        "  tamanho = len(lista_w)\n",
        "  z = 0\n",
        "  for x in range( 0, tamanho):\n",
        "    z = z + lista_w[x]* lista_X[x]\n",
        "  return z\n",
        "\n",
        "def neuronio_linear(z):\n",
        "  return z\n",
        "\n",
        "def neuronio_sigmoidal(z):\n",
        "  s=1/(1+math.exp(-x))\n",
        "  return s\n",
        "\n",
        "def neuronio_degrau(z,thres):\n",
        "  if (z>=thres):\n",
        "    s=1\n",
        "  else:\n",
        "    s=0\n",
        "  return s\n",
        "\n",
        "def neuronio_gaussiana(z,sigma,phi):\n",
        "  s=1/(2**0,5 * math.pi)*1/sigma*math.exp(-1/2*((z-phi)/sigma)**2)\n",
        "  return s\n",
        "\n",
        "lista_w=[1,-1]\n",
        "lista_x=[0,1]\n",
        "\n",
        "print(calculo_z(lista_w,lista_x))"
      ],
      "execution_count": 13,
      "outputs": [
        {
          "output_type": "stream",
          "text": [
            "-1\n"
          ],
          "name": "stdout"
        }
      ]
    }
  ]
}