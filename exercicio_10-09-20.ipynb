{
  "nbformat": 4,
  "nbformat_minor": 0,
  "metadata": {
    "colab": {
      "name": "Untitled2.ipynb",
      "provenance": [],
      "authorship_tag": "ABX9TyM0Zibt3+2Bnv/pQ0JW6yfw",
      "include_colab_link": true
    },
    "kernelspec": {
      "name": "python3",
      "display_name": "Python 3"
    }
  },
  "cells": [
    {
      "cell_type": "markdown",
      "metadata": {
        "id": "view-in-github",
        "colab_type": "text"
      },
      "source": [
        "<a href=\"https://colab.research.google.com/github/yuki86/robotica/blob/master/exercicio_10-09-20.ipynb\" target=\"_parent\"><img src=\"https://colab.research.google.com/assets/colab-badge.svg\" alt=\"Open In Colab\"/></a>"
      ]
    },
    {
      "cell_type": "markdown",
      "metadata": {
        "id": "QZnHPfb4RGbb",
        "colab_type": "text"
      },
      "source": [
        "# aula_10-09-20\n"
      ]
    },
    {
      "cell_type": "markdown",
      "metadata": {
        "id": "l9SVPKGnRO4h",
        "colab_type": "text"
      },
      "source": [
        "Exercícios"
      ]
    },
    {
      "cell_type": "markdown",
      "metadata": {
        "id": "q0JwCZgiRBNi",
        "colab_type": "text"
      },
      "source": [
        "Faça um programa de tratamento de imagem que analise o picos de\n",
        "imagem e determine a partir deles as posições x e y na imagem de\n",
        "tons de cinza."
      ]
    },
    {
      "cell_type": "code",
      "metadata": {
        "id": "SO_l1eJyQO56",
        "colab_type": "code",
        "colab": {
          "base_uri": "https://localhost:8080/",
          "height": 957
        },
        "outputId": "b6b0d13b-df05-460d-dfb8-e2b07142bef5"
      },
      "source": [
        "import cv2\n",
        "import numpy as np\n",
        "import matplotlib.pylab as plt\n",
        "\n",
        "def histograma_color( img,filename):\n",
        "  color = ('b','g','r')\n",
        "  for i, col in enumerate(color):\n",
        "    histr = cv2.calcHist([img],[i],None,[256],[0,256])\n",
        "    plt.plot(histr,color = col)\n",
        "    plt.xlim([0,256])\n",
        "  plt.savefig(filename)\n",
        "  plt.show()\n",
        "  return histr\n",
        "\n",
        "def histograma_gray( img,filename):\n",
        "    histr = cv2.calcHist([img],[0],None,[256],[0,256])\n",
        "    plt.plot(histr,color = (0,0,0))\n",
        "    plt.xlim([0,256])\n",
        "    plt.savefig(filename)\n",
        "    plt.show()\n",
        "    return histr\n",
        "\n",
        "def GaussianBlur_imagem(img, delta_x, delta_y):\n",
        "    imagem = cv2.GaussianBlur(img,(delta_x,delta_y),0) \n",
        "    return imagem\n",
        "\n",
        "\n",
        "arquivo_original = \"circulos\"\n",
        "extensao = \".jpg\"\n",
        "tipo = \"_grayscale_\"\n",
        "imagem = cv2.imread(arquivo_original+extensao)\n",
        "altura,largura,bytesPorPixel = np.shape(imagem)\n",
        "\n",
        "img_gray = cv2.cvtColor(imagem, cv2.COLOR_BGR2GRAY)\n",
        "histogram = cv2.calcHist([img_gray],[0],None,[256],[0,256])\n",
        "\n",
        "delta_x = 3\n",
        "delta_y = 3\n",
        "\n",
        "img_gray_gauss = GaussianBlur_imagem(img_gray , delta_x, delta_y)\n",
        "histogram = histograma_gray( img_gray_gauss, arquivo_original + tipo + str(delta_x*delta_y) +\"_histograma_\"+extensao)\n",
        "cv2.imwrite(arquivo_original + tipo + str(delta_x*delta_y) + extensao, img_gray_gauss )\n",
        "\n",
        "#for i in range(0,255):\n",
        "#    print(i, \"\\t\",int(histogram[i]),end=\"\\n\")\n",
        "\n",
        "list_thresh = [0]\n",
        "\n",
        "histogram_derivative = [0]*254\n",
        "for i in range (0,253):\n",
        "    pto_mais = histogram[i+1] - histogram[i]\n",
        "    pto_menos = histogram[i+2] - histogram[i+1]\n",
        "    if (( pto_mais>0 ) and (pto_menos<0 )) and (pto_mais >100):\n",
        "        print ( int(i+1),\"\\t\", int(pto_mais),\"\\t\", int(pto_menos) ,end =\"\\n\")\n",
        "        list_thresh.append(int(i+2))\n",
        "        thres_level = int(i+2)\n",
        "\n",
        "list_thresh.remove(0)\n",
        "thres_max = int(255)\n",
        "\n",
        "ret,thres = cv2.threshold( img_gray_gauss, thres_level, thres_max, cv2.THRESH_BINARY) \n",
        "histograma_gray( thres, arquivo_original + tipo +\"Final_\" +\"_LEVEL_\"+str(thres_level)+\"_histograma_\"+extensao)\n",
        "cv2.imwrite(arquivo_original + tipo + \"Final_\"  +\"_LEVEL_\"+str(thres_level) + extensao, thres )\n",
        "\n",
        "for i in list_thresh:\n",
        "    if (i >0):\n",
        "        print(i,end=\"\\n\")\n",
        "\n",
        "list_objeto = np.zeros([len(list_thresh),5])\n",
        "for idx in range(0,len( list_thresh ) ):\n",
        "    list_objeto[idx][1] = largura\n",
        "    list_objeto[idx][2] = 0\n",
        "    list_objeto[idx][3] = altura\n",
        "    list_objeto[idx][4] = 0\n",
        "    \n",
        "for py in range(0,altura):\n",
        "    for px in range(0,largura):\n",
        "        for idx in range(0, len( list_thresh ) ):\n",
        "            if ( img_gray_gauss[py][px] == list_thresh[idx]):\n",
        "                #print( \"color=\",int(img_gray_gauss[py][px]),\"\\ty= \",int(py),\"\\tx= \",int(px), end=\"\\n\")\n",
        "                list_objeto[idx][0] = list_thresh[idx]\n",
        "                if list_objeto[idx][1] > px:\n",
        "                    list_objeto[idx][1] = px\n",
        "                if list_objeto[idx][2] < px:\n",
        "                    list_objeto[idx][2] = px\n",
        "                if list_objeto[idx][3] > py:\n",
        "                    list_objeto[idx][3] = py\n",
        "                if list_objeto[idx][4] < py:\n",
        "                    list_objeto[idx][4] = py\n",
        "                \n",
        "for idx in range(0,len( list_thresh ) ):\n",
        "    print( int(idx), \"\\t thresh: \",int(list_objeto[idx][0]),end=\"\\n\")\n",
        "    print(\" xmin: \",int( list_objeto[idx][1]),\"\\t xmax: \",int( list_objeto[idx][2] ), end=\"\\n\")\n",
        "    print(\" ymin: \",int( list_objeto[idx][3]),\"\\t ymax: \",int( list_objeto[idx][4] ), end=\"\\n\")\n"
      ],
      "execution_count": 1,
      "outputs": [
        {
          "output_type": "display_data",
          "data": {
            "image/png": "[encoded data removed]",
            "text/plain": [
              "<Figure size 432x288 with 1 Axes>"
            ]
          },
          "metadata": {
            "tags": [],
            "needs_background": "light"
          }
        },
        {
          "output_type": "stream",
          "text": [
            "91 \t 6392 \t -6336\n",
            "122 \t 6163 \t -5620\n",
            "127 \t 6505 \t -6441\n",
            "192 \t 6628 \t -6637\n",
            "196 \t 7223 \t -7614\n"
          ],
          "name": "stdout"
        },
        {
          "output_type": "display_data",
          "data": {
            "image/png": "[encoded data removed]",
            "text/plain": [
              "<Figure size 432x288 with 1 Axes>"
            ]
          },
          "metadata": {
            "tags": [],
            "needs_background": "light"
          }
        },
        {
          "output_type": "stream",
          "text": [
            "92\n",
            "123\n",
            "128\n",
            "193\n",
            "197\n",
            "0 \t thresh:  92\n",
            " xmin:  56 \t xmax:  140\n",
            " ymin:  32 \t ymax:  126\n",
            "1 \t thresh:  123\n",
            " xmin:  73 \t xmax:  166\n",
            " ymin:  205 \t ymax:  297\n",
            "2 \t thresh:  128\n",
            " xmin:  55 \t xmax:  377\n",
            " ymin:  29 \t ymax:  280\n",
            "3 \t thresh:  193\n",
            " xmin:  64 \t xmax:  318\n",
            " ymin:  111 \t ymax:  369\n",
            "4 \t thresh:  197\n",
            " xmin:  63 \t xmax:  302\n",
            " ymin:  28 \t ymax:  297\n"
          ],
          "name": "stdout"
        }
      ]
    },
    {
      "cell_type": "markdown",
      "metadata": {
        "id": "hTmMm0_URRxX",
        "colab_type": "text"
      },
      "source": [
        "Exercício 2\n"
      ]
    },
    {
      "cell_type": "markdown",
      "metadata": {
        "id": "ooOPOesARX_o",
        "colab_type": "text"
      },
      "source": [
        "Faça um programa de tratamento de imagem que analise o picos de\n",
        "imagem e determine a partir deles as posições xmin, xmax, ymin e\n",
        "ymax na imagem de tons de cinza."
      ]
    },
    {
      "cell_type": "code",
      "metadata": {
        "id": "LQz2_U8TRYiS",
        "colab_type": "code",
        "colab": {
          "base_uri": "https://localhost:8080/",
          "height": 399
        },
        "outputId": "157a4a3b-6878-4953-d612-73878160707c"
      },
      "source": [
        "from google.colab.patches import cv2_imshow\n",
        "\n",
        "\n",
        "for py in range(0,altura):\n",
        "    for px in range(0,largura):\n",
        "        for idx in range(0, len( list_thresh ) ):\n",
        "            if ( img_gray_gauss[py][px] == list_thresh[idx]):\n",
        "                #print( \"color=\",int(img_gray_gauss[py][px]),\"\\ty= \",int(py),\"\\tx= \",int(px), end=\"\\n\")\n",
        "                list_objeto[idx][0] = list_thresh[idx]\n",
        "                if list_objeto[idx][1] > px:\n",
        "                    list_objeto[idx][1] = px\n",
        "                if list_objeto[idx][2] < px:\n",
        "                    list_objeto[idx][2] = px\n",
        "                if list_objeto[idx][3] > py:\n",
        "                    list_objeto[idx][3] = py\n",
        "                if list_objeto[idx][4] < py:\n",
        "                    list_objeto[idx][4] = py\n",
        "\n",
        "xmin = largura\n",
        "xmax = 0\n",
        "thresh = 91\n",
        "\n",
        "if xmin>px:\n",
        "  xmin=px\n",
        "if xmax>px:\n",
        "  xmax=px\n",
        "\n",
        "print(\" xmin: \")\n",
        "print(\" xmax: \")\n",
        "\n",
        "cv2_imshow(\"Gray\")\n",
        "cv2.waitKey()\n",
        "cv2.destroyWindow(\"Gray\")"
      ],
      "execution_count": 14,
      "outputs": [
        {
          "output_type": "stream",
          "text": [
            " xmin: \n",
            " xmax: \n"
          ],
          "name": "stdout"
        },
        {
          "output_type": "error",
          "ename": "AttributeError",
          "evalue": "ignored",
          "traceback": [
            "\u001b[0;31m---------------------------------------------------------------------------\u001b[0m",
            "\u001b[0;31mAttributeError\u001b[0m                            Traceback (most recent call last)",
            "\u001b[0;32m<ipython-input-14-382398e65b4f>\u001b[0m in \u001b[0;36m<module>\u001b[0;34m()\u001b[0m\n\u001b[1;32m     29\u001b[0m \u001b[0mprint\u001b[0m\u001b[0;34m(\u001b[0m\u001b[0;34m\" xmax: \"\u001b[0m\u001b[0;34m)\u001b[0m\u001b[0;34m\u001b[0m\u001b[0;34m\u001b[0m\u001b[0m\n\u001b[1;32m     30\u001b[0m \u001b[0;34m\u001b[0m\u001b[0m\n\u001b[0;32m---> 31\u001b[0;31m \u001b[0mcv2_imshow\u001b[0m\u001b[0;34m(\u001b[0m\u001b[0;34m\"Gray\"\u001b[0m\u001b[0;34m)\u001b[0m\u001b[0;34m\u001b[0m\u001b[0;34m\u001b[0m\u001b[0m\n\u001b[0m\u001b[1;32m     32\u001b[0m \u001b[0mcv2\u001b[0m\u001b[0;34m.\u001b[0m\u001b[0mwaitKey\u001b[0m\u001b[0;34m(\u001b[0m\u001b[0;34m)\u001b[0m\u001b[0;34m\u001b[0m\u001b[0;34m\u001b[0m\u001b[0m\n\u001b[1;32m     33\u001b[0m \u001b[0mcv2\u001b[0m\u001b[0;34m.\u001b[0m\u001b[0mdestroyWindow\u001b[0m\u001b[0;34m(\u001b[0m\u001b[0;34m\"Gray\"\u001b[0m\u001b[0;34m)\u001b[0m\u001b[0;34m\u001b[0m\u001b[0;34m\u001b[0m\u001b[0m\n",
            "\u001b[0;32m/usr/local/lib/python3.6/dist-packages/google/colab/patches/__init__.py\u001b[0m in \u001b[0;36mcv2_imshow\u001b[0;34m(a)\u001b[0m\n\u001b[1;32m     20\u001b[0m       \u001b[0mimage\u001b[0m\u001b[0;34m.\u001b[0m\u001b[0;34m\u001b[0m\u001b[0;34m\u001b[0m\u001b[0m\n\u001b[1;32m     21\u001b[0m   \"\"\"\n\u001b[0;32m---> 22\u001b[0;31m   \u001b[0ma\u001b[0m \u001b[0;34m=\u001b[0m \u001b[0ma\u001b[0m\u001b[0;34m.\u001b[0m\u001b[0mclip\u001b[0m\u001b[0;34m(\u001b[0m\u001b[0;36m0\u001b[0m\u001b[0;34m,\u001b[0m \u001b[0;36m255\u001b[0m\u001b[0;34m)\u001b[0m\u001b[0;34m.\u001b[0m\u001b[0mastype\u001b[0m\u001b[0;34m(\u001b[0m\u001b[0;34m'uint8'\u001b[0m\u001b[0;34m)\u001b[0m\u001b[0;34m\u001b[0m\u001b[0;34m\u001b[0m\u001b[0m\n\u001b[0m\u001b[1;32m     23\u001b[0m   \u001b[0;31m# cv2 stores colors as BGR; convert to RGB\u001b[0m\u001b[0;34m\u001b[0m\u001b[0;34m\u001b[0m\u001b[0;34m\u001b[0m\u001b[0m\n\u001b[1;32m     24\u001b[0m   \u001b[0;32mif\u001b[0m \u001b[0ma\u001b[0m\u001b[0;34m.\u001b[0m\u001b[0mndim\u001b[0m \u001b[0;34m==\u001b[0m \u001b[0;36m3\u001b[0m\u001b[0;34m:\u001b[0m\u001b[0;34m\u001b[0m\u001b[0;34m\u001b[0m\u001b[0m\n",
            "\u001b[0;31mAttributeError\u001b[0m: 'str' object has no attribute 'clip'"
          ]
        }
      ]
    }
  ]
}