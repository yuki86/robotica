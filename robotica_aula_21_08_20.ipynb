{
  "nbformat": 4,
  "nbformat_minor": 0,
  "metadata": {
    "colab": {
      "name": "robotica-aula_21-08-20.ipynb",
      "provenance": [],
      "collapsed_sections": [],
      "authorship_tag": "ABX9TyMY3bckpCdQWAILfjh3vAB0",
      "include_colab_link": true
    },
    "kernelspec": {
      "name": "python3",
      "display_name": "Python 3"
    }
  },
  "cells": [
    {
      "cell_type": "markdown",
      "metadata": {
        "id": "view-in-github",
        "colab_type": "text"
      },
      "source": [
        "<a href=\"https://colab.research.google.com/github/yuki86/robotica/blob/master/robotica_aula_21_08_20.ipynb\" target=\"_parent\"><img src=\"https://colab.research.google.com/assets/colab-badge.svg\" alt=\"Open In Colab\"/></a>"
      ]
    },
    {
      "cell_type": "markdown",
      "metadata": {
        "id": "dcsHQUn9bhpY",
        "colab_type": "text"
      },
      "source": [
        "# Aula_21-08-20\n"
      ]
    },
    {
      "cell_type": "code",
      "metadata": {
        "id": "M3JFLyMPZ4ux",
        "colab_type": "code",
        "colab": {
          "base_uri": "https://localhost:8080/",
          "height": 34
        },
        "outputId": "85680b0c-3ccb-4ca5-a7ca-94c1f3f4361a"
      },
      "source": [
        "2+2"
      ],
      "execution_count": 2,
      "outputs": [
        {
          "output_type": "execute_result",
          "data": {
            "text/plain": [
              "4"
            ]
          },
          "metadata": {
            "tags": []
          },
          "execution_count": 2
        }
      ]
    },
    {
      "cell_type": "markdown",
      "metadata": {
        "id": "WkQSHTjLd7YH",
        "colab_type": "text"
      },
      "source": [
        "exemplo2"
      ]
    },
    {
      "cell_type": "code",
      "metadata": {
        "id": "E3hGc42Jd-gM",
        "colab_type": "code",
        "colab": {
          "base_uri": "https://localhost:8080/",
          "height": 50
        },
        "outputId": "7a9a0c0f-b166-4674-b446-23fbe14f4808"
      },
      "source": [
        "print(\"hello world!\")\n",
        "print(\"321\")"
      ],
      "execution_count": 9,
      "outputs": [
        {
          "output_type": "stream",
          "text": [
            "hello world!\n",
            "321\n"
          ],
          "name": "stdout"
        }
      ]
    },
    {
      "cell_type": "markdown",
      "metadata": {
        "id": "XGKkQL8qbb4e",
        "colab_type": "text"
      },
      "source": [
        ""
      ]
    }
  ]
}