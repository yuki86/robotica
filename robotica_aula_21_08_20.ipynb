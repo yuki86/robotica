{
  "nbformat": 4,
  "nbformat_minor": 0,
  "metadata": {
    "colab": {
      "name": "robotica-aula_21-08-20.ipynb",
      "provenance": [],
      "collapsed_sections": [],
      "authorship_tag": "ABX9TyMZslyiFRsxxP/TNQXqpegu",
      "include_colab_link": true
    },
    "kernelspec": {
      "name": "python3",
      "display_name": "Python 3"
    }
  },
  "cells": [
    {
      "cell_type": "markdown",
      "metadata": {
        "id": "view-in-github",
        "colab_type": "text"
      },
      "source": [
        "<a href=\"https://colab.research.google.com/github/yuki86/robotica/blob/master/robotica_aula_21_08_20.ipynb\" target=\"_parent\"><img src=\"https://colab.research.google.com/assets/colab-badge.svg\" alt=\"Open In Colab\"/></a>"
      ]
    },
    {
      "cell_type": "markdown",
      "metadata": {
        "id": "dcsHQUn9bhpY",
        "colab_type": "text"
      },
      "source": [
        "# Aula_21-08-20\n"
      ]
    },
    {
      "cell_type": "code",
      "metadata": {
        "id": "M3JFLyMPZ4ux",
        "colab_type": "code",
        "colab": {
          "base_uri": "https://localhost:8080/",
          "height": 34
        },
        "outputId": "85680b0c-3ccb-4ca5-a7ca-94c1f3f4361a"
      },
      "source": [
        "2+2"
      ],
      "execution_count": null,
      "outputs": [
        {
          "output_type": "execute_result",
          "data": {
            "text/plain": [
              "4"
            ]
          },
          "metadata": {
            "tags": []
          },
          "execution_count": 2
        }
      ]
    },
    {
      "cell_type": "markdown",
      "metadata": {
        "id": "WkQSHTjLd7YH",
        "colab_type": "text"
      },
      "source": [
        "exemplo2"
      ]
    },
    {
      "cell_type": "code",
      "metadata": {
        "id": "E3hGc42Jd-gM",
        "colab_type": "code",
        "colab": {
          "base_uri": "https://localhost:8080/",
          "height": 50
        },
        "outputId": "7a9a0c0f-b166-4674-b446-23fbe14f4808"
      },
      "source": [
        "print(\"hello world!\")\n",
        "print(\"321\")"
      ],
      "execution_count": null,
      "outputs": [
        {
          "output_type": "stream",
          "text": [
            "hello world!\n",
            "321\n"
          ],
          "name": "stdout"
        }
      ]
    },
    {
      "cell_type": "markdown",
      "metadata": {
        "id": "TUI0l6dbtPLU",
        "colab_type": "text"
      },
      "source": [
        "# Aula_27-08-20_parte1\n"
      ]
    },
    {
      "cell_type": "markdown",
      "metadata": {
        "id": "PTlD11NSu0PY",
        "colab_type": "text"
      },
      "source": [
        "list (lista)\n",
        "conjunto sequencial (array), o valor é definido por sua posição."
      ]
    },
    {
      "cell_type": "code",
      "metadata": {
        "id": "n29EO6CDtVw2",
        "colab_type": "code",
        "colab": {
          "base_uri": "https://localhost:8080/",
          "height": 84
        },
        "outputId": "11a42241-cfe8-49e0-9af9-95ddfe305495"
      },
      "source": [
        "lista1=[1,2,3,\"34asv\"]\n",
        "print(lista1[0])\n",
        "print(lista1[3])\n",
        "print(lista1[2])\n",
        "lista1[2]=\"teste\"\n",
        "print(lista1[2])"
      ],
      "execution_count": 7,
      "outputs": [
        {
          "output_type": "stream",
          "text": [
            "1\n",
            "34asv\n",
            "3\n",
            "teste\n"
          ],
          "name": "stdout"
        }
      ]
    },
    {
      "cell_type": "markdown",
      "metadata": {
        "id": "pjTKt01jvHgN",
        "colab_type": "text"
      },
      "source": [
        "Tupla: conjunto que não pode ser alterado (constante)"
      ]
    },
    {
      "cell_type": "code",
      "metadata": {
        "id": "3MmYyMGytzdD",
        "colab_type": "code",
        "colab": {
          "base_uri": "https://localhost:8080/",
          "height": 246
        },
        "outputId": "08678e6e-53eb-4ac5-b440-1e8615539e12"
      },
      "source": [
        "tupla1=(1,2,3,\"34asv\")\n",
        "print(tupla1[0])\n",
        "print(tupla1[3])\n",
        "tupla1[2]=\"teste\"\n",
        "print(tupla1[2])"
      ],
      "execution_count": 11,
      "outputs": [
        {
          "output_type": "stream",
          "text": [
            "1\n",
            "34asv\n"
          ],
          "name": "stdout"
        },
        {
          "output_type": "error",
          "ename": "TypeError",
          "evalue": "ignored",
          "traceback": [
            "\u001b[0;31m---------------------------------------------------------------------------\u001b[0m",
            "\u001b[0;31mTypeError\u001b[0m                                 Traceback (most recent call last)",
            "\u001b[0;32m<ipython-input-11-3f93bdd217dc>\u001b[0m in \u001b[0;36m<module>\u001b[0;34m()\u001b[0m\n\u001b[1;32m      2\u001b[0m \u001b[0mprint\u001b[0m\u001b[0;34m(\u001b[0m\u001b[0mtupla1\u001b[0m\u001b[0;34m[\u001b[0m\u001b[0;36m0\u001b[0m\u001b[0;34m]\u001b[0m\u001b[0;34m)\u001b[0m\u001b[0;34m\u001b[0m\u001b[0;34m\u001b[0m\u001b[0m\n\u001b[1;32m      3\u001b[0m \u001b[0mprint\u001b[0m\u001b[0;34m(\u001b[0m\u001b[0mtupla1\u001b[0m\u001b[0;34m[\u001b[0m\u001b[0;36m3\u001b[0m\u001b[0;34m]\u001b[0m\u001b[0;34m)\u001b[0m\u001b[0;34m\u001b[0m\u001b[0;34m\u001b[0m\u001b[0m\n\u001b[0;32m----> 4\u001b[0;31m \u001b[0mtupla1\u001b[0m\u001b[0;34m[\u001b[0m\u001b[0;36m2\u001b[0m\u001b[0;34m]\u001b[0m\u001b[0;34m=\u001b[0m\u001b[0;34m\"teste\"\u001b[0m\u001b[0;34m\u001b[0m\u001b[0;34m\u001b[0m\u001b[0m\n\u001b[0m\u001b[1;32m      5\u001b[0m \u001b[0mprint\u001b[0m\u001b[0;34m(\u001b[0m\u001b[0mtupla1\u001b[0m\u001b[0;34m[\u001b[0m\u001b[0;36m2\u001b[0m\u001b[0;34m]\u001b[0m\u001b[0;34m)\u001b[0m\u001b[0;34m\u001b[0m\u001b[0;34m\u001b[0m\u001b[0m\n",
            "\u001b[0;31mTypeError\u001b[0m: 'tuple' object does not support item assignment"
          ]
        }
      ]
    },
    {
      "cell_type": "markdown",
      "metadata": {
        "id": "43avopIyvWdN",
        "colab_type": "text"
      },
      "source": [
        "Dicionário: é um conjunto que tem um vínculo de chave e valor, onde a busca do valor é referenciada pela chave."
      ]
    },
    {
      "cell_type": "code",
      "metadata": {
        "id": "tC7dpjmBvwYz",
        "colab_type": "code",
        "colab": {
          "base_uri": "https://localhost:8080/",
          "height": 50
        },
        "outputId": "8352fbf3-9345-4211-c827-5d174a0a4d33"
      },
      "source": [
        "precoProduto={\"arroz\":17.30, \"feijao\":12.50, \"carne\":23.90}\n",
        "print(precoProduto)\n",
        "print(precoProduto[\"arroz\"])"
      ],
      "execution_count": 12,
      "outputs": [
        {
          "output_type": "stream",
          "text": [
            "{'arroz': 17.3, 'feijao': 12.5, 'carne': 23.9}\n",
            "17.3\n"
          ],
          "name": "stdout"
        }
      ]
    },
    {
      "cell_type": "markdown",
      "metadata": {
        "id": "5N0amQ9hwdMe",
        "colab_type": "text"
      },
      "source": [
        "# Aula_27-08-20_parte1-exer1\n"
      ]
    },
    {
      "cell_type": "markdown",
      "metadata": {
        "id": "Az2PvaBVwmXc",
        "colab_type": "text"
      },
      "source": [
        "Dada a lista L= [5, 7, 2, 9, 4,1, 3],escreva um programa que imprima as seguintes\n",
        "informações:\n"
      ]
    },
    {
      "cell_type": "code",
      "metadata": {
        "id": "YL430tyrxJ2J",
        "colab_type": "code",
        "colab": {}
      },
      "source": [
        "Lista=[5,7,2,9,4,1,3]"
      ],
      "execution_count": 14,
      "outputs": []
    },
    {
      "cell_type": "markdown",
      "metadata": {
        "id": "LI1UGy02w7s0",
        "colab_type": "text"
      },
      "source": [
        "a) tamanho dalista.\n"
      ]
    },
    {
      "cell_type": "code",
      "metadata": {
        "id": "Mg2QZOEswl0M",
        "colab_type": "code",
        "colab": {
          "base_uri": "https://localhost:8080/",
          "height": 34
        },
        "outputId": "60848440-19fc-4eed-e250-b086d1f92ca1"
      },
      "source": [
        "print(Lista)"
      ],
      "execution_count": 15,
      "outputs": [
        {
          "output_type": "stream",
          "text": [
            "[5, 7, 2, 9, 4, 1, 3]\n"
          ],
          "name": "stdout"
        }
      ]
    },
    {
      "cell_type": "markdown",
      "metadata": {
        "id": "qja1rDUew9mj",
        "colab_type": "text"
      },
      "source": [
        "b) maior valor da lista.\n"
      ]
    },
    {
      "cell_type": "code",
      "metadata": {
        "id": "sIC5ks1Pw_UU",
        "colab_type": "code",
        "colab": {
          "base_uri": "https://localhost:8080/",
          "height": 34
        },
        "outputId": "2d9b260a-ad4a-43a5-f9a9-c1de01ba0169"
      },
      "source": [
        "max(Lista)"
      ],
      "execution_count": 17,
      "outputs": [
        {
          "output_type": "execute_result",
          "data": {
            "text/plain": [
              "9"
            ]
          },
          "metadata": {
            "tags": []
          },
          "execution_count": 17
        }
      ]
    },
    {
      "cell_type": "markdown",
      "metadata": {
        "id": "55bqjoyew_lu",
        "colab_type": "text"
      },
      "source": [
        "c) menor valor da lista.\n"
      ]
    },
    {
      "cell_type": "code",
      "metadata": {
        "id": "Qu2lfP2HxCTt",
        "colab_type": "code",
        "colab": {
          "base_uri": "https://localhost:8080/",
          "height": 34
        },
        "outputId": "76a99ed4-ed45-4f77-8d43-c5d5e5d1901f"
      },
      "source": [
        "min(Lista)"
      ],
      "execution_count": 18,
      "outputs": [
        {
          "output_type": "execute_result",
          "data": {
            "text/plain": [
              "1"
            ]
          },
          "metadata": {
            "tags": []
          },
          "execution_count": 18
        }
      ]
    },
    {
      "cell_type": "markdown",
      "metadata": {
        "id": "mZWqQAswxCmb",
        "colab_type": "text"
      },
      "source": [
        "d) soma de todos os elementos dalista.\n"
      ]
    },
    {
      "cell_type": "code",
      "metadata": {
        "id": "Yf8S-zzUxEps",
        "colab_type": "code",
        "colab": {
          "base_uri": "https://localhost:8080/",
          "height": 34
        },
        "outputId": "d1795afb-c1cc-4986-aa4c-005e835dd5d8"
      },
      "source": [
        "sum(Lista)"
      ],
      "execution_count": 19,
      "outputs": [
        {
          "output_type": "execute_result",
          "data": {
            "text/plain": [
              "31"
            ]
          },
          "metadata": {
            "tags": []
          },
          "execution_count": 19
        }
      ]
    },
    {
      "cell_type": "markdown",
      "metadata": {
        "id": "6fMm7gfdxE7T",
        "colab_type": "text"
      },
      "source": [
        "e)lista em ordem crescente.\n"
      ]
    },
    {
      "cell_type": "code",
      "metadata": {
        "id": "UM31qLiKxGqM",
        "colab_type": "code",
        "colab": {
          "base_uri": "https://localhost:8080/",
          "height": 34
        },
        "outputId": "01d49bdd-3ce1-491f-b761-2fd348e3ab44"
      },
      "source": [
        "Lista.sort()\n",
        "print(Lista)"
      ],
      "execution_count": 23,
      "outputs": [
        {
          "output_type": "stream",
          "text": [
            "[1, 2, 3, 4, 5, 7, 9]\n"
          ],
          "name": "stdout"
        }
      ]
    },
    {
      "cell_type": "markdown",
      "metadata": {
        "id": "0zhrdMphxG5b",
        "colab_type": "text"
      },
      "source": [
        "f) lista em ordem decrescente."
      ]
    },
    {
      "cell_type": "code",
      "metadata": {
        "id": "9HtJMbslxHi7",
        "colab_type": "code",
        "colab": {
          "base_uri": "https://localhost:8080/",
          "height": 34
        },
        "outputId": "36d36e57-fd44-4ef6-88e3-643753de5b8c"
      },
      "source": [
        "Lista.reverse()\n",
        "print(Lista)"
      ],
      "execution_count": 24,
      "outputs": [
        {
          "output_type": "stream",
          "text": [
            "[9, 7, 5, 4, 3, 2, 1]\n"
          ],
          "name": "stdout"
        }
      ]
    },
    {
      "cell_type": "markdown",
      "metadata": {
        "id": "cPQKc83lypK4",
        "colab_type": "text"
      },
      "source": [
        "# Aula_27-08-20_parte1-exer2"
      ]
    },
    {
      "cell_type": "markdown",
      "metadata": {
        "id": "lU_z3M0Nz7Pi",
        "colab_type": "text"
      },
      "source": [
        "Escreva um programa que receba 2 valores do tipo inteiro x e y, e calcule o valor de z:\n",
        "z = (x^2+y^2)(x-y)^2"
      ]
    },
    {
      "cell_type": "code",
      "metadata": {
        "id": "7YWJxPch0HgU",
        "colab_type": "code",
        "colab": {
          "base_uri": "https://localhost:8080/",
          "height": 34
        },
        "outputId": "23ec178e-6a71-414f-eaec-8390213b5aa0"
      },
      "source": [
        "x=4.0\n",
        "y=2.0\n",
        "z=(x**2+y**2)*(x-y)**2\n",
        "print(z)"
      ],
      "execution_count": 32,
      "outputs": [
        {
          "output_type": "stream",
          "text": [
            "80.0\n"
          ],
          "name": "stdout"
        }
      ]
    },
    {
      "cell_type": "markdown",
      "metadata": {
        "id": "PiCWgtuqysts",
        "colab_type": "text"
      },
      "source": [
        "# Aula_27-08-20_parte1-exer3"
      ]
    },
    {
      "cell_type": "markdown",
      "metadata": {
        "id": "cbccXmk_zjB0",
        "colab_type": "text"
      },
      "source": [
        "Dada a tabela a seguir, crie um dicionário que a represente:\n",
        "Lanchonete\n",
        "Produtos      Preços R$\n",
        "Salgado       R$ 4.50\n",
        "Lanche        R$ 6.50\n",
        "Suco          R$ 3.00\n",
        "Refrigerante  R$ 3.50\n",
        "Doce          R$ 1.00"
      ]
    },
    {
      "cell_type": "code",
      "metadata": {
        "id": "uG0NvrLFz2nu",
        "colab_type": "code",
        "colab": {
          "base_uri": "https://localhost:8080/",
          "height": 118
        },
        "outputId": "b05a4ca8-70a1-4cf8-de27-62fdfcacee0f"
      },
      "source": [
        "lanchonete={\"salgado\":\"R$4.50\",\"lanche\":\"R$6.50\",\"suco\":\"R$3.00\",\"refrigerante\":\"R$3.50\",\"doce\":\"R$1.00\"}\n",
        "print(lanchonete[\"salgado\"])\n",
        "print(lanchonete[\"lanche\"])\n",
        "print(lanchonete[\"suco\"])\n",
        "print(lanchonete[\"refrigerante\"])\n",
        "print(lanchonete[\"doce\"])\n",
        "print(lanchonete)"
      ],
      "execution_count": 27,
      "outputs": [
        {
          "output_type": "stream",
          "text": [
            "R$4.50\n",
            "R$6.50\n",
            "R$3.00\n",
            "R$3.50\n",
            "R$1.00\n",
            "{'salgado': 'R$4.50', 'lanche': 'R$6.50', 'suco': 'R$3.00', 'refrigerante': 'R$3.50', 'doce': 'R$1.00'}\n"
          ],
          "name": "stdout"
        }
      ]
    },
    {
      "cell_type": "markdown",
      "metadata": {
        "id": "f3G5Sp9Yyx-T",
        "colab_type": "text"
      },
      "source": [
        "# Aula_27-08-20_parte1-exer4\n"
      ]
    },
    {
      "cell_type": "markdown",
      "metadata": {
        "id": "BS9U2SIVzc20",
        "colab_type": "text"
      },
      "source": [
        "Considere um dicionário com 5 nomes de alunos e suas notas. Escreva um programa que calcule a média dessas notas."
      ]
    },
    {
      "cell_type": "code",
      "metadata": {
        "id": "naSb8BTpzeUX",
        "colab_type": "code",
        "colab": {
          "base_uri": "https://localhost:8080/",
          "height": 34
        },
        "outputId": "25d08262-d7b5-4338-93f0-77a525f45cb9"
      },
      "source": [
        "notas={\"joao\":5.00,\"maria\":7.00,\"jose\":9.00,\"pedro\":7.50,\"ana\":8.50}\n",
        "media=sum(notas.values())/len(notas)\n",
        "print(media)"
      ],
      "execution_count": 36,
      "outputs": [
        {
          "output_type": "stream",
          "text": [
            "7.4\n"
          ],
          "name": "stdout"
        }
      ]
    },
    {
      "cell_type": "markdown",
      "metadata": {
        "id": "wvsG4szxy0Bb",
        "colab_type": "text"
      },
      "source": [
        "# Aula_27-08-20_parte1-exer5"
      ]
    },
    {
      "cell_type": "markdown",
      "metadata": {
        "id": "oxtsTmzjzVCs",
        "colab_type": "text"
      },
      "source": [
        "Faça um programa que leia 2 notas de um aluno, calcule a média e imprima aprovado ou reprovado(para ser aprovado a média deve ser no mínimo 6)."
      ]
    },
    {
      "cell_type": "code",
      "metadata": {
        "id": "7xH6jAtEzaNO",
        "colab_type": "code",
        "colab": {
          "base_uri": "https://localhost:8080/",
          "height": 50
        },
        "outputId": "ece050c1-6aea-4357-e81f-1ba88e8fe0d5"
      },
      "source": [
        "luis={\"P1\":7.00,\"P2\":2.00}\n",
        "media=sum(luis.values())/len(luis)\n",
        "print(media)\n",
        "if media>=6.00:\n",
        "  print(\"aprovado\")\n",
        "else:\n",
        "    print(\"reprovado\")"
      ],
      "execution_count": 46,
      "outputs": [
        {
          "output_type": "stream",
          "text": [
            "4.5\n",
            "reprovado\n"
          ],
          "name": "stdout"
        }
      ]
    },
    {
      "cell_type": "markdown",
      "metadata": {
        "id": "eayrXLNAy1Oh",
        "colab_type": "text"
      },
      "source": [
        "# Aula_27-08-20_parte1-exer6\n"
      ]
    },
    {
      "cell_type": "markdown",
      "metadata": {
        "id": "0JfeXr8AzOMU",
        "colab_type": "text"
      },
      "source": [
        "Refaça o exercício 5, identificando o conceito aprovado(média superior a 6), exame(média entre 4 e 6) ou reprovado(média inferior a 4)."
      ]
    },
    {
      "cell_type": "code",
      "metadata": {
        "id": "PXxjQTbAzT_c",
        "colab_type": "code",
        "colab": {
          "base_uri": "https://localhost:8080/",
          "height": 50
        },
        "outputId": "efa7573d-3b16-4cec-ea3a-94fcc3f84c32"
      },
      "source": [
        "luciana={\"P1\":7.00,\"P2\":6.00}\n",
        "media=sum(luciana.values())/len(luciana)\n",
        "print(media)\n",
        "if media>6.00:\n",
        "  print(\"aprovado\")\n",
        "elif media<4.00:\n",
        "    print(\"reprovado\")\n",
        "else:\n",
        "  print(\"exame\")"
      ],
      "execution_count": 51,
      "outputs": [
        {
          "output_type": "stream",
          "text": [
            "6.5\n",
            "aprovado\n"
          ],
          "name": "stdout"
        }
      ]
    },
    {
      "cell_type": "markdown",
      "metadata": {
        "id": "G1iN3BWiy3aZ",
        "colab_type": "text"
      },
      "source": [
        "# Aula_27-08-20_parte1-exer7"
      ]
    },
    {
      "cell_type": "markdown",
      "metadata": {
        "id": "Tm-aSsbZzJur",
        "colab_type": "text"
      },
      "source": [
        "Escreva um programa para encontrar a soma S = 3 + 6 + 9 +…. + 333."
      ]
    },
    {
      "cell_type": "code",
      "metadata": {
        "id": "951TktfgzNJz",
        "colab_type": "code",
        "colab": {
          "base_uri": "https://localhost:8080/",
          "height": 1000
        },
        "outputId": "f3f39d21-bf00-4d67-c1c1-43bd681c44ef"
      },
      "source": [
        "for S in range(3, 334, 3):\n",
        "  print(S) "
      ],
      "execution_count": 52,
      "outputs": [
        {
          "output_type": "stream",
          "text": [
            "3\n",
            "6\n",
            "9\n",
            "12\n",
            "15\n",
            "18\n",
            "21\n",
            "24\n",
            "27\n",
            "30\n",
            "33\n",
            "36\n",
            "39\n",
            "42\n",
            "45\n",
            "48\n",
            "51\n",
            "54\n",
            "57\n",
            "60\n",
            "63\n",
            "66\n",
            "69\n",
            "72\n",
            "75\n",
            "78\n",
            "81\n",
            "84\n",
            "87\n",
            "90\n",
            "93\n",
            "96\n",
            "99\n",
            "102\n",
            "105\n",
            "108\n",
            "111\n",
            "114\n",
            "117\n",
            "120\n",
            "123\n",
            "126\n",
            "129\n",
            "132\n",
            "135\n",
            "138\n",
            "141\n",
            "144\n",
            "147\n",
            "150\n",
            "153\n",
            "156\n",
            "159\n",
            "162\n",
            "165\n",
            "168\n",
            "171\n",
            "174\n",
            "177\n",
            "180\n",
            "183\n",
            "186\n",
            "189\n",
            "192\n",
            "195\n",
            "198\n",
            "201\n",
            "204\n",
            "207\n",
            "210\n",
            "213\n",
            "216\n",
            "219\n",
            "222\n",
            "225\n",
            "228\n",
            "231\n",
            "234\n",
            "237\n",
            "240\n",
            "243\n",
            "246\n",
            "249\n",
            "252\n",
            "255\n",
            "258\n",
            "261\n",
            "264\n",
            "267\n",
            "270\n",
            "273\n",
            "276\n",
            "279\n",
            "282\n",
            "285\n",
            "288\n",
            "291\n",
            "294\n",
            "297\n",
            "300\n",
            "303\n",
            "306\n",
            "309\n",
            "312\n",
            "315\n",
            "318\n",
            "321\n",
            "324\n",
            "327\n",
            "330\n",
            "333\n"
          ],
          "name": "stdout"
        }
      ]
    },
    {
      "cell_type": "markdown",
      "metadata": {
        "id": "xg5bvXbwy4wl",
        "colab_type": "text"
      },
      "source": [
        "# Aula_27-08-20_parte1-exer8"
      ]
    },
    {
      "cell_type": "markdown",
      "metadata": {
        "id": "JXE_gDgTzGVz",
        "colab_type": "text"
      },
      "source": [
        "Escreva um programa que leia 10 notas e informe a média dos alunos."
      ]
    },
    {
      "cell_type": "code",
      "metadata": {
        "id": "XvBtoNSyzIi0",
        "colab_type": "code",
        "colab": {
          "base_uri": "https://localhost:8080/",
          "height": 50
        },
        "outputId": "4cf5a86c-b9a7-4935-bc0a-27c94afba7d3"
      },
      "source": [
        "from numpy import random\n",
        "\n",
        "aleatorio=random.randint(10, size=(10))\n",
        "print(aleatorio)\n",
        "media=sum(aleatorio)/len(aleatorio)\n",
        "print(media)\n"
      ],
      "execution_count": 61,
      "outputs": [
        {
          "output_type": "stream",
          "text": [
            "[7 5 1 7 0 3 7 2 7 6]\n",
            "4.5\n"
          ],
          "name": "stdout"
        }
      ]
    },
    {
      "cell_type": "markdown",
      "metadata": {
        "id": "QWd8sN9Ky6Nl",
        "colab_type": "text"
      },
      "source": [
        "# Aula_27-08-20_parte1-exer9"
      ]
    },
    {
      "cell_type": "markdown",
      "metadata": {
        "id": "XpGzFtCTzDbV",
        "colab_type": "text"
      },
      "source": [
        "Escreva um programa que leia um número de 1 a 10, e mostre a tabuada desse número."
      ]
    },
    {
      "cell_type": "code",
      "metadata": {
        "id": "aBzviTYczFFr",
        "colab_type": "code",
        "colab": {
          "base_uri": "https://localhost:8080/",
          "height": 269
        },
        "outputId": "969d9df2-1527-4a1b-c479-73129e20b4f1"
      },
      "source": [
        "valor = int(input('Digite um número entre 1 a 10 para saber a tabuada: '))  \n",
        "aux = 0  \n",
        "print('*' * 18)  \n",
        "print('Tabuada de {}'.format(valor))  \n",
        "print('*' * 18)  \n",
        "while(aux <= 10):  \n",
        "  print('{0} X {1} = {2}'.format(aux, valor, (aux * valor)))  \n",
        "  aux = aux + 1 "
      ],
      "execution_count": 62,
      "outputs": [
        {
          "output_type": "stream",
          "text": [
            "Digite um número entre 1 a 10 para saber a tabuada: 4\n",
            "******************\n",
            "Tabuada de 4\n",
            "******************\n",
            "0 X 4 = 0\n",
            "1 X 4 = 4\n",
            "2 X 4 = 8\n",
            "3 X 4 = 12\n",
            "4 X 4 = 16\n",
            "5 X 4 = 20\n",
            "6 X 4 = 24\n",
            "7 X 4 = 28\n",
            "8 X 4 = 32\n",
            "9 X 4 = 36\n",
            "10 X 4 = 40\n"
          ],
          "name": "stdout"
        }
      ]
    },
    {
      "cell_type": "markdown",
      "metadata": {
        "id": "T4kYKiDwri_1",
        "colab_type": "text"
      },
      "source": [
        "# Aula_28-08-20\n"
      ]
    },
    {
      "cell_type": "code",
      "metadata": {
        "id": "qr6zrImcrpWc",
        "colab_type": "code",
        "colab": {
          "base_uri": "https://localhost:8080/",
          "height": 34
        },
        "outputId": "99ee688e-4d22-4ce8-cb91-180399492da0"
      },
      "source": [
        "import cv2\n",
        "import numpy as np\n",
        "\n",
        "altura = 100\n",
        "largura = 100\n",
        "img = np.zeros([altura,largura,3])\n",
        "\n",
        "for py in range(0,altura):\n",
        "  for px in range(0,largura):\n",
        "    img[py][px][0] = 0 # cor azul\n",
        "    img[py][px][1] = 0 # cor verde\n",
        "    img[py][px][2] = 255 # cor vermelho\n",
        "\n",
        "cv2.imwrite(\"color_img.png\",img)"
      ],
      "execution_count": null,
      "outputs": [
        {
          "output_type": "execute_result",
          "data": {
            "text/plain": [
              "True"
            ]
          },
          "metadata": {
            "tags": []
          },
          "execution_count": 14
        }
      ]
    },
    {
      "cell_type": "code",
      "metadata": {
        "id": "PY2GIqGLth0Q",
        "colab_type": "code",
        "colab": {
          "base_uri": "https://localhost:8080/",
          "height": 34
        },
        "outputId": "c9566798-9670-463d-cb90-f14eac2c507a"
      },
      "source": [
        "import cv2\n",
        "import numpy as np\n",
        "\n",
        "altura = 100\n",
        "largura = 100\n",
        "img = np.zeros([altura,largura,3])\n",
        "\n",
        "for py in range(0,altura):\n",
        "  for px in range(0,largura):\n",
        "    img[py][px][0] = 0 # cor azul\n",
        "    img[py][px][1] = 0 # cor verde\n",
        "    img[py][px][2] = 255 # cor vermelho\n",
        "\n",
        "\n",
        "img[55][55][0] = 255 # cor azul\n",
        "img[55][55][1] = 0 # cor verde\n",
        "img[55][55][2] = 0 # cor vermelho\n",
        "\n",
        "cv2.imwrite(\"color_img.png\",img)"
      ],
      "execution_count": null,
      "outputs": [
        {
          "output_type": "execute_result",
          "data": {
            "text/plain": [
              "True"
            ]
          },
          "metadata": {
            "tags": []
          },
          "execution_count": 15
        }
      ]
    },
    {
      "cell_type": "code",
      "metadata": {
        "id": "_YHPv8RJ7J17",
        "colab_type": "code",
        "colab": {
          "base_uri": "https://localhost:8080/",
          "height": 34
        },
        "outputId": "b4651c4a-f23b-43d8-b4ea-6f59120cfd6e"
      },
      "source": [
        "import cv2\n",
        "import numpy as np\n",
        "\n",
        "altura = 100\n",
        "largura = 100\n",
        "img = np.zeros([altura,largura,3])\n",
        "\n",
        "for py in range(0,altura):\n",
        "  for px in range(0,largura):\n",
        "    if (px==py):\n",
        "      img[py][px][0] = 0 # cor azul\n",
        "      img[py][px][1] = 0 # cor verde\n",
        "      img[py][px][2] = 0 # cor vermelho\n",
        "    else:\n",
        "      img[py][px][0] = 0 # cor azul\n",
        "      img[py][px][1] = 255 # cor verde\n",
        "      img[py][px][2] = 0 # cor vermelho\n",
        "\n",
        "cv2.imwrite(\"color_img.png\",img)"
      ],
      "execution_count": 37,
      "outputs": [
        {
          "output_type": "execute_result",
          "data": {
            "text/plain": [
              "True"
            ]
          },
          "metadata": {
            "tags": []
          },
          "execution_count": 37
        }
      ]
    },
    {
      "cell_type": "code",
      "metadata": {
        "id": "phkpsRtR77rD",
        "colab_type": "code",
        "colab": {
          "base_uri": "https://localhost:8080/",
          "height": 117
        },
        "outputId": "cd16b15e-9cb6-42a6-eb43-515ea9519b63"
      },
      "source": [
        "from IPython.display import Image\n",
        "filename=\"color_img.png\"\n",
        "display(Image(filename))"
      ],
      "execution_count": 39,
      "outputs": [
        {
          "output_type": "display_data",
          "data": {
            "image/png": "[encoded data removed]",
            "text/plain": [
              "<IPython.core.display.Image object>"
            ]
          },
          "metadata": {
            "tags": []
          }
        }
      ]
    },
    {
      "cell_type": "code",
      "metadata": {
        "id": "2f06TccT8iuD",
        "colab_type": "code",
        "colab": {
          "base_uri": "https://localhost:8080/",
          "height": 1000
        },
        "outputId": "6f5e7d0c-ecd6-44ea-c845-342e08782aac"
      },
      "source": [
        "import cv2\n",
        "import numpy as np\n",
        "imagem = cv2.imread(\"color_img.png\")\n",
        "altura,largura,bytesPorPixel = np.shape(imagem)\n",
        "for index in range(2):\n",
        "  if index==0:\n",
        "    print(\"Azul\")\n",
        "  elif index==1:\n",
        "    print(\"Verde\")\n",
        "  else:\n",
        "    print(\"vermelho\")\n",
        "  for py in range (0, altura):\n",
        "    for px in range (0, largura):\n",
        "      print (imagem[py][px][index], '\\t',end='')\n",
        "    print (\"\\n\")"
      ],
      "execution_count": 41,
      "outputs": [
        {
          "output_type": "stream",
          "text": [
            "Azul\n",
            "0 \t0 \t0 \t0 \t0 \t0 \t0 \t0 \t0 \t0 \t0 \t0 \t0 \t0 \t0 \t0 \t0 \t0 \t0 \t0 \t0 \t0 \t0 \t0 \t0 \t0 \t0 \t0 \t0 \t0 \t0 \t0 \t0 \t0 \t0 \t0 \t0 \t0 \t0 \t0 \t0 \t0 \t0 \t0 \t0 \t0 \t0 \t0 \t0 \t0 \t0 \t0 \t0 \t0 \t0 \t0 \t0 \t0 \t0 \t0 \t0 \t0 \t0 \t0 \t0 \t0 \t0 \t0 \t0 \t0 \t0 \t0 \t0 \t0 \t0 \t0 \t0 \t0 \t0 \t0 \t0 \t0 \t0 \t0 \t0 \t0 \t0 \t0 \t0 \t0 \t0 \t0 \t0 \t0 \t0 \t0 \t0 \t0 \t0 \t0 \t\n",
            "\n",
            "0 \t0 \t0 \t0 \t0 \t0 \t0 \t0 \t0 \t0 \t0 \t0 \t0 \t0 \t0 \t0 \t0 \t0 \t0 \t0 \t0 \t0 \t0 \t0 \t0 \t0 \t0 \t0 \t0 \t0 \t0 \t0 \t0 \t0 \t0 \t0 \t0 \t0 \t0 \t0 \t0 \t0 \t0 \t0 \t0 \t0 \t0 \t0 \t0 \t0 \t0 \t0 \t0 \t0 \t0 \t0 \t0 \t0 \t0 \t0 \t0 \t0 \t0 \t0 \t0 \t0 \t0 \t0 \t0 \t0 \t0 \t0 \t0 \t0 \t0 \t0 \t0 \t0 \t0 \t0 \t0 \t0 \t0 \t0 \t0 \t0 \t0 \t0 \t0 \t0 \t0 \t0 \t0 \t0 \t0 \t0 \t0 \t0 \t0 \t0 \t\n",
            "\n",
            "0 \t0 \t0 \t0 \t0 \t0 \t0 \t0 \t0 \t0 \t0 \t0 \t0 \t0 \t0 \t0 \t0 \t0 \t0 \t0 \t0 \t0 \t0 \t0 \t0 \t0 \t0 \t0 \t0 \t0 \t0 \t0 \t0 \t0 \t0 \t0 \t0 \t0 \t0 \t0 \t0 \t0 \t0 \t0 \t0 \t0 \t0 \t0 \t0 \t0 \t0 \t0 \t0 \t0 \t0 \t0 \t0 \t0 \t0 \t0 \t0 \t0 \t0 \t0 \t0 \t0 \t0 \t0 \t0 \t0 \t0 \t0 \t0 \t0 \t0 \t0 \t0 \t0 \t0 \t0 \t0 \t0 \t0 \t0 \t0 \t0 \t0 \t0 \t0 \t0 \t0 \t0 \t0 \t0 \t0 \t0 \t0 \t0 \t0 \t0 \t\n",
            "\n",
            "0 \t0 \t0 \t0 \t0 \t0 \t0 \t0 \t0 \t0 \t0 \t0 \t0 \t0 \t0 \t0 \t0 \t0 \t0 \t0 \t0 \t0 \t0 \t0 \t0 \t0 \t0 \t0 \t0 \t0 \t0 \t0 \t0 \t0 \t0 \t0 \t0 \t0 \t0 \t0 \t0 \t0 \t0 \t0 \t0 \t0 \t0 \t0 \t0 \t0 \t0 \t0 \t0 \t0 \t0 \t0 \t0 \t0 \t0 \t0 \t0 \t0 \t0 \t0 \t0 \t0 \t0 \t0 \t0 \t0 \t0 \t0 \t0 \t0 \t0 \t0 \t0 \t0 \t0 \t0 \t0 \t0 \t0 \t0 \t0 \t0 \t0 \t0 \t0 \t0 \t0 \t0 \t0 \t0 \t0 \t0 \t0 \t0 \t0 \t0 \t\n",
            "\n",
            "0 \t0 \t0 \t0 \t0 \t0 \t0 \t0 \t0 \t0 \t0 \t0 \t0 \t0 \t0 \t0 \t0 \t0 \t0 \t0 \t0 \t0 \t0 \t0 \t0 \t0 \t0 \t0 \t0 \t0 \t0 \t0 \t0 \t0 \t0 \t0 \t0 \t0 \t0 \t0 \t0 \t0 \t0 \t0 \t0 \t0 \t0 \t0 \t0 \t0 \t0 \t0 \t0 \t0 \t0 \t0 \t0 \t0 \t0 \t0 \t0 \t0 \t0 \t0 \t0 \t0 \t0 \t0 \t0 \t0 \t0 \t0 \t0 \t0 \t0 \t0 \t0 \t0 \t0 \t0 \t0 \t0 \t0 \t0 \t0 \t0 \t0 \t0 \t0 \t0 \t0 \t0 \t0 \t0 \t0 \t0 \t0 \t0 \t0 \t0 \t\n",
            "\n",
            "0 \t0 \t0 \t0 \t0 \t0 \t0 \t0 \t0 \t0 \t0 \t0 \t0 \t0 \t0 \t0 \t0 \t0 \t0 \t0 \t0 \t0 \t0 \t0 \t0 \t0 \t0 \t0 \t0 \t0 \t0 \t0 \t0 \t0 \t0 \t0 \t0 \t0 \t0 \t0 \t0 \t0 \t0 \t0 \t0 \t0 \t0 \t0 \t0 \t0 \t0 \t0 \t0 \t0 \t0 \t0 \t0 \t0 \t0 \t0 \t0 \t0 \t0 \t0 \t0 \t0 \t0 \t0 \t0 \t0 \t0 \t0 \t0 \t0 \t0 \t0 \t0 \t0 \t0 \t0 \t0 \t0 \t0 \t0 \t0 \t0 \t0 \t0 \t0 \t0 \t0 \t0 \t0 \t0 \t0 \t0 \t0 \t0 \t0 \t0 \t\n",
            "\n",
            "0 \t0 \t0 \t0 \t0 \t0 \t0 \t0 \t0 \t0 \t0 \t0 \t0 \t0 \t0 \t0 \t0 \t0 \t0 \t0 \t0 \t0 \t0 \t0 \t0 \t0 \t0 \t0 \t0 \t0 \t0 \t0 \t0 \t0 \t0 \t0 \t0 \t0 \t0 \t0 \t0 \t0 \t0 \t0 \t0 \t0 \t0 \t0 \t0 \t0 \t0 \t0 \t0 \t0 \t0 \t0 \t0 \t0 \t0 \t0 \t0 \t0 \t0 \t0 \t0 \t0 \t0 \t0 \t0 \t0 \t0 \t0 \t0 \t0 \t0 \t0 \t0 \t0 \t0 \t0 \t0 \t0 \t0 \t0 \t0 \t0 \t0 \t0 \t0 \t0 \t0 \t0 \t0 \t0 \t0 \t0 \t0 \t0 \t0 \t0 \t\n",
            "\n",
            "0 \t0 \t0 \t0 \t0 \t0 \t0 \t0 \t0 \t0 \t0 \t0 \t0 \t0 \t0 \t0 \t0 \t0 \t0 \t0 \t0 \t0 \t0 \t0 \t0 \t0 \t0 \t0 \t0 \t0 \t0 \t0 \t0 \t0 \t0 \t0 \t0 \t0 \t0 \t0 \t0 \t0 \t0 \t0 \t0 \t0 \t0 \t0 \t0 \t0 \t0 \t0 \t0 \t0 \t0 \t0 \t0 \t0 \t0 \t0 \t0 \t0 \t0 \t0 \t0 \t0 \t0 \t0 \t0 \t0 \t0 \t0 \t0 \t0 \t0 \t0 \t0 \t0 \t0 \t0 \t0 \t0 \t0 \t0 \t0 \t0 \t0 \t0 \t0 \t0 \t0 \t0 \t0 \t0 \t0 \t0 \t0 \t0 \t0 \t0 \t\n",
            "\n",
            "0 \t0 \t0 \t0 \t0 \t0 \t0 \t0 \t0 \t0 \t0 \t0 \t0 \t0 \t0 \t0 \t0 \t0 \t0 \t0 \t0 \t0 \t0 \t0 \t0 \t0 \t0 \t0 \t0 \t0 \t0 \t0 \t0 \t0 \t0 \t0 \t0 \t0 \t0 \t0 \t0 \t0 \t0 \t0 \t0 \t0 \t0 \t0 \t0 \t0 \t0 \t0 \t0 \t0 \t0 \t0 \t0 \t0 \t0 \t0 \t0 \t0 \t0 \t0 \t0 \t0 \t0 \t0 \t0 \t0 \t0 \t0 \t0 \t0 \t0 \t0 \t0 \t0 \t0 \t0 \t0 \t0 \t0 \t0 \t0 \t0 \t0 \t0 \t0 \t0 \t0 \t0 \t0 \t0 \t0 \t0 \t0 \t0 \t0 \t0 \t\n",
            "\n",
            "0 \t0 \t0 \t0 \t0 \t0 \t0 \t0 \t0 \t0 \t0 \t0 \t0 \t0 \t0 \t0 \t0 \t0 \t0 \t0 \t0 \t0 \t0 \t0 \t0 \t0 \t0 \t0 \t0 \t0 \t0 \t0 \t0 \t0 \t0 \t0 \t0 \t0 \t0 \t0 \t0 \t0 \t0 \t0 \t0 \t0 \t0 \t0 \t0 \t0 \t0 \t0 \t0 \t0 \t0 \t0 \t0 \t0 \t0 \t0 \t0 \t0 \t0 \t0 \t0 \t0 \t0 \t0 \t0 \t0 \t0 \t0 \t0 \t0 \t0 \t0 \t0 \t0 \t0 \t0 \t0 \t0 \t0 \t0 \t0 \t0 \t0 \t0 \t0 \t0 \t0 \t0 \t0 \t0 \t0 \t0 \t0 \t0 \t0 \t0 \t\n",
            "\n",
            "0 \t0 \t0 \t0 \t0 \t0 \t0 \t0 \t0 \t0 \t0 \t0 \t0 \t0 \t0 \t0 \t0 \t0 \t0 \t0 \t0 \t0 \t0 \t0 \t0 \t0 \t0 \t0 \t0 \t0 \t0 \t0 \t0 \t0 \t0 \t0 \t0 \t0 \t0 \t0 \t0 \t0 \t0 \t0 \t0 \t0 \t0 \t0 \t0 \t0 \t0 \t0 \t0 \t0 \t0 \t0 \t0 \t0 \t0 \t0 \t0 \t0 \t0 \t0 \t0 \t0 \t0 \t0 \t0 \t0 \t0 \t0 \t0 \t0 \t0 \t0 \t0 \t0 \t0 \t0 \t0 \t0 \t0 \t0 \t0 \t0 \t0 \t0 \t0 \t0 \t0 \t0 \t0 \t0 \t0 \t0 \t0 \t0 \t0 \t0 \t\n",
            "\n",
            "0 \t0 \t0 \t0 \t0 \t0 \t0 \t0 \t0 \t0 \t0 \t0 \t0 \t0 \t0 \t0 \t0 \t0 \t0 \t0 \t0 \t0 \t0 \t0 \t0 \t0 \t0 \t0 \t0 \t0 \t0 \t0 \t0 \t0 \t0 \t0 \t0 \t0 \t0 \t0 \t0 \t0 \t0 \t0 \t0 \t0 \t0 \t0 \t0 \t0 \t0 \t0 \t0 \t0 \t0 \t0 \t0 \t0 \t0 \t0 \t0 \t0 \t0 \t0 \t0 \t0 \t0 \t0 \t0 \t0 \t0 \t0 \t0 \t0 \t0 \t0 \t0 \t0 \t0 \t0 \t0 \t0 \t0 \t0 \t0 \t0 \t0 \t0 \t0 \t0 \t0 \t0 \t0 \t0 \t0 \t0 \t0 \t0 \t0 \t0 \t\n",
            "\n",
            "0 \t0 \t0 \t0 \t0 \t0 \t0 \t0 \t0 \t0 \t0 \t0 \t0 \t0 \t0 \t0 \t0 \t0 \t0 \t0 \t0 \t0 \t0 \t0 \t0 \t0 \t0 \t0 \t0 \t0 \t0 \t0 \t0 \t0 \t0 \t0 \t0 \t0 \t0 \t0 \t0 \t0 \t0 \t0 \t0 \t0 \t0 \t0 \t0 \t0 \t0 \t0 \t0 \t0 \t0 \t0 \t0 \t0 \t0 \t0 \t0 \t0 \t0 \t0 \t0 \t0 \t0 \t0 \t0 \t0 \t0 \t0 \t0 \t0 \t0 \t0 \t0 \t0 \t0 \t0 \t0 \t0 \t0 \t0 \t0 \t0 \t0 \t0 \t0 \t0 \t0 \t0 \t0 \t0 \t0 \t0 \t0 \t0 \t0 \t0 \t\n",
            "\n",
            "0 \t0 \t0 \t0 \t0 \t0 \t0 \t0 \t0 \t0 \t0 \t0 \t0 \t0 \t0 \t0 \t0 \t0 \t0 \t0 \t0 \t0 \t0 \t0 \t0 \t0 \t0 \t0 \t0 \t0 \t0 \t0 \t0 \t0 \t0 \t0 \t0 \t0 \t0 \t0 \t0 \t0 \t0 \t0 \t0 \t0 \t0 \t0 \t0 \t0 \t0 \t0 \t0 \t0 \t0 \t0 \t0 \t0 \t0 \t0 \t0 \t0 \t0 \t0 \t0 \t0 \t0 \t0 \t0 \t0 \t0 \t0 \t0 \t0 \t0 \t0 \t0 \t0 \t0 \t0 \t0 \t0 \t0 \t0 \t0 \t0 \t0 \t0 \t0 \t0 \t0 \t0 \t0 \t0 \t0 \t0 \t0 \t0 \t0 \t0 \t\n",
            "\n",
            "0 \t0 \t0 \t0 \t0 \t0 \t0 \t0 \t0 \t0 \t0 \t0 \t0 \t0 \t0 \t0 \t0 \t0 \t0 \t0 \t0 \t0 \t0 \t0 \t0 \t0 \t0 \t0 \t0 \t0 \t0 \t0 \t0 \t0 \t0 \t0 \t0 \t0 \t0 \t0 \t0 \t0 \t0 \t0 \t0 \t0 \t0 \t0 \t0 \t0 \t0 \t0 \t0 \t0 \t0 \t0 \t0 \t0 \t0 \t0 \t0 \t0 \t0 \t0 \t0 \t0 \t0 \t0 \t0 \t0 \t0 \t0 \t0 \t0 \t0 \t0 \t0 \t0 \t0 \t0 \t0 \t0 \t0 \t0 \t0 \t0 \t0 \t0 \t0 \t0 \t0 \t0 \t0 \t0 \t0 \t0 \t0 \t0 \t0 \t0 \t\n",
            "\n",
            "0 \t0 \t0 \t0 \t0 \t0 \t0 \t0 \t0 \t0 \t0 \t0 \t0 \t0 \t0 \t0 \t0 \t0 \t0 \t0 \t0 \t0 \t0 \t0 \t0 \t0 \t0 \t0 \t0 \t0 \t0 \t0 \t0 \t0 \t0 \t0 \t0 \t0 \t0 \t0 \t0 \t0 \t0 \t0 \t0 \t0 \t0 \t0 \t0 \t0 \t0 \t0 \t0 \t0 \t0 \t0 \t0 \t0 \t0 \t0 \t0 \t0 \t0 \t0 \t0 \t0 \t0 \t0 \t0 \t0 \t0 \t0 \t0 \t0 \t0 \t0 \t0 \t0 \t0 \t0 \t0 \t0 \t0 \t0 \t0 \t0 \t0 \t0 \t0 \t0 \t0 \t0 \t0 \t0 \t0 \t0 \t0 \t0 \t0 \t0 \t\n",
            "\n",
            "0 \t0 \t0 \t0 \t0 \t0 \t0 \t0 \t0 \t0 \t0 \t0 \t0 \t0 \t0 \t0 \t0 \t0 \t0 \t0 \t0 \t0 \t0 \t0 \t0 \t0 \t0 \t0 \t0 \t0 \t0 \t0 \t0 \t0 \t0 \t0 \t0 \t0 \t0 \t0 \t0 \t0 \t0 \t0 \t0 \t0 \t0 \t0 \t0 \t0 \t0 \t0 \t0 \t0 \t0 \t0 \t0 \t0 \t0 \t0 \t0 \t0 \t0 \t0 \t0 \t0 \t0 \t0 \t0 \t0 \t0 \t0 \t0 \t0 \t0 \t0 \t0 \t0 \t0 \t0 \t0 \t0 \t0 \t0 \t0 \t0 \t0 \t0 \t0 \t0 \t0 \t0 \t0 \t0 \t0 \t0 \t0 \t0 \t0 \t0 \t\n",
            "\n",
            "0 \t0 \t0 \t0 \t0 \t0 \t0 \t0 \t0 \t0 \t0 \t0 \t0 \t0 \t0 \t0 \t0 \t0 \t0 \t0 \t0 \t0 \t0 \t0 \t0 \t0 \t0 \t0 \t0 \t0 \t0 \t0 \t0 \t0 \t0 \t0 \t0 \t0 \t0 \t0 \t0 \t0 \t0 \t0 \t0 \t0 \t0 \t0 \t0 \t0 \t0 \t0 \t0 \t0 \t0 \t0 \t0 \t0 \t0 \t0 \t0 \t0 \t0 \t0 \t0 \t0 \t0 \t0 \t0 \t0 \t0 \t0 \t0 \t0 \t0 \t0 \t0 \t0 \t0 \t0 \t0 \t0 \t0 \t0 \t0 \t0 \t0 \t0 \t0 \t0 \t0 \t0 \t0 \t0 \t0 \t0 \t0 \t0 \t0 \t0 \t\n",
            "\n",
            "0 \t0 \t0 \t0 \t0 \t0 \t0 \t0 \t0 \t0 \t0 \t0 \t0 \t0 \t0 \t0 \t0 \t0 \t0 \t0 \t0 \t0 \t0 \t0 \t0 \t0 \t0 \t0 \t0 \t0 \t0 \t0 \t0 \t0 \t0 \t0 \t0 \t0 \t0 \t0 \t0 \t0 \t0 \t0 \t0 \t0 \t0 \t0 \t0 \t0 \t0 \t0 \t0 \t0 \t0 \t0 \t0 \t0 \t0 \t0 \t0 \t0 \t0 \t0 \t0 \t0 \t0 \t0 \t0 \t0 \t0 \t0 \t0 \t0 \t0 \t0 \t0 \t0 \t0 \t0 \t0 \t0 \t0 \t0 \t0 \t0 \t0 \t0 \t0 \t0 \t0 \t0 \t0 \t0 \t0 \t0 \t0 \t0 \t0 \t0 \t\n",
            "\n",
            "0 \t0 \t0 \t0 \t0 \t0 \t0 \t0 \t0 \t0 \t0 \t0 \t0 \t0 \t0 \t0 \t0 \t0 \t0 \t0 \t0 \t0 \t0 \t0 \t0 \t0 \t0 \t0 \t0 \t0 \t0 \t0 \t0 \t0 \t0 \t0 \t0 \t0 \t0 \t0 \t0 \t0 \t0 \t0 \t0 \t0 \t0 \t0 \t0 \t0 \t0 \t0 \t0 \t0 \t0 \t0 \t0 \t0 \t0 \t0 \t0 \t0 \t0 \t0 \t0 \t0 \t0 \t0 \t0 \t0 \t0 \t0 \t0 \t0 \t0 \t0 \t0 \t0 \t0 \t0 \t0 \t0 \t0 \t0 \t0 \t0 \t0 \t0 \t0 \t0 \t0 \t0 \t0 \t0 \t0 \t0 \t0 \t0 \t0 \t0 \t\n",
            "\n",
            "0 \t0 \t0 \t0 \t0 \t0 \t0 \t0 \t0 \t0 \t0 \t0 \t0 \t0 \t0 \t0 \t0 \t0 \t0 \t0 \t0 \t0 \t0 \t0 \t0 \t0 \t0 \t0 \t0 \t0 \t0 \t0 \t0 \t0 \t0 \t0 \t0 \t0 \t0 \t0 \t0 \t0 \t0 \t0 \t0 \t0 \t0 \t0 \t0 \t0 \t0 \t0 \t0 \t0 \t0 \t0 \t0 \t0 \t0 \t0 \t0 \t0 \t0 \t0 \t0 \t0 \t0 \t0 \t0 \t0 \t0 \t0 \t0 \t0 \t0 \t0 \t0 \t0 \t0 \t0 \t0 \t0 \t0 \t0 \t0 \t0 \t0 \t0 \t0 \t0 \t0 \t0 \t0 \t0 \t0 \t0 \t0 \t0 \t0 \t0 \t\n",
            "\n",
            "0 \t0 \t0 \t0 \t0 \t0 \t0 \t0 \t0 \t0 \t0 \t0 \t0 \t0 \t0 \t0 \t0 \t0 \t0 \t0 \t0 \t0 \t0 \t0 \t0 \t0 \t0 \t0 \t0 \t0 \t0 \t0 \t0 \t0 \t0 \t0 \t0 \t0 \t0 \t0 \t0 \t0 \t0 \t0 \t0 \t0 \t0 \t0 \t0 \t0 \t0 \t0 \t0 \t0 \t0 \t0 \t0 \t0 \t0 \t0 \t0 \t0 \t0 \t0 \t0 \t0 \t0 \t0 \t0 \t0 \t0 \t0 \t0 \t0 \t0 \t0 \t0 \t0 \t0 \t0 \t0 \t0 \t0 \t0 \t0 \t0 \t0 \t0 \t0 \t0 \t0 \t0 \t0 \t0 \t0 \t0 \t0 \t0 \t0 \t0 \t\n",
            "\n",
            "0 \t0 \t0 \t0 \t0 \t0 \t0 \t0 \t0 \t0 \t0 \t0 \t0 \t0 \t0 \t0 \t0 \t0 \t0 \t0 \t0 \t0 \t0 \t0 \t0 \t0 \t0 \t0 \t0 \t0 \t0 \t0 \t0 \t0 \t0 \t0 \t0 \t0 \t0 \t0 \t0 \t0 \t0 \t0 \t0 \t0 \t0 \t0 \t0 \t0 \t0 \t0 \t0 \t0 \t0 \t0 \t0 \t0 \t0 \t0 \t0 \t0 \t0 \t0 \t0 \t0 \t0 \t0 \t0 \t0 \t0 \t0 \t0 \t0 \t0 \t0 \t0 \t0 \t0 \t0 \t0 \t0 \t0 \t0 \t0 \t0 \t0 \t0 \t0 \t0 \t0 \t0 \t0 \t0 \t0 \t0 \t0 \t0 \t0 \t0 \t\n",
            "\n",
            "0 \t0 \t0 \t0 \t0 \t0 \t0 \t0 \t0 \t0 \t0 \t0 \t0 \t0 \t0 \t0 \t0 \t0 \t0 \t0 \t0 \t0 \t0 \t0 \t0 \t0 \t0 \t0 \t0 \t0 \t0 \t0 \t0 \t0 \t0 \t0 \t0 \t0 \t0 \t0 \t0 \t0 \t0 \t0 \t0 \t0 \t0 \t0 \t0 \t0 \t0 \t0 \t0 \t0 \t0 \t0 \t0 \t0 \t0 \t0 \t0 \t0 \t0 \t0 \t0 \t0 \t0 \t0 \t0 \t0 \t0 \t0 \t0 \t0 \t0 \t0 \t0 \t0 \t0 \t0 \t0 \t0 \t0 \t0 \t0 \t0 \t0 \t0 \t0 \t0 \t0 \t0 \t0 \t0 \t0 \t0 \t0 \t0 \t0 \t0 \t\n",
            "\n",
            "0 \t0 \t0 \t0 \t0 \t0 \t0 \t0 \t0 \t0 \t0 \t0 \t0 \t0 \t0 \t0 \t0 \t0 \t0 \t0 \t0 \t0 \t0 \t0 \t0 \t0 \t0 \t0 \t0 \t0 \t0 \t0 \t0 \t0 \t0 \t0 \t0 \t0 \t0 \t0 \t0 \t0 \t0 \t0 \t0 \t0 \t0 \t0 \t0 \t0 \t0 \t0 \t0 \t0 \t0 \t0 \t0 \t0 \t0 \t0 \t0 \t0 \t0 \t0 \t0 \t0 \t0 \t0 \t0 \t0 \t0 \t0 \t0 \t0 \t0 \t0 \t0 \t0 \t0 \t0 \t0 \t0 \t0 \t0 \t0 \t0 \t0 \t0 \t0 \t0 \t0 \t0 \t0 \t0 \t0 \t0 \t0 \t0 \t0 \t0 \t\n",
            "\n",
            "0 \t0 \t0 \t0 \t0 \t0 \t0 \t0 \t0 \t0 \t0 \t0 \t0 \t0 \t0 \t0 \t0 \t0 \t0 \t0 \t0 \t0 \t0 \t0 \t0 \t0 \t0 \t0 \t0 \t0 \t0 \t0 \t0 \t0 \t0 \t0 \t0 \t0 \t0 \t0 \t0 \t0 \t0 \t0 \t0 \t0 \t0 \t0 \t0 \t0 \t0 \t0 \t0 \t0 \t0 \t0 \t0 \t0 \t0 \t0 \t0 \t0 \t0 \t0 \t0 \t0 \t0 \t0 \t0 \t0 \t0 \t0 \t0 \t0 \t0 \t0 \t0 \t0 \t0 \t0 \t0 \t0 \t0 \t0 \t0 \t0 \t0 \t0 \t0 \t0 \t0 \t0 \t0 \t0 \t0 \t0 \t0 \t0 \t0 \t0 \t\n",
            "\n",
            "0 \t0 \t0 \t0 \t0 \t0 \t0 \t0 \t0 \t0 \t0 \t0 \t0 \t0 \t0 \t0 \t0 \t0 \t0 \t0 \t0 \t0 \t0 \t0 \t0 \t0 \t0 \t0 \t0 \t0 \t0 \t0 \t0 \t0 \t0 \t0 \t0 \t0 \t0 \t0 \t0 \t0 \t0 \t0 \t0 \t0 \t0 \t0 \t0 \t0 \t0 \t0 \t0 \t0 \t0 \t0 \t0 \t0 \t0 \t0 \t0 \t0 \t0 \t0 \t0 \t0 \t0 \t0 \t0 \t0 \t0 \t0 \t0 \t0 \t0 \t0 \t0 \t0 \t0 \t0 \t0 \t0 \t0 \t0 \t0 \t0 \t0 \t0 \t0 \t0 \t0 \t0 \t0 \t0 \t0 \t0 \t0 \t0 \t0 \t0 \t\n",
            "\n",
            "0 \t0 \t0 \t0 \t0 \t0 \t0 \t0 \t0 \t0 \t0 \t0 \t0 \t0 \t0 \t0 \t0 \t0 \t0 \t0 \t0 \t0 \t0 \t0 \t0 \t0 \t0 \t0 \t0 \t0 \t0 \t0 \t0 \t0 \t0 \t0 \t0 \t0 \t0 \t0 \t0 \t0 \t0 \t0 \t0 \t0 \t0 \t0 \t0 \t0 \t0 \t0 \t0 \t0 \t0 \t0 \t0 \t0 \t0 \t0 \t0 \t0 \t0 \t0 \t0 \t0 \t0 \t0 \t0 \t0 \t0 \t0 \t0 \t0 \t0 \t0 \t0 \t0 \t0 \t0 \t0 \t0 \t0 \t0 \t0 \t0 \t0 \t0 \t0 \t0 \t0 \t0 \t0 \t0 \t0 \t0 \t0 \t0 \t0 \t0 \t\n",
            "\n",
            "0 \t0 \t0 \t0 \t0 \t0 \t0 \t0 \t0 \t0 \t0 \t0 \t0 \t0 \t0 \t0 \t0 \t0 \t0 \t0 \t0 \t0 \t0 \t0 \t0 \t0 \t0 \t0 \t0 \t0 \t0 \t0 \t0 \t0 \t0 \t0 \t0 \t0 \t0 \t0 \t0 \t0 \t0 \t0 \t0 \t0 \t0 \t0 \t0 \t0 \t0 \t0 \t0 \t0 \t0 \t0 \t0 \t0 \t0 \t0 \t0 \t0 \t0 \t0 \t0 \t0 \t0 \t0 \t0 \t0 \t0 \t0 \t0 \t0 \t0 \t0 \t0 \t0 \t0 \t0 \t0 \t0 \t0 \t0 \t0 \t0 \t0 \t0 \t0 \t0 \t0 \t0 \t0 \t0 \t0 \t0 \t0 \t0 \t0 \t0 \t\n",
            "\n",
            "0 \t0 \t0 \t0 \t0 \t0 \t0 \t0 \t0 \t0 \t0 \t0 \t0 \t0 \t0 \t0 \t0 \t0 \t0 \t0 \t0 \t0 \t0 \t0 \t0 \t0 \t0 \t0 \t0 \t0 \t0 \t0 \t0 \t0 \t0 \t0 \t0 \t0 \t0 \t0 \t0 \t0 \t0 \t0 \t0 \t0 \t0 \t0 \t0 \t0 \t0 \t0 \t0 \t0 \t0 \t0 \t0 \t0 \t0 \t0 \t0 \t0 \t0 \t0 \t0 \t0 \t0 \t0 \t0 \t0 \t0 \t0 \t0 \t0 \t0 \t0 \t0 \t0 \t0 \t0 \t0 \t0 \t0 \t0 \t0 \t0 \t0 \t0 \t0 \t0 \t0 \t0 \t0 \t0 \t0 \t0 \t0 \t0 \t0 \t0 \t\n",
            "\n",
            "0 \t0 \t0 \t0 \t0 \t0 \t0 \t0 \t0 \t0 \t0 \t0 \t0 \t0 \t0 \t0 \t0 \t0 \t0 \t0 \t0 \t0 \t0 \t0 \t0 \t0 \t0 \t0 \t0 \t0 \t0 \t0 \t0 \t0 \t0 \t0 \t0 \t0 \t0 \t0 \t0 \t0 \t0 \t0 \t0 \t0 \t0 \t0 \t0 \t0 \t0 \t0 \t0 \t0 \t0 \t0 \t0 \t0 \t0 \t0 \t0 \t0 \t0 \t0 \t0 \t0 \t0 \t0 \t0 \t0 \t0 \t0 \t0 \t0 \t0 \t0 \t0 \t0 \t0 \t0 \t0 \t0 \t0 \t0 \t0 \t0 \t0 \t0 \t0 \t0 \t0 \t0 \t0 \t0 \t0 \t0 \t0 \t0 \t0 \t0 \t\n",
            "\n",
            "0 \t0 \t0 \t0 \t0 \t0 \t0 \t0 \t0 \t0 \t0 \t0 \t0 \t0 \t0 \t0 \t0 \t0 \t0 \t0 \t0 \t0 \t0 \t0 \t0 \t0 \t0 \t0 \t0 \t0 \t0 \t0 \t0 \t0 \t0 \t0 \t0 \t0 \t0 \t0 \t0 \t0 \t0 \t0 \t0 \t0 \t0 \t0 \t0 \t0 \t0 \t0 \t0 \t0 \t0 \t0 \t0 \t0 \t0 \t0 \t0 \t0 \t0 \t0 \t0 \t0 \t0 \t0 \t0 \t0 \t0 \t0 \t0 \t0 \t0 \t0 \t0 \t0 \t0 \t0 \t0 \t0 \t0 \t0 \t0 \t0 \t0 \t0 \t0 \t0 \t0 \t0 \t0 \t0 \t0 \t0 \t0 \t0 \t0 \t0 \t\n",
            "\n",
            "0 \t0 \t0 \t0 \t0 \t0 \t0 \t0 \t0 \t0 \t0 \t0 \t0 \t0 \t0 \t0 \t0 \t0 \t0 \t0 \t0 \t0 \t0 \t0 \t0 \t0 \t0 \t0 \t0 \t0 \t0 \t0 \t0 \t0 \t0 \t0 \t0 \t0 \t0 \t0 \t0 \t0 \t0 \t0 \t0 \t0 \t0 \t0 \t0 \t0 \t0 \t0 \t0 \t0 \t0 \t0 \t0 \t0 \t0 \t0 \t0 \t0 \t0 \t0 \t0 \t0 \t0 \t0 \t0 \t0 \t0 \t0 \t0 \t0 \t0 \t0 \t0 \t0 \t0 \t0 \t0 \t0 \t0 \t0 \t0 \t0 \t0 \t0 \t0 \t0 \t0 \t0 \t0 \t0 \t0 \t0 \t0 \t0 \t0 \t0 \t\n",
            "\n",
            "0 \t0 \t0 \t0 \t0 \t0 \t0 \t0 \t0 \t0 \t0 \t0 \t0 \t0 \t0 \t0 \t0 \t0 \t0 \t0 \t0 \t0 \t0 \t0 \t0 \t0 \t0 \t0 \t0 \t0 \t0 \t0 \t0 \t0 \t0 \t0 \t0 \t0 \t0 \t0 \t0 \t0 \t0 \t0 \t0 \t0 \t0 \t0 \t0 \t0 \t0 \t0 \t0 \t0 \t0 \t0 \t0 \t0 \t0 \t0 \t0 \t0 \t0 \t0 \t0 \t0 \t0 \t0 \t0 \t0 \t0 \t0 \t0 \t0 \t0 \t0 \t0 \t0 \t0 \t0 \t0 \t0 \t0 \t0 \t0 \t0 \t0 \t0 \t0 \t0 \t0 \t0 \t0 \t0 \t0 \t0 \t0 \t0 \t0 \t0 \t\n",
            "\n",
            "0 \t0 \t0 \t0 \t0 \t0 \t0 \t0 \t0 \t0 \t0 \t0 \t0 \t0 \t0 \t0 \t0 \t0 \t0 \t0 \t0 \t0 \t0 \t0 \t0 \t0 \t0 \t0 \t0 \t0 \t0 \t0 \t0 \t0 \t0 \t0 \t0 \t0 \t0 \t0 \t0 \t0 \t0 \t0 \t0 \t0 \t0 \t0 \t0 \t0 \t0 \t0 \t0 \t0 \t0 \t0 \t0 \t0 \t0 \t0 \t0 \t0 \t0 \t0 \t0 \t0 \t0 \t0 \t0 \t0 \t0 \t0 \t0 \t0 \t0 \t0 \t0 \t0 \t0 \t0 \t0 \t0 \t0 \t0 \t0 \t0 \t0 \t0 \t0 \t0 \t0 \t0 \t0 \t0 \t0 \t0 \t0 \t0 \t0 \t0 \t\n",
            "\n",
            "0 \t0 \t0 \t0 \t0 \t0 \t0 \t0 \t0 \t0 \t0 \t0 \t0 \t0 \t0 \t0 \t0 \t0 \t0 \t0 \t0 \t0 \t0 \t0 \t0 \t0 \t0 \t0 \t0 \t0 \t0 \t0 \t0 \t0 \t0 \t0 \t0 \t0 \t0 \t0 \t0 \t0 \t0 \t0 \t0 \t0 \t0 \t0 \t0 \t0 \t0 \t0 \t0 \t0 \t0 \t0 \t0 \t0 \t0 \t0 \t0 \t0 \t0 \t0 \t0 \t0 \t0 \t0 \t0 \t0 \t0 \t0 \t0 \t0 \t0 \t0 \t0 \t0 \t0 \t0 \t0 \t0 \t0 \t0 \t0 \t0 \t0 \t0 \t0 \t0 \t0 \t0 \t0 \t0 \t0 \t0 \t0 \t0 \t0 \t0 \t\n",
            "\n",
            "0 \t0 \t0 \t0 \t0 \t0 \t0 \t0 \t0 \t0 \t0 \t0 \t0 \t0 \t0 \t0 \t0 \t0 \t0 \t0 \t0 \t0 \t0 \t0 \t0 \t0 \t0 \t0 \t0 \t0 \t0 \t0 \t0 \t0 \t0 \t0 \t0 \t0 \t0 \t0 \t0 \t0 \t0 \t0 \t0 \t0 \t0 \t0 \t0 \t0 \t0 \t0 \t0 \t0 \t0 \t0 \t0 \t0 \t0 \t0 \t0 \t0 \t0 \t0 \t0 \t0 \t0 \t0 \t0 \t0 \t0 \t0 \t0 \t0 \t0 \t0 \t0 \t0 \t0 \t0 \t0 \t0 \t0 \t0 \t0 \t0 \t0 \t0 \t0 \t0 \t0 \t0 \t0 \t0 \t0 \t0 \t0 \t0 \t0 \t0 \t\n",
            "\n",
            "0 \t0 \t0 \t0 \t0 \t0 \t0 \t0 \t0 \t0 \t0 \t0 \t0 \t0 \t0 \t0 \t0 \t0 \t0 \t0 \t0 \t0 \t0 \t0 \t0 \t0 \t0 \t0 \t0 \t0 \t0 \t0 \t0 \t0 \t0 \t0 \t0 \t0 \t0 \t0 \t0 \t0 \t0 \t0 \t0 \t0 \t0 \t0 \t0 \t0 \t0 \t0 \t0 \t0 \t0 \t0 \t0 \t0 \t0 \t0 \t0 \t0 \t0 \t0 \t0 \t0 \t0 \t0 \t0 \t0 \t0 \t0 \t0 \t0 \t0 \t0 \t0 \t0 \t0 \t0 \t0 \t0 \t0 \t0 \t0 \t0 \t0 \t0 \t0 \t0 \t0 \t0 \t0 \t0 \t0 \t0 \t0 \t0 \t0 \t0 \t\n",
            "\n",
            "0 \t0 \t0 \t0 \t0 \t0 \t0 \t0 \t0 \t0 \t0 \t0 \t0 \t0 \t0 \t0 \t0 \t0 \t0 \t0 \t0 \t0 \t0 \t0 \t0 \t0 \t0 \t0 \t0 \t0 \t0 \t0 \t0 \t0 \t0 \t0 \t0 \t0 \t0 \t0 \t0 \t0 \t0 \t0 \t0 \t0 \t0 \t0 \t0 \t0 \t0 \t0 \t0 \t0 \t0 \t0 \t0 \t0 \t0 \t0 \t0 \t0 \t0 \t0 \t0 \t0 \t0 \t0 \t0 \t0 \t0 \t0 \t0 \t0 \t0 \t0 \t0 \t0 \t0 \t0 \t0 \t0 \t0 \t0 \t0 \t0 \t0 \t0 \t0 \t0 \t0 \t0 \t0 \t0 \t0 \t0 \t0 \t0 \t0 \t0 \t\n",
            "\n",
            "0 \t0 \t0 \t0 \t0 \t0 \t0 \t0 \t0 \t0 \t0 \t0 \t0 \t0 \t0 \t0 \t0 \t0 \t0 \t0 \t0 \t0 \t0 \t0 \t0 \t0 \t0 \t0 \t0 \t0 \t0 \t0 \t0 \t0 \t0 \t0 \t0 \t0 \t0 \t0 \t0 \t0 \t0 \t0 \t0 \t0 \t0 \t0 \t0 \t0 \t0 \t0 \t0 \t0 \t0 \t0 \t0 \t0 \t0 \t0 \t0 \t0 \t0 \t0 \t0 \t0 \t0 \t0 \t0 \t0 \t0 \t0 \t0 \t0 \t0 \t0 \t0 \t0 \t0 \t0 \t0 \t0 \t0 \t0 \t0 \t0 \t0 \t0 \t0 \t0 \t0 \t0 \t0 \t0 \t0 \t0 \t0 \t0 \t0 \t0 \t\n",
            "\n",
            "0 \t0 \t0 \t0 \t0 \t0 \t0 \t0 \t0 \t0 \t0 \t0 \t0 \t0 \t0 \t0 \t0 \t0 \t0 \t0 \t0 \t0 \t0 \t0 \t0 \t0 \t0 \t0 \t0 \t0 \t0 \t0 \t0 \t0 \t0 \t0 \t0 \t0 \t0 \t0 \t0 \t0 \t0 \t0 \t0 \t0 \t0 \t0 \t0 \t0 \t0 \t0 \t0 \t0 \t0 \t0 \t0 \t0 \t0 \t0 \t0 \t0 \t0 \t0 \t0 \t0 \t0 \t0 \t0 \t0 \t0 \t0 \t0 \t0 \t0 \t0 \t0 \t0 \t0 \t0 \t0 \t0 \t0 \t0 \t0 \t0 \t0 \t0 \t0 \t0 \t0 \t0 \t0 \t0 \t0 \t0 \t0 \t0 \t0 \t0 \t\n",
            "\n",
            "0 \t0 \t0 \t0 \t0 \t0 \t0 \t0 \t0 \t0 \t0 \t0 \t0 \t0 \t0 \t0 \t0 \t0 \t0 \t0 \t0 \t0 \t0 \t0 \t0 \t0 \t0 \t0 \t0 \t0 \t0 \t0 \t0 \t0 \t0 \t0 \t0 \t0 \t0 \t0 \t0 \t0 \t0 \t0 \t0 \t0 \t0 \t0 \t0 \t0 \t0 \t0 \t0 \t0 \t0 \t0 \t0 \t0 \t0 \t0 \t0 \t0 \t0 \t0 \t0 \t0 \t0 \t0 \t0 \t0 \t0 \t0 \t0 \t0 \t0 \t0 \t0 \t0 \t0 \t0 \t0 \t0 \t0 \t0 \t0 \t0 \t0 \t0 \t0 \t0 \t0 \t0 \t0 \t0 \t0 \t0 \t0 \t0 \t0 \t0 \t\n",
            "\n",
            "0 \t0 \t0 \t0 \t0 \t0 \t0 \t0 \t0 \t0 \t0 \t0 \t0 \t0 \t0 \t0 \t0 \t0 \t0 \t0 \t0 \t0 \t0 \t0 \t0 \t0 \t0 \t0 \t0 \t0 \t0 \t0 \t0 \t0 \t0 \t0 \t0 \t0 \t0 \t0 \t0 \t0 \t0 \t0 \t0 \t0 \t0 \t0 \t0 \t0 \t0 \t0 \t0 \t0 \t0 \t0 \t0 \t0 \t0 \t0 \t0 \t0 \t0 \t0 \t0 \t0 \t0 \t0 \t0 \t0 \t0 \t0 \t0 \t0 \t0 \t0 \t0 \t0 \t0 \t0 \t0 \t0 \t0 \t0 \t0 \t0 \t0 \t0 \t0 \t0 \t0 \t0 \t0 \t0 \t0 \t0 \t0 \t0 \t0 \t0 \t\n",
            "\n",
            "0 \t0 \t0 \t0 \t0 \t0 \t0 \t0 \t0 \t0 \t0 \t0 \t0 \t0 \t0 \t0 \t0 \t0 \t0 \t0 \t0 \t0 \t0 \t0 \t0 \t0 \t0 \t0 \t0 \t0 \t0 \t0 \t0 \t0 \t0 \t0 \t0 \t0 \t0 \t0 \t0 \t0 \t0 \t0 \t0 \t0 \t0 \t0 \t0 \t0 \t0 \t0 \t0 \t0 \t0 \t0 \t0 \t0 \t0 \t0 \t0 \t0 \t0 \t0 \t0 \t0 \t0 \t0 \t0 \t0 \t0 \t0 \t0 \t0 \t0 \t0 \t0 \t0 \t0 \t0 \t0 \t0 \t0 \t0 \t0 \t0 \t0 \t0 \t0 \t0 \t0 \t0 \t0 \t0 \t0 \t0 \t0 \t0 \t0 \t0 \t\n",
            "\n",
            "0 \t0 \t0 \t0 \t0 \t0 \t0 \t0 \t0 \t0 \t0 \t0 \t0 \t0 \t0 \t0 \t0 \t0 \t0 \t0 \t0 \t0 \t0 \t0 \t0 \t0 \t0 \t0 \t0 \t0 \t0 \t0 \t0 \t0 \t0 \t0 \t0 \t0 \t0 \t0 \t0 \t0 \t0 \t0 \t0 \t0 \t0 \t0 \t0 \t0 \t0 \t0 \t0 \t0 \t0 \t0 \t0 \t0 \t0 \t0 \t0 \t0 \t0 \t0 \t0 \t0 \t0 \t0 \t0 \t0 \t0 \t0 \t0 \t0 \t0 \t0 \t0 \t0 \t0 \t0 \t0 \t0 \t0 \t0 \t0 \t0 \t0 \t0 \t0 \t0 \t0 \t0 \t0 \t0 \t0 \t0 \t0 \t0 \t0 \t0 \t\n",
            "\n",
            "0 \t0 \t0 \t0 \t0 \t0 \t0 \t0 \t0 \t0 \t0 \t0 \t0 \t0 \t0 \t0 \t0 \t0 \t0 \t0 \t0 \t0 \t0 \t0 \t0 \t0 \t0 \t0 \t0 \t0 \t0 \t0 \t0 \t0 \t0 \t0 \t0 \t0 \t0 \t0 \t0 \t0 \t0 \t0 \t0 \t0 \t0 \t0 \t0 \t0 \t0 \t0 \t0 \t0 \t0 \t0 \t0 \t0 \t0 \t0 \t0 \t0 \t0 \t0 \t0 \t0 \t0 \t0 \t0 \t0 \t0 \t0 \t0 \t0 \t0 \t0 \t0 \t0 \t0 \t0 \t0 \t0 \t0 \t0 \t0 \t0 \t0 \t0 \t0 \t0 \t0 \t0 \t0 \t0 \t0 \t0 \t0 \t0 \t0 \t0 \t\n",
            "\n",
            "0 \t0 \t0 \t0 \t0 \t0 \t0 \t0 \t0 \t0 \t0 \t0 \t0 \t0 \t0 \t0 \t0 \t0 \t0 \t0 \t0 \t0 \t0 \t0 \t0 \t0 \t0 \t0 \t0 \t0 \t0 \t0 \t0 \t0 \t0 \t0 \t0 \t0 \t0 \t0 \t0 \t0 \t0 \t0 \t0 \t0 \t0 \t0 \t0 \t0 \t0 \t0 \t0 \t0 \t0 \t0 \t0 \t0 \t0 \t0 \t0 \t0 \t0 \t0 \t0 \t0 \t0 \t0 \t0 \t0 \t0 \t0 \t0 \t0 \t0 \t0 \t0 \t0 \t0 \t0 \t0 \t0 \t0 \t0 \t0 \t0 \t0 \t0 \t0 \t0 \t0 \t0 \t0 \t0 \t0 \t0 \t0 \t0 \t0 \t0 \t\n",
            "\n",
            "0 \t0 \t0 \t0 \t0 \t0 \t0 \t0 \t0 \t0 \t0 \t0 \t0 \t0 \t0 \t0 \t0 \t0 \t0 \t0 \t0 \t0 \t0 \t0 \t0 \t0 \t0 \t0 \t0 \t0 \t0 \t0 \t0 \t0 \t0 \t0 \t0 \t0 \t0 \t0 \t0 \t0 \t0 \t0 \t0 \t0 \t0 \t0 \t0 \t0 \t0 \t0 \t0 \t0 \t0 \t0 \t0 \t0 \t0 \t0 \t0 \t0 \t0 \t0 \t0 \t0 \t0 \t0 \t0 \t0 \t0 \t0 \t0 \t0 \t0 \t0 \t0 \t0 \t0 \t0 \t0 \t0 \t0 \t0 \t0 \t0 \t0 \t0 \t0 \t0 \t0 \t0 \t0 \t0 \t0 \t0 \t0 \t0 \t0 \t0 \t\n",
            "\n",
            "0 \t0 \t0 \t0 \t0 \t0 \t0 \t0 \t0 \t0 \t0 \t0 \t0 \t0 \t0 \t0 \t0 \t0 \t0 \t0 \t0 \t0 \t0 \t0 \t0 \t0 \t0 \t0 \t0 \t0 \t0 \t0 \t0 \t0 \t0 \t0 \t0 \t0 \t0 \t0 \t0 \t0 \t0 \t0 \t0 \t0 \t0 \t0 \t0 \t0 \t0 \t0 \t0 \t0 \t0 \t0 \t0 \t0 \t0 \t0 \t0 \t0 \t0 \t0 \t0 \t0 \t0 \t0 \t0 \t0 \t0 \t0 \t0 \t0 \t0 \t0 \t0 \t0 \t0 \t0 \t0 \t0 \t0 \t0 \t0 \t0 \t0 \t0 \t0 \t0 \t0 \t0 \t0 \t0 \t0 \t0 \t0 \t0 \t0 \t0 \t\n",
            "\n",
            "0 \t0 \t0 \t0 \t0 \t0 \t0 \t0 \t0 \t0 \t0 \t0 \t0 \t0 \t0 \t0 \t0 \t0 \t0 \t0 \t0 \t0 \t0 \t0 \t0 \t0 \t0 \t0 \t0 \t0 \t0 \t0 \t0 \t0 \t0 \t0 \t0 \t0 \t0 \t0 \t0 \t0 \t0 \t0 \t0 \t0 \t0 \t0 \t0 \t0 \t0 \t0 \t0 \t0 \t0 \t0 \t0 \t0 \t0 \t0 \t0 \t0 \t0 \t0 \t0 \t0 \t0 \t0 \t0 \t0 \t0 \t0 \t0 \t0 \t0 \t0 \t0 \t0 \t0 \t0 \t0 \t0 \t0 \t0 \t0 \t0 \t0 \t0 \t0 \t0 \t0 \t0 \t0 \t0 \t0 \t0 \t0 \t0 \t0 \t0 \t\n",
            "\n",
            "0 \t0 \t0 \t0 \t0 \t0 \t0 \t0 \t0 \t0 \t0 \t0 \t0 \t0 \t0 \t0 \t0 \t0 \t0 \t0 \t0 \t0 \t0 \t0 \t0 \t0 \t0 \t0 \t0 \t0 \t0 \t0 \t0 \t0 \t0 \t0 \t0 \t0 \t0 \t0 \t0 \t0 \t0 \t0 \t0 \t0 \t0 \t0 \t0 \t0 \t0 \t0 \t0 \t0 \t0 \t0 \t0 \t0 \t0 \t0 \t0 \t0 \t0 \t0 \t0 \t0 \t0 \t0 \t0 \t0 \t0 \t0 \t0 \t0 \t0 \t0 \t0 \t0 \t0 \t0 \t0 \t0 \t0 \t0 \t0 \t0 \t0 \t0 \t0 \t0 \t0 \t0 \t0 \t0 \t0 \t0 \t0 \t0 \t0 \t0 \t\n",
            "\n",
            "0 \t0 \t0 \t0 \t0 \t0 \t0 \t0 \t0 \t0 \t0 \t0 \t0 \t0 \t0 \t0 \t0 \t0 \t0 \t0 \t0 \t0 \t0 \t0 \t0 \t0 \t0 \t0 \t0 \t0 \t0 \t0 \t0 \t0 \t0 \t0 \t0 \t0 \t0 \t0 \t0 \t0 \t0 \t0 \t0 \t0 \t0 \t0 \t0 \t0 \t0 \t0 \t0 \t0 \t0 \t0 \t0 \t0 \t0 \t0 \t0 \t0 \t0 \t0 \t0 \t0 \t0 \t0 \t0 \t0 \t0 \t0 \t0 \t0 \t0 \t0 \t0 \t0 \t0 \t0 \t0 \t0 \t0 \t0 \t0 \t0 \t0 \t0 \t0 \t0 \t0 \t0 \t0 \t0 \t0 \t0 \t0 \t0 \t0 \t0 \t\n",
            "\n",
            "0 \t0 \t0 \t0 \t0 \t0 \t0 \t0 \t0 \t0 \t0 \t0 \t0 \t0 \t0 \t0 \t0 \t0 \t0 \t0 \t0 \t0 \t0 \t0 \t0 \t0 \t0 \t0 \t0 \t0 \t0 \t0 \t0 \t0 \t0 \t0 \t0 \t0 \t0 \t0 \t0 \t0 \t0 \t0 \t0 \t0 \t0 \t0 \t0 \t0 \t0 \t0 \t0 \t0 \t0 \t0 \t0 \t0 \t0 \t0 \t0 \t0 \t0 \t0 \t0 \t0 \t0 \t0 \t0 \t0 \t0 \t0 \t0 \t0 \t0 \t0 \t0 \t0 \t0 \t0 \t0 \t0 \t0 \t0 \t0 \t0 \t0 \t0 \t0 \t0 \t0 \t0 \t0 \t0 \t0 \t0 \t0 \t0 \t0 \t0 \t\n",
            "\n",
            "0 \t0 \t0 \t0 \t0 \t0 \t0 \t0 \t0 \t0 \t0 \t0 \t0 \t0 \t0 \t0 \t0 \t0 \t0 \t0 \t0 \t0 \t0 \t0 \t0 \t0 \t0 \t0 \t0 \t0 \t0 \t0 \t0 \t0 \t0 \t0 \t0 \t0 \t0 \t0 \t0 \t0 \t0 \t0 \t0 \t0 \t0 \t0 \t0 \t0 \t0 \t0 \t0 \t0 \t0 \t0 \t0 \t0 \t0 \t0 \t0 \t0 \t0 \t0 \t0 \t0 \t0 \t0 \t0 \t0 \t0 \t0 \t0 \t0 \t0 \t0 \t0 \t0 \t0 \t0 \t0 \t0 \t0 \t0 \t0 \t0 \t0 \t0 \t0 \t0 \t0 \t0 \t0 \t0 \t0 \t0 \t0 \t0 \t0 \t0 \t\n",
            "\n",
            "0 \t0 \t0 \t0 \t0 \t0 \t0 \t0 \t0 \t0 \t0 \t0 \t0 \t0 \t0 \t0 \t0 \t0 \t0 \t0 \t0 \t0 \t0 \t0 \t0 \t0 \t0 \t0 \t0 \t0 \t0 \t0 \t0 \t0 \t0 \t0 \t0 \t0 \t0 \t0 \t0 \t0 \t0 \t0 \t0 \t0 \t0 \t0 \t0 \t0 \t0 \t0 \t0 \t0 \t0 \t0 \t0 \t0 \t0 \t0 \t0 \t0 \t0 \t0 \t0 \t0 \t0 \t0 \t0 \t0 \t0 \t0 \t0 \t0 \t0 \t0 \t0 \t0 \t0 \t0 \t0 \t0 \t0 \t0 \t0 \t0 \t0 \t0 \t0 \t0 \t0 \t0 \t0 \t0 \t0 \t0 \t0 \t0 \t0 \t0 \t\n",
            "\n",
            "0 \t0 \t0 \t0 \t0 \t0 \t0 \t0 \t0 \t0 \t0 \t0 \t0 \t0 \t0 \t0 \t0 \t0 \t0 \t0 \t0 \t0 \t0 \t0 \t0 \t0 \t0 \t0 \t0 \t0 \t0 \t0 \t0 \t0 \t0 \t0 \t0 \t0 \t0 \t0 \t0 \t0 \t0 \t0 \t0 \t0 \t0 \t0 \t0 \t0 \t0 \t0 \t0 \t0 \t0 \t0 \t0 \t0 \t0 \t0 \t0 \t0 \t0 \t0 \t0 \t0 \t0 \t0 \t0 \t0 \t0 \t0 \t0 \t0 \t0 \t0 \t0 \t0 \t0 \t0 \t0 \t0 \t0 \t0 \t0 \t0 \t0 \t0 \t0 \t0 \t0 \t0 \t0 \t0 \t0 \t0 \t0 \t0 \t0 \t0 \t\n",
            "\n",
            "0 \t0 \t0 \t0 \t0 \t0 \t0 \t0 \t0 \t0 \t0 \t0 \t0 \t0 \t0 \t0 \t0 \t0 \t0 \t0 \t0 \t0 \t0 \t0 \t0 \t0 \t0 \t0 \t0 \t0 \t0 \t0 \t0 \t0 \t0 \t0 \t0 \t0 \t0 \t0 \t0 \t0 \t0 \t0 \t0 \t0 \t0 \t0 \t0 \t0 \t0 \t0 \t0 \t0 \t0 \t0 \t0 \t0 \t0 \t0 \t0 \t0 \t0 \t0 \t0 \t0 \t0 \t0 \t0 \t0 \t0 \t0 \t0 \t0 \t0 \t0 \t0 \t0 \t0 \t0 \t0 \t0 \t0 \t0 \t0 \t0 \t0 \t0 \t0 \t0 \t0 \t0 \t0 \t0 \t0 \t0 \t0 \t0 \t0 \t0 \t\n",
            "\n",
            "0 \t0 \t0 \t0 \t0 \t0 \t0 \t0 \t0 \t0 \t0 \t0 \t0 \t0 \t0 \t0 \t0 \t0 \t0 \t0 \t0 \t0 \t0 \t0 \t0 \t0 \t0 \t0 \t0 \t0 \t0 \t0 \t0 \t0 \t0 \t0 \t0 \t0 \t0 \t0 \t0 \t0 \t0 \t0 \t0 \t0 \t0 \t0 \t0 \t0 \t0 \t0 \t0 \t0 \t0 \t0 \t0 \t0 \t0 \t0 \t0 \t0 \t0 \t0 \t0 \t0 \t0 \t0 \t0 \t0 \t0 \t0 \t0 \t0 \t0 \t0 \t0 \t0 \t0 \t0 \t0 \t0 \t0 \t0 \t0 \t0 \t0 \t0 \t0 \t0 \t0 \t0 \t0 \t0 \t0 \t0 \t0 \t0 \t0 \t0 \t\n",
            "\n",
            "0 \t0 \t0 \t0 \t0 \t0 \t0 \t0 \t0 \t0 \t0 \t0 \t0 \t0 \t0 \t0 \t0 \t0 \t0 \t0 \t0 \t0 \t0 \t0 \t0 \t0 \t0 \t0 \t0 \t0 \t0 \t0 \t0 \t0 \t0 \t0 \t0 \t0 \t0 \t0 \t0 \t0 \t0 \t0 \t0 \t0 \t0 \t0 \t0 \t0 \t0 \t0 \t0 \t0 \t0 \t0 \t0 \t0 \t0 \t0 \t0 \t0 \t0 \t0 \t0 \t0 \t0 \t0 \t0 \t0 \t0 \t0 \t0 \t0 \t0 \t0 \t0 \t0 \t0 \t0 \t0 \t0 \t0 \t0 \t0 \t0 \t0 \t0 \t0 \t0 \t0 \t0 \t0 \t0 \t0 \t0 \t0 \t0 \t0 \t0 \t\n",
            "\n",
            "0 \t0 \t0 \t0 \t0 \t0 \t0 \t0 \t0 \t0 \t0 \t0 \t0 \t0 \t0 \t0 \t0 \t0 \t0 \t0 \t0 \t0 \t0 \t0 \t0 \t0 \t0 \t0 \t0 \t0 \t0 \t0 \t0 \t0 \t0 \t0 \t0 \t0 \t0 \t0 \t0 \t0 \t0 \t0 \t0 \t0 \t0 \t0 \t0 \t0 \t0 \t0 \t0 \t0 \t0 \t0 \t0 \t0 \t0 \t0 \t0 \t0 \t0 \t0 \t0 \t0 \t0 \t0 \t0 \t0 \t0 \t0 \t0 \t0 \t0 \t0 \t0 \t0 \t0 \t0 \t0 \t0 \t0 \t0 \t0 \t0 \t0 \t0 \t0 \t0 \t0 \t0 \t0 \t0 \t0 \t0 \t0 \t0 \t0 \t0 \t\n",
            "\n",
            "0 \t0 \t0 \t0 \t0 \t0 \t0 \t0 \t0 \t0 \t0 \t0 \t0 \t0 \t0 \t0 \t0 \t0 \t0 \t0 \t0 \t0 \t0 \t0 \t0 \t0 \t0 \t0 \t0 \t0 \t0 \t0 \t0 \t0 \t0 \t0 \t0 \t0 \t0 \t0 \t0 \t0 \t0 \t0 \t0 \t0 \t0 \t0 \t0 \t0 \t0 \t0 \t0 \t0 \t0 \t0 \t0 \t0 \t0 \t0 \t0 \t0 \t0 \t0 \t0 \t0 \t0 \t0 \t0 \t0 \t0 \t0 \t0 \t0 \t0 \t0 \t0 \t0 \t0 \t0 \t0 \t0 \t0 \t0 \t0 \t0 \t0 \t0 \t0 \t0 \t0 \t0 \t0 \t0 \t0 \t0 \t0 \t0 \t0 \t0 \t\n",
            "\n",
            "0 \t0 \t0 \t0 \t0 \t0 \t0 \t0 \t0 \t0 \t0 \t0 \t0 \t0 \t0 \t0 \t0 \t0 \t0 \t0 \t0 \t0 \t0 \t0 \t0 \t0 \t0 \t0 \t0 \t0 \t0 \t0 \t0 \t0 \t0 \t0 \t0 \t0 \t0 \t0 \t0 \t0 \t0 \t0 \t0 \t0 \t0 \t0 \t0 \t0 \t0 \t0 \t0 \t0 \t0 \t0 \t0 \t0 \t0 \t0 \t0 \t0 \t0 \t0 \t0 \t0 \t0 \t0 \t0 \t0 \t0 \t0 \t0 \t0 \t0 \t0 \t0 \t0 \t0 \t0 \t0 \t0 \t0 \t0 \t0 \t0 \t0 \t0 \t0 \t0 \t0 \t0 \t0 \t0 \t0 \t0 \t0 \t0 \t0 \t0 \t\n",
            "\n",
            "0 \t0 \t0 \t0 \t0 \t0 \t0 \t0 \t0 \t0 \t0 \t0 \t0 \t0 \t0 \t0 \t0 \t0 \t0 \t0 \t0 \t0 \t0 \t0 \t0 \t0 \t0 \t0 \t0 \t0 \t0 \t0 \t0 \t0 \t0 \t0 \t0 \t0 \t0 \t0 \t0 \t0 \t0 \t0 \t0 \t0 \t0 \t0 \t0 \t0 \t0 \t0 \t0 \t0 \t0 \t0 \t0 \t0 \t0 \t0 \t0 \t0 \t0 \t0 \t0 \t0 \t0 \t0 \t0 \t0 \t0 \t0 \t0 \t0 \t0 \t0 \t0 \t0 \t0 \t0 \t0 \t0 \t0 \t0 \t0 \t0 \t0 \t0 \t0 \t0 \t0 \t0 \t0 \t0 \t0 \t0 \t0 \t0 \t0 \t0 \t\n",
            "\n",
            "0 \t0 \t0 \t0 \t0 \t0 \t0 \t0 \t0 \t0 \t0 \t0 \t0 \t0 \t0 \t0 \t0 \t0 \t0 \t0 \t0 \t0 \t0 \t0 \t0 \t0 \t0 \t0 \t0 \t0 \t0 \t0 \t0 \t0 \t0 \t0 \t0 \t0 \t0 \t0 \t0 \t0 \t0 \t0 \t0 \t0 \t0 \t0 \t0 \t0 \t0 \t0 \t0 \t0 \t0 \t0 \t0 \t0 \t0 \t0 \t0 \t0 \t0 \t0 \t0 \t0 \t0 \t0 \t0 \t0 \t0 \t0 \t0 \t0 \t0 \t0 \t0 \t0 \t0 \t0 \t0 \t0 \t0 \t0 \t0 \t0 \t0 \t0 \t0 \t0 \t0 \t0 \t0 \t0 \t0 \t0 \t0 \t0 \t0 \t0 \t\n",
            "\n",
            "0 \t0 \t0 \t0 \t0 \t0 \t0 \t0 \t0 \t0 \t0 \t0 \t0 \t0 \t0 \t0 \t0 \t0 \t0 \t0 \t0 \t0 \t0 \t0 \t0 \t0 \t0 \t0 \t0 \t0 \t0 \t0 \t0 \t0 \t0 \t0 \t0 \t0 \t0 \t0 \t0 \t0 \t0 \t0 \t0 \t0 \t0 \t0 \t0 \t0 \t0 \t0 \t0 \t0 \t0 \t0 \t0 \t0 \t0 \t0 \t0 \t0 \t0 \t0 \t0 \t0 \t0 \t0 \t0 \t0 \t0 \t0 \t0 \t0 \t0 \t0 \t0 \t0 \t0 \t0 \t0 \t0 \t0 \t0 \t0 \t0 \t0 \t0 \t0 \t0 \t0 \t0 \t0 \t0 \t0 \t0 \t0 \t0 \t0 \t0 \t\n",
            "\n",
            "0 \t0 \t0 \t0 \t0 \t0 \t0 \t0 \t0 \t0 \t0 \t0 \t0 \t0 \t0 \t0 \t0 \t0 \t0 \t0 \t0 \t0 \t0 \t0 \t0 \t0 \t0 \t0 \t0 \t0 \t0 \t0 \t0 \t0 \t0 \t0 \t0 \t0 \t0 \t0 \t0 \t0 \t0 \t0 \t0 \t0 \t0 \t0 \t0 \t0 \t0 \t0 \t0 \t0 \t0 \t0 \t0 \t0 \t0 \t0 \t0 \t0 \t0 \t0 \t0 \t0 \t0 \t0 \t0 \t0 \t0 \t0 \t0 \t0 \t0 \t0 \t0 \t0 \t0 \t0 \t0 \t0 \t0 \t0 \t0 \t0 \t0 \t0 \t0 \t0 \t0 \t0 \t0 \t0 \t0 \t0 \t0 \t0 \t0 \t0 \t\n",
            "\n",
            "0 \t0 \t0 \t0 \t0 \t0 \t0 \t0 \t0 \t0 \t0 \t0 \t0 \t0 \t0 \t0 \t0 \t0 \t0 \t0 \t0 \t0 \t0 \t0 \t0 \t0 \t0 \t0 \t0 \t0 \t0 \t0 \t0 \t0 \t0 \t0 \t0 \t0 \t0 \t0 \t0 \t0 \t0 \t0 \t0 \t0 \t0 \t0 \t0 \t0 \t0 \t0 \t0 \t0 \t0 \t0 \t0 \t0 \t0 \t0 \t0 \t0 \t0 \t0 \t0 \t0 \t0 \t0 \t0 \t0 \t0 \t0 \t0 \t0 \t0 \t0 \t0 \t0 \t0 \t0 \t0 \t0 \t0 \t0 \t0 \t0 \t0 \t0 \t0 \t0 \t0 \t0 \t0 \t0 \t0 \t0 \t0 \t0 \t0 \t0 \t\n",
            "\n",
            "0 \t0 \t0 \t0 \t0 \t0 \t0 \t0 \t0 \t0 \t0 \t0 \t0 \t0 \t0 \t0 \t0 \t0 \t0 \t0 \t0 \t0 \t0 \t0 \t0 \t0 \t0 \t0 \t0 \t0 \t0 \t0 \t0 \t0 \t0 \t0 \t0 \t0 \t0 \t0 \t0 \t0 \t0 \t0 \t0 \t0 \t0 \t0 \t0 \t0 \t0 \t0 \t0 \t0 \t0 \t0 \t0 \t0 \t0 \t0 \t0 \t0 \t0 \t0 \t0 \t0 \t0 \t0 \t0 \t0 \t0 \t0 \t0 \t0 \t0 \t0 \t0 \t0 \t0 \t0 \t0 \t0 \t0 \t0 \t0 \t0 \t0 \t0 \t0 \t0 \t0 \t0 \t0 \t0 \t0 \t0 \t0 \t0 \t0 \t0 \t\n",
            "\n",
            "0 \t0 \t0 \t0 \t0 \t0 \t0 \t0 \t0 \t0 \t0 \t0 \t0 \t0 \t0 \t0 \t0 \t0 \t0 \t0 \t0 \t0 \t0 \t0 \t0 \t0 \t0 \t0 \t0 \t0 \t0 \t0 \t0 \t0 \t0 \t0 \t0 \t0 \t0 \t0 \t0 \t0 \t0 \t0 \t0 \t0 \t0 \t0 \t0 \t0 \t0 \t0 \t0 \t0 \t0 \t0 \t0 \t0 \t0 \t0 \t0 \t0 \t0 \t0 \t0 \t0 \t0 \t0 \t0 \t0 \t0 \t0 \t0 \t0 \t0 \t0 \t0 \t0 \t0 \t0 \t0 \t0 \t0 \t0 \t0 \t0 \t0 \t0 \t0 \t0 \t0 \t0 \t0 \t0 \t0 \t0 \t0 \t0 \t0 \t0 \t\n",
            "\n",
            "0 \t0 \t0 \t0 \t0 \t0 \t0 \t0 \t0 \t0 \t0 \t0 \t0 \t0 \t0 \t0 \t0 \t0 \t0 \t0 \t0 \t0 \t0 \t0 \t0 \t0 \t0 \t0 \t0 \t0 \t0 \t0 \t0 \t0 \t0 \t0 \t0 \t0 \t0 \t0 \t0 \t0 \t0 \t0 \t0 \t0 \t0 \t0 \t0 \t0 \t0 \t0 \t0 \t0 \t0 \t0 \t0 \t0 \t0 \t0 \t0 \t0 \t0 \t0 \t0 \t0 \t0 \t0 \t0 \t0 \t0 \t0 \t0 \t0 \t0 \t0 \t0 \t0 \t0 \t0 \t0 \t0 \t0 \t0 \t0 \t0 \t0 \t0 \t0 \t0 \t0 \t0 \t0 \t0 \t0 \t0 \t0 \t0 \t0 \t0 \t\n",
            "\n",
            "0 \t0 \t0 \t0 \t0 \t0 \t0 \t0 \t0 \t0 \t0 \t0 \t0 \t0 \t0 \t0 \t0 \t0 \t0 \t0 \t0 \t0 \t0 \t0 \t0 \t0 \t0 \t0 \t0 \t0 \t0 \t0 \t0 \t0 \t0 \t0 \t0 \t0 \t0 \t0 \t0 \t0 \t0 \t0 \t0 \t0 \t0 \t0 \t0 \t0 \t0 \t0 \t0 \t0 \t0 \t0 \t0 \t0 \t0 \t0 \t0 \t0 \t0 \t0 \t0 \t0 \t0 \t0 \t0 \t0 \t0 \t0 \t0 \t0 \t0 \t0 \t0 \t0 \t0 \t0 \t0 \t0 \t0 \t0 \t0 \t0 \t0 \t0 \t0 \t0 \t0 \t0 \t0 \t0 \t0 \t0 \t0 \t0 \t0 \t0 \t\n",
            "\n",
            "0 \t0 \t0 \t0 \t0 \t0 \t0 \t0 \t0 \t0 \t0 \t0 \t0 \t0 \t0 \t0 \t0 \t0 \t0 \t0 \t0 \t0 \t0 \t0 \t0 \t0 \t0 \t0 \t0 \t0 \t0 \t0 \t0 \t0 \t0 \t0 \t0 \t0 \t0 \t0 \t0 \t0 \t0 \t0 \t0 \t0 \t0 \t0 \t0 \t0 \t0 \t0 \t0 \t0 \t0 \t0 \t0 \t0 \t0 \t0 \t0 \t0 \t0 \t0 \t0 \t0 \t0 \t0 \t0 \t0 \t0 \t0 \t0 \t0 \t0 \t0 \t0 \t0 \t0 \t0 \t0 \t0 \t0 \t0 \t0 \t0 \t0 \t0 \t0 \t0 \t0 \t0 \t0 \t0 \t0 \t0 \t0 \t0 \t0 \t0 \t\n",
            "\n",
            "0 \t0 \t0 \t0 \t0 \t0 \t0 \t0 \t0 \t0 \t0 \t0 \t0 \t0 \t0 \t0 \t0 \t0 \t0 \t0 \t0 \t0 \t0 \t0 \t0 \t0 \t0 \t0 \t0 \t0 \t0 \t0 \t0 \t0 \t0 \t0 \t0 \t0 \t0 \t0 \t0 \t0 \t0 \t0 \t0 \t0 \t0 \t0 \t0 \t0 \t0 \t0 \t0 \t0 \t0 \t0 \t0 \t0 \t0 \t0 \t0 \t0 \t0 \t0 \t0 \t0 \t0 \t0 \t0 \t0 \t0 \t0 \t0 \t0 \t0 \t0 \t0 \t0 \t0 \t0 \t0 \t0 \t0 \t0 \t0 \t0 \t0 \t0 \t0 \t0 \t0 \t0 \t0 \t0 \t0 \t0 \t0 \t0 \t0 \t0 \t\n",
            "\n",
            "0 \t0 \t0 \t0 \t0 \t0 \t0 \t0 \t0 \t0 \t0 \t0 \t0 \t0 \t0 \t0 \t0 \t0 \t0 \t0 \t0 \t0 \t0 \t0 \t0 \t0 \t0 \t0 \t0 \t0 \t0 \t0 \t0 \t0 \t0 \t0 \t0 \t0 \t0 \t0 \t0 \t0 \t0 \t0 \t0 \t0 \t0 \t0 \t0 \t0 \t0 \t0 \t0 \t0 \t0 \t0 \t0 \t0 \t0 \t0 \t0 \t0 \t0 \t0 \t0 \t0 \t0 \t0 \t0 \t0 \t0 \t0 \t0 \t0 \t0 \t0 \t0 \t0 \t0 \t0 \t0 \t0 \t0 \t0 \t0 \t0 \t0 \t0 \t0 \t0 \t0 \t0 \t0 \t0 \t0 \t0 \t0 \t0 \t0 \t0 \t\n",
            "\n",
            "0 \t0 \t0 \t0 \t0 \t0 \t0 \t0 \t0 \t0 \t0 \t0 \t0 \t0 \t0 \t0 \t0 \t0 \t0 \t0 \t0 \t0 \t0 \t0 \t0 \t0 \t0 \t0 \t0 \t0 \t0 \t0 \t0 \t0 \t0 \t0 \t0 \t0 \t0 \t0 \t0 \t0 \t0 \t0 \t0 \t0 \t0 \t0 \t0 \t0 \t0 \t0 \t0 \t0 \t0 \t0 \t0 \t0 \t0 \t0 \t0 \t0 \t0 \t0 \t0 \t0 \t0 \t0 \t0 \t0 \t0 \t0 \t0 \t0 \t0 \t0 \t0 \t0 \t0 \t0 \t0 \t0 \t0 \t0 \t0 \t0 \t0 \t0 \t0 \t0 \t0 \t0 \t0 \t0 \t0 \t0 \t0 \t0 \t0 \t0 \t\n",
            "\n",
            "0 \t0 \t0 \t0 \t0 \t0 \t0 \t0 \t0 \t0 \t0 \t0 \t0 \t0 \t0 \t0 \t0 \t0 \t0 \t0 \t0 \t0 \t0 \t0 \t0 \t0 \t0 \t0 \t0 \t0 \t0 \t0 \t0 \t0 \t0 \t0 \t0 \t0 \t0 \t0 \t0 \t0 \t0 \t0 \t0 \t0 \t0 \t0 \t0 \t0 \t0 \t0 \t0 \t0 \t0 \t0 \t0 \t0 \t0 \t0 \t0 \t0 \t0 \t0 \t0 \t0 \t0 \t0 \t0 \t0 \t0 \t0 \t0 \t0 \t0 \t0 \t0 \t0 \t0 \t0 \t0 \t0 \t0 \t0 \t0 \t0 \t0 \t0 \t0 \t0 \t0 \t0 \t0 \t0 \t0 \t0 \t0 \t0 \t0 \t0 \t\n",
            "\n",
            "0 \t0 \t0 \t0 \t0 \t0 \t0 \t0 \t0 \t0 \t0 \t0 \t0 \t0 \t0 \t0 \t0 \t0 \t0 \t0 \t0 \t0 \t0 \t0 \t0 \t0 \t0 \t0 \t0 \t0 \t0 \t0 \t0 \t0 \t0 \t0 \t0 \t0 \t0 \t0 \t0 \t0 \t0 \t0 \t0 \t0 \t0 \t0 \t0 \t0 \t0 \t0 \t0 \t0 \t0 \t0 \t0 \t0 \t0 \t0 \t0 \t0 \t0 \t0 \t0 \t0 \t0 \t0 \t0 \t0 \t0 \t0 \t0 \t0 \t0 \t0 \t0 \t0 \t0 \t0 \t0 \t0 \t0 \t0 \t0 \t0 \t0 \t0 \t0 \t0 \t0 \t0 \t0 \t0 \t0 \t0 \t0 \t0 \t0 \t0 \t\n",
            "\n",
            "0 \t0 \t0 \t0 \t0 \t0 \t0 \t0 \t0 \t0 \t0 \t0 \t0 \t0 \t0 \t0 \t0 \t0 \t0 \t0 \t0 \t0 \t0 \t0 \t0 \t0 \t0 \t0 \t0 \t0 \t0 \t0 \t0 \t0 \t0 \t0 \t0 \t0 \t0 \t0 \t0 \t0 \t0 \t0 \t0 \t0 \t0 \t0 \t0 \t0 \t0 \t0 \t0 \t0 \t0 \t0 \t0 \t0 \t0 \t0 \t0 \t0 \t0 \t0 \t0 \t0 \t0 \t0 \t0 \t0 \t0 \t0 \t0 \t0 \t0 \t0 \t0 \t0 \t0 \t0 \t0 \t0 \t0 \t0 \t0 \t0 \t0 \t0 \t0 \t0 \t0 \t0 \t0 \t0 \t0 \t0 \t0 \t0 \t0 \t0 \t\n",
            "\n",
            "0 \t0 \t0 \t0 \t0 \t0 \t0 \t0 \t0 \t0 \t0 \t0 \t0 \t0 \t0 \t0 \t0 \t0 \t0 \t0 \t0 \t0 \t0 \t0 \t0 \t0 \t0 \t0 \t0 \t0 \t0 \t0 \t0 \t0 \t0 \t0 \t0 \t0 \t0 \t0 \t0 \t0 \t0 \t0 \t0 \t0 \t0 \t0 \t0 \t0 \t0 \t0 \t0 \t0 \t0 \t0 \t0 \t0 \t0 \t0 \t0 \t0 \t0 \t0 \t0 \t0 \t0 \t0 \t0 \t0 \t0 \t0 \t0 \t0 \t0 \t0 \t0 \t0 \t0 \t0 \t0 \t0 \t0 \t0 \t0 \t0 \t0 \t0 \t0 \t0 \t0 \t0 \t0 \t0 \t0 \t0 \t0 \t0 \t0 \t0 \t\n",
            "\n",
            "0 \t0 \t0 \t0 \t0 \t0 \t0 \t0 \t0 \t0 \t0 \t0 \t0 \t0 \t0 \t0 \t0 \t0 \t0 \t0 \t0 \t0 \t0 \t0 \t0 \t0 \t0 \t0 \t0 \t0 \t0 \t0 \t0 \t0 \t0 \t0 \t0 \t0 \t0 \t0 \t0 \t0 \t0 \t0 \t0 \t0 \t0 \t0 \t0 \t0 \t0 \t0 \t0 \t0 \t0 \t0 \t0 \t0 \t0 \t0 \t0 \t0 \t0 \t0 \t0 \t0 \t0 \t0 \t0 \t0 \t0 \t0 \t0 \t0 \t0 \t0 \t0 \t0 \t0 \t0 \t0 \t0 \t0 \t0 \t0 \t0 \t0 \t0 \t0 \t0 \t0 \t0 \t0 \t0 \t0 \t0 \t0 \t0 \t0 \t0 \t\n",
            "\n",
            "0 \t0 \t0 \t0 \t0 \t0 \t0 \t0 \t0 \t0 \t0 \t0 \t0 \t0 \t0 \t0 \t0 \t0 \t0 \t0 \t0 \t0 \t0 \t0 \t0 \t0 \t0 \t0 \t0 \t0 \t0 \t0 \t0 \t0 \t0 \t0 \t0 \t0 \t0 \t0 \t0 \t0 \t0 \t0 \t0 \t0 \t0 \t0 \t0 \t0 \t0 \t0 \t0 \t0 \t0 \t0 \t0 \t0 \t0 \t0 \t0 \t0 \t0 \t0 \t0 \t0 \t0 \t0 \t0 \t0 \t0 \t0 \t0 \t0 \t0 \t0 \t0 \t0 \t0 \t0 \t0 \t0 \t0 \t0 \t0 \t0 \t0 \t0 \t0 \t0 \t0 \t0 \t0 \t0 \t0 \t0 \t0 \t0 \t0 \t0 \t\n",
            "\n",
            "0 \t0 \t0 \t0 \t0 \t0 \t0 \t0 \t0 \t0 \t0 \t0 \t0 \t0 \t0 \t0 \t0 \t0 \t0 \t0 \t0 \t0 \t0 \t0 \t0 \t0 \t0 \t0 \t0 \t0 \t0 \t0 \t0 \t0 \t0 \t0 \t0 \t0 \t0 \t0 \t0 \t0 \t0 \t0 \t0 \t0 \t0 \t0 \t0 \t0 \t0 \t0 \t0 \t0 \t0 \t0 \t0 \t0 \t0 \t0 \t0 \t0 \t0 \t0 \t0 \t0 \t0 \t0 \t0 \t0 \t0 \t0 \t0 \t0 \t0 \t0 \t0 \t0 \t0 \t0 \t0 \t0 \t0 \t0 \t0 \t0 \t0 \t0 \t0 \t0 \t0 \t0 \t0 \t0 \t0 \t0 \t0 \t0 \t0 \t0 \t\n",
            "\n",
            "0 \t0 \t0 \t0 \t0 \t0 \t0 \t0 \t0 \t0 \t0 \t0 \t0 \t0 \t0 \t0 \t0 \t0 \t0 \t0 \t0 \t0 \t0 \t0 \t0 \t0 \t0 \t0 \t0 \t0 \t0 \t0 \t0 \t0 \t0 \t0 \t0 \t0 \t0 \t0 \t0 \t0 \t0 \t0 \t0 \t0 \t0 \t0 \t0 \t0 \t0 \t0 \t0 \t0 \t0 \t0 \t0 \t0 \t0 \t0 \t0 \t0 \t0 \t0 \t0 \t0 \t0 \t0 \t0 \t0 \t0 \t0 \t0 \t0 \t0 \t0 \t0 \t0 \t0 \t0 \t0 \t0 \t0 \t0 \t0 \t0 \t0 \t0 \t0 \t0 \t0 \t0 \t0 \t0 \t0 \t0 \t0 \t0 \t0 \t0 \t\n",
            "\n",
            "0 \t0 \t0 \t0 \t0 \t0 \t0 \t0 \t0 \t0 \t0 \t0 \t0 \t0 \t0 \t0 \t0 \t0 \t0 \t0 \t0 \t0 \t0 \t0 \t0 \t0 \t0 \t0 \t0 \t0 \t0 \t0 \t0 \t0 \t0 \t0 \t0 \t0 \t0 \t0 \t0 \t0 \t0 \t0 \t0 \t0 \t0 \t0 \t0 \t0 \t0 \t0 \t0 \t0 \t0 \t0 \t0 \t0 \t0 \t0 \t0 \t0 \t0 \t0 \t0 \t0 \t0 \t0 \t0 \t0 \t0 \t0 \t0 \t0 \t0 \t0 \t0 \t0 \t0 \t0 \t0 \t0 \t0 \t0 \t0 \t0 \t0 \t0 \t0 \t0 \t0 \t0 \t0 \t0 \t0 \t0 \t0 \t0 \t0 \t0 \t\n",
            "\n",
            "0 \t0 \t0 \t0 \t0 \t0 \t0 \t0 \t0 \t0 \t0 \t0 \t0 \t0 \t0 \t0 \t0 \t0 \t0 \t0 \t0 \t0 \t0 \t0 \t0 \t0 \t0 \t0 \t0 \t0 \t0 \t0 \t0 \t0 \t0 \t0 \t0 \t0 \t0 \t0 \t0 \t0 \t0 \t0 \t0 \t0 \t0 \t0 \t0 \t0 \t0 \t0 \t0 \t0 \t0 \t0 \t0 \t0 \t0 \t0 \t0 \t0 \t0 \t0 \t0 \t0 \t0 \t0 \t0 \t0 \t0 \t0 \t0 \t0 \t0 \t0 \t0 \t0 \t0 \t0 \t0 \t0 \t0 \t0 \t0 \t0 \t0 \t0 \t0 \t0 \t0 \t0 \t0 \t0 \t0 \t0 \t0 \t0 \t0 \t0 \t\n",
            "\n",
            "0 \t0 \t0 \t0 \t0 \t0 \t0 \t0 \t0 \t0 \t0 \t0 \t0 \t0 \t0 \t0 \t0 \t0 \t0 \t0 \t0 \t0 \t0 \t0 \t0 \t0 \t0 \t0 \t0 \t0 \t0 \t0 \t0 \t0 \t0 \t0 \t0 \t0 \t0 \t0 \t0 \t0 \t0 \t0 \t0 \t0 \t0 \t0 \t0 \t0 \t0 \t0 \t0 \t0 \t0 \t0 \t0 \t0 \t0 \t0 \t0 \t0 \t0 \t0 \t0 \t0 \t0 \t0 \t0 \t0 \t0 \t0 \t0 \t0 \t0 \t0 \t0 \t0 \t0 \t0 \t0 \t0 \t0 \t0 \t0 \t0 \t0 \t0 \t0 \t0 \t0 \t0 \t0 \t0 \t0 \t0 \t0 \t0 \t0 \t0 \t\n",
            "\n",
            "0 \t0 \t0 \t0 \t0 \t0 \t0 \t0 \t0 \t0 \t0 \t0 \t0 \t0 \t0 \t0 \t0 \t0 \t0 \t0 \t0 \t0 \t0 \t0 \t0 \t0 \t0 \t0 \t0 \t0 \t0 \t0 \t0 \t0 \t0 \t0 \t0 \t0 \t0 \t0 \t0 \t0 \t0 \t0 \t0 \t0 \t0 \t0 \t0 \t0 \t0 \t0 \t0 \t0 \t0 \t0 \t0 \t0 \t0 \t0 \t0 \t0 \t0 \t0 \t0 \t0 \t0 \t0 \t0 \t0 \t0 \t0 \t0 \t0 \t0 \t0 \t0 \t0 \t0 \t0 \t0 \t0 \t0 \t0 \t0 \t0 \t0 \t0 \t0 \t0 \t0 \t0 \t0 \t0 \t0 \t0 \t0 \t0 \t0 \t0 \t\n",
            "\n",
            "0 \t0 \t0 \t0 \t0 \t0 \t0 \t0 \t0 \t0 \t0 \t0 \t0 \t0 \t0 \t0 \t0 \t0 \t0 \t0 \t0 \t0 \t0 \t0 \t0 \t0 \t0 \t0 \t0 \t0 \t0 \t0 \t0 \t0 \t0 \t0 \t0 \t0 \t0 \t0 \t0 \t0 \t0 \t0 \t0 \t0 \t0 \t0 \t0 \t0 \t0 \t0 \t0 \t0 \t0 \t0 \t0 \t0 \t0 \t0 \t0 \t0 \t0 \t0 \t0 \t0 \t0 \t0 \t0 \t0 \t0 \t0 \t0 \t0 \t0 \t0 \t0 \t0 \t0 \t0 \t0 \t0 \t0 \t0 \t0 \t0 \t0 \t0 \t0 \t0 \t0 \t0 \t0 \t0 \t0 \t0 \t0 \t0 \t0 \t0 \t\n",
            "\n",
            "0 \t0 \t0 \t0 \t0 \t0 \t0 \t0 \t0 \t0 \t0 \t0 \t0 \t0 \t0 \t0 \t0 \t0 \t0 \t0 \t0 \t0 \t0 \t0 \t0 \t0 \t0 \t0 \t0 \t0 \t0 \t0 \t0 \t0 \t0 \t0 \t0 \t0 \t0 \t0 \t0 \t0 \t0 \t0 \t0 \t0 \t0 \t0 \t0 \t0 \t0 \t0 \t0 \t0 \t0 \t0 \t0 \t0 \t0 \t0 \t0 \t0 \t0 \t0 \t0 \t0 \t0 \t0 \t0 \t0 \t0 \t0 \t0 \t0 \t0 \t0 \t0 \t0 \t0 \t0 \t0 \t0 \t0 \t0 \t0 \t0 \t0 \t0 \t0 \t0 \t0 \t0 \t0 \t0 \t0 \t0 \t0 \t0 \t0 \t0 \t\n",
            "\n",
            "0 \t0 \t0 \t0 \t0 \t0 \t0 \t0 \t0 \t0 \t0 \t0 \t0 \t0 \t0 \t0 \t0 \t0 \t0 \t0 \t0 \t0 \t0 \t0 \t0 \t0 \t0 \t0 \t0 \t0 \t0 \t0 \t0 \t0 \t0 \t0 \t0 \t0 \t0 \t0 \t0 \t0 \t0 \t0 \t0 \t0 \t0 \t0 \t0 \t0 \t0 \t0 \t0 \t0 \t0 \t0 \t0 \t0 \t0 \t0 \t0 \t0 \t0 \t0 \t0 \t0 \t0 \t0 \t0 \t0 \t0 \t0 \t0 \t0 \t0 \t0 \t0 \t0 \t0 \t0 \t0 \t0 \t0 \t0 \t0 \t0 \t0 \t0 \t0 \t0 \t0 \t0 \t0 \t0 \t0 \t0 \t0 \t0 \t0 \t0 \t\n",
            "\n",
            "0 \t0 \t0 \t0 \t0 \t0 \t0 \t0 \t0 \t0 \t0 \t0 \t0 \t0 \t0 \t0 \t0 \t0 \t0 \t0 \t0 \t0 \t0 \t0 \t0 \t0 \t0 \t0 \t0 \t0 \t0 \t0 \t0 \t0 \t0 \t0 \t0 \t0 \t0 \t0 \t0 \t0 \t0 \t0 \t0 \t0 \t0 \t0 \t0 \t0 \t0 \t0 \t0 \t0 \t0 \t0 \t0 \t0 \t0 \t0 \t0 \t0 \t0 \t0 \t0 \t0 \t0 \t0 \t0 \t0 \t0 \t0 \t0 \t0 \t0 \t0 \t0 \t0 \t0 \t0 \t0 \t0 \t0 \t0 \t0 \t0 \t0 \t0 \t0 \t0 \t0 \t0 \t0 \t0 \t0 \t0 \t0 \t0 \t0 \t0 \t\n",
            "\n",
            "0 \t0 \t0 \t0 \t0 \t0 \t0 \t0 \t0 \t0 \t0 \t0 \t0 \t0 \t0 \t0 \t0 \t0 \t0 \t0 \t0 \t0 \t0 \t0 \t0 \t0 \t0 \t0 \t0 \t0 \t0 \t0 \t0 \t0 \t0 \t0 \t0 \t0 \t0 \t0 \t0 \t0 \t0 \t0 \t0 \t0 \t0 \t0 \t0 \t0 \t0 \t0 \t0 \t0 \t0 \t0 \t0 \t0 \t0 \t0 \t0 \t0 \t0 \t0 \t0 \t0 \t0 \t0 \t0 \t0 \t0 \t0 \t0 \t0 \t0 \t0 \t0 \t0 \t0 \t0 \t0 \t0 \t0 \t0 \t0 \t0 \t0 \t0 \t0 \t0 \t0 \t0 \t0 \t0 \t0 \t0 \t0 \t0 \t0 \t0 \t\n",
            "\n",
            "0 \t0 \t0 \t0 \t0 \t0 \t0 \t0 \t0 \t0 \t0 \t0 \t0 \t0 \t0 \t0 \t0 \t0 \t0 \t0 \t0 \t0 \t0 \t0 \t0 \t0 \t0 \t0 \t0 \t0 \t0 \t0 \t0 \t0 \t0 \t0 \t0 \t0 \t0 \t0 \t0 \t0 \t0 \t0 \t0 \t0 \t0 \t0 \t0 \t0 \t0 \t0 \t0 \t0 \t0 \t0 \t0 \t0 \t0 \t0 \t0 \t0 \t0 \t0 \t0 \t0 \t0 \t0 \t0 \t0 \t0 \t0 \t0 \t0 \t0 \t0 \t0 \t0 \t0 \t0 \t0 \t0 \t0 \t0 \t0 \t0 \t0 \t0 \t0 \t0 \t0 \t0 \t0 \t0 \t0 \t0 \t0 \t0 \t0 \t0 \t\n",
            "\n",
            "0 \t0 \t0 \t0 \t0 \t0 \t0 \t0 \t0 \t0 \t0 \t0 \t0 \t0 \t0 \t0 \t0 \t0 \t0 \t0 \t0 \t0 \t0 \t0 \t0 \t0 \t0 \t0 \t0 \t0 \t0 \t0 \t0 \t0 \t0 \t0 \t0 \t0 \t0 \t0 \t0 \t0 \t0 \t0 \t0 \t0 \t0 \t0 \t0 \t0 \t0 \t0 \t0 \t0 \t0 \t0 \t0 \t0 \t0 \t0 \t0 \t0 \t0 \t0 \t0 \t0 \t0 \t0 \t0 \t0 \t0 \t0 \t0 \t0 \t0 \t0 \t0 \t0 \t0 \t0 \t0 \t0 \t0 \t0 \t0 \t0 \t0 \t0 \t0 \t0 \t0 \t0 \t0 \t0 \t0 \t0 \t0 \t0 \t0 \t0 \t\n",
            "\n",
            "0 \t0 \t0 \t0 \t0 \t0 \t0 \t0 \t0 \t0 \t0 \t0 \t0 \t0 \t0 \t0 \t0 \t0 \t0 \t0 \t0 \t0 \t0 \t0 \t0 \t0 \t0 \t0 \t0 \t0 \t0 \t0 \t0 \t0 \t0 \t0 \t0 \t0 \t0 \t0 \t0 \t0 \t0 \t0 \t0 \t0 \t0 \t0 \t0 \t0 \t0 \t0 \t0 \t0 \t0 \t0 \t0 \t0 \t0 \t0 \t0 \t0 \t0 \t0 \t0 \t0 \t0 \t0 \t0 \t0 \t0 \t0 \t0 \t0 \t0 \t0 \t0 \t0 \t0 \t0 \t0 \t0 \t0 \t0 \t0 \t0 \t0 \t0 \t0 \t0 \t0 \t0 \t0 \t0 \t0 \t0 \t0 \t0 \t0 \t0 \t\n",
            "\n",
            "0 \t0 \t0 \t0 \t0 \t0 \t0 \t0 \t0 \t0 \t0 \t0 \t0 \t0 \t0 \t0 \t0 \t0 \t0 \t0 \t0 \t0 \t0 \t0 \t0 \t0 \t0 \t0 \t0 \t0 \t0 \t0 \t0 \t0 \t0 \t0 \t0 \t0 \t0 \t0 \t0 \t0 \t0 \t0 \t0 \t0 \t0 \t0 \t0 \t0 \t0 \t0 \t0 \t0 \t0 \t0 \t0 \t0 \t0 \t0 \t0 \t0 \t0 \t0 \t0 \t0 \t0 \t0 \t0 \t0 \t0 \t0 \t0 \t0 \t0 \t0 \t0 \t0 \t0 \t0 \t0 \t0 \t0 \t0 \t0 \t0 \t0 \t0 \t0 \t0 \t0 \t0 \t0 \t0 \t0 \t0 \t0 \t0 \t0 \t0 \t\n",
            "\n",
            "0 \t0 \t0 \t0 \t0 \t0 \t0 \t0 \t0 \t0 \t0 \t0 \t0 \t0 \t0 \t0 \t0 \t0 \t0 \t0 \t0 \t0 \t0 \t0 \t0 \t0 \t0 \t0 \t0 \t0 \t0 \t0 \t0 \t0 \t0 \t0 \t0 \t0 \t0 \t0 \t0 \t0 \t0 \t0 \t0 \t0 \t0 \t0 \t0 \t0 \t0 \t0 \t0 \t0 \t0 \t0 \t0 \t0 \t0 \t0 \t0 \t0 \t0 \t0 \t0 \t0 \t0 \t0 \t0 \t0 \t0 \t0 \t0 \t0 \t0 \t0 \t0 \t0 \t0 \t0 \t0 \t0 \t0 \t0 \t0 \t0 \t0 \t0 \t0 \t0 \t0 \t0 \t0 \t0 \t0 \t0 \t0 \t0 \t0 \t0 \t\n",
            "\n",
            "0 \t0 \t0 \t0 \t0 \t0 \t0 \t0 \t0 \t0 \t0 \t0 \t0 \t0 \t0 \t0 \t0 \t0 \t0 \t0 \t0 \t0 \t0 \t0 \t0 \t0 \t0 \t0 \t0 \t0 \t0 \t0 \t0 \t0 \t0 \t0 \t0 \t0 \t0 \t0 \t0 \t0 \t0 \t0 \t0 \t0 \t0 \t0 \t0 \t0 \t0 \t0 \t0 \t0 \t0 \t0 \t0 \t0 \t0 \t0 \t0 \t0 \t0 \t0 \t0 \t0 \t0 \t0 \t0 \t0 \t0 \t0 \t0 \t0 \t0 \t0 \t0 \t0 \t0 \t0 \t0 \t0 \t0 \t0 \t0 \t0 \t0 \t0 \t0 \t0 \t0 \t0 \t0 \t0 \t0 \t0 \t0 \t0 \t0 \t0 \t\n",
            "\n",
            "0 \t0 \t0 \t0 \t0 \t0 \t0 \t0 \t0 \t0 \t0 \t0 \t0 \t0 \t0 \t0 \t0 \t0 \t0 \t0 \t0 \t0 \t0 \t0 \t0 \t0 \t0 \t0 \t0 \t0 \t0 \t0 \t0 \t0 \t0 \t0 \t0 \t0 \t0 \t0 \t0 \t0 \t0 \t0 \t0 \t0 \t0 \t0 \t0 \t0 \t0 \t0 \t0 \t0 \t0 \t0 \t0 \t0 \t0 \t0 \t0 \t0 \t0 \t0 \t0 \t0 \t0 \t0 \t0 \t0 \t0 \t0 \t0 \t0 \t0 \t0 \t0 \t0 \t0 \t0 \t0 \t0 \t0 \t0 \t0 \t0 \t0 \t0 \t0 \t0 \t0 \t0 \t0 \t0 \t0 \t0 \t0 \t0 \t0 \t0 \t\n",
            "\n",
            "0 \t0 \t0 \t0 \t0 \t0 \t0 \t0 \t0 \t0 \t0 \t0 \t0 \t0 \t0 \t0 \t0 \t0 \t0 \t0 \t0 \t0 \t0 \t0 \t0 \t0 \t0 \t0 \t0 \t0 \t0 \t0 \t0 \t0 \t0 \t0 \t0 \t0 \t0 \t0 \t0 \t0 \t0 \t0 \t0 \t0 \t0 \t0 \t0 \t0 \t0 \t0 \t0 \t0 \t0 \t0 \t0 \t0 \t0 \t0 \t0 \t0 \t0 \t0 \t0 \t0 \t0 \t0 \t0 \t0 \t0 \t0 \t0 \t0 \t0 \t0 \t0 \t0 \t0 \t0 \t0 \t0 \t0 \t0 \t0 \t0 \t0 \t0 \t0 \t0 \t0 \t0 \t0 \t0 \t0 \t0 \t0 \t0 \t0 \t0 \t\n",
            "\n",
            "Verde\n",
            "0 \t255 \t255 \t255 \t255 \t255 \t255 \t255 \t255 \t255 \t255 \t255 \t255 \t255 \t255 \t255 \t255 \t255 \t255 \t255 \t255 \t255 \t255 \t255 \t255 \t255 \t255 \t255 \t255 \t255 \t255 \t255 \t255 \t255 \t255 \t255 \t255 \t255 \t255 \t255 \t255 \t255 \t255 \t255 \t255 \t255 \t255 \t255 \t255 \t255 \t255 \t255 \t255 \t255 \t255 \t255 \t255 \t255 \t255 \t255 \t255 \t255 \t255 \t255 \t255 \t255 \t255 \t255 \t255 \t255 \t255 \t255 \t255 \t255 \t255 \t255 \t255 \t255 \t255 \t255 \t255 \t255 \t255 \t255 \t255 \t255 \t255 \t255 \t255 \t255 \t255 \t255 \t255 \t255 \t255 \t255 \t255 \t255 \t255 \t255 \t\n",
            "\n",
            "255 \t0 \t255 \t255 \t255 \t255 \t255 \t255 \t255 \t255 \t255 \t255 \t255 \t255 \t255 \t255 \t255 \t255 \t255 \t255 \t255 \t255 \t255 \t255 \t255 \t255 \t255 \t255 \t255 \t255 \t255 \t255 \t255 \t255 \t255 \t255 \t255 \t255 \t255 \t255 \t255 \t255 \t255 \t255 \t255 \t255 \t255 \t255 \t255 \t255 \t255 \t255 \t255 \t255 \t255 \t255 \t255 \t255 \t255 \t255 \t255 \t255 \t255 \t255 \t255 \t255 \t255 \t255 \t255 \t255 \t255 \t255 \t255 \t255 \t255 \t255 \t255 \t255 \t255 \t255 \t255 \t255 \t255 \t255 \t255 \t255 \t255 \t255 \t255 \t255 \t255 \t255 \t255 \t255 \t255 \t255 \t255 \t255 \t255 \t255 \t\n",
            "\n",
            "255 \t255 \t0 \t255 \t255 \t255 \t255 \t255 \t255 \t255 \t255 \t255 \t255 \t255 \t255 \t255 \t255 \t255 \t255 \t255 \t255 \t255 \t255 \t255 \t255 \t255 \t255 \t255 \t255 \t255 \t255 \t255 \t255 \t255 \t255 \t255 \t255 \t255 \t255 \t255 \t255 \t255 \t255 \t255 \t255 \t255 \t255 \t255 \t255 \t255 \t255 \t255 \t255 \t255 \t255 \t255 \t255 \t255 \t255 \t255 \t255 \t255 \t255 \t255 \t255 \t255 \t255 \t255 \t255 \t255 \t255 \t255 \t255 \t255 \t255 \t255 \t255 \t255 \t255 \t255 \t255 \t255 \t255 \t255 \t255 \t255 \t255 \t255 \t255 \t255 \t255 \t255 \t255 \t255 \t255 \t255 \t255 \t255 \t255 \t255 \t\n",
            "\n",
            "255 \t255 \t255 \t0 \t255 \t255 \t255 \t255 \t255 \t255 \t255 \t255 \t255 \t255 \t255 \t255 \t255 \t255 \t255 \t255 \t255 \t255 \t255 \t255 \t255 \t255 \t255 \t255 \t255 \t255 \t255 \t255 \t255 \t255 \t255 \t255 \t255 \t255 \t255 \t255 \t255 \t255 \t255 \t255 \t255 \t255 \t255 \t255 \t255 \t255 \t255 \t255 \t255 \t255 \t255 \t255 \t255 \t255 \t255 \t255 \t255 \t255 \t255 \t255 \t255 \t255 \t255 \t255 \t255 \t255 \t255 \t255 \t255 \t255 \t255 \t255 \t255 \t255 \t255 \t255 \t255 \t255 \t255 \t255 \t255 \t255 \t255 \t255 \t255 \t255 \t255 \t255 \t255 \t255 \t255 \t255 \t255 \t255 \t255 \t255 \t\n",
            "\n",
            "255 \t255 \t255 \t255 \t0 \t255 \t255 \t255 \t255 \t255 \t255 \t255 \t255 \t255 \t255 \t255 \t255 \t255 \t255 \t255 \t255 \t255 \t255 \t255 \t255 \t255 \t255 \t255 \t255 \t255 \t255 \t255 \t255 \t255 \t255 \t255 \t255 \t255 \t255 \t255 \t255 \t255 \t255 \t255 \t255 \t255 \t255 \t255 \t255 \t255 \t255 \t255 \t255 \t255 \t255 \t255 \t255 \t255 \t255 \t255 \t255 \t255 \t255 \t255 \t255 \t255 \t255 \t255 \t255 \t255 \t255 \t255 \t255 \t255 \t255 \t255 \t255 \t255 \t255 \t255 \t255 \t255 \t255 \t255 \t255 \t255 \t255 \t255 \t255 \t255 \t255 \t255 \t255 \t255 \t255 \t255 \t255 \t255 \t255 \t255 \t\n",
            "\n",
            "255 \t255 \t255 \t255 \t255 \t0 \t255 \t255 \t255 \t255 \t255 \t255 \t255 \t255 \t255 \t255 \t255 \t255 \t255 \t255 \t255 \t255 \t255 \t255 \t255 \t255 \t255 \t255 \t255 \t255 \t255 \t255 \t255 \t255 \t255 \t255 \t255 \t255 \t255 \t255 \t255 \t255 \t255 \t255 \t255 \t255 \t255 \t255 \t255 \t255 \t255 \t255 \t255 \t255 \t255 \t255 \t255 \t255 \t255 \t255 \t255 \t255 \t255 \t255 \t255 \t255 \t255 \t255 \t255 \t255 \t255 \t255 \t255 \t255 \t255 \t255 \t255 \t255 \t255 \t255 \t255 \t255 \t255 \t255 \t255 \t255 \t255 \t255 \t255 \t255 \t255 \t255 \t255 \t255 \t255 \t255 \t255 \t255 \t255 \t255 \t\n",
            "\n",
            "255 \t255 \t255 \t255 \t255 \t255 \t0 \t255 \t255 \t255 \t255 \t255 \t255 \t255 \t255 \t255 \t255 \t255 \t255 \t255 \t255 \t255 \t255 \t255 \t255 \t255 \t255 \t255 \t255 \t255 \t255 \t255 \t255 \t255 \t255 \t255 \t255 \t255 \t255 \t255 \t255 \t255 \t255 \t255 \t255 \t255 \t255 \t255 \t255 \t255 \t255 \t255 \t255 \t255 \t255 \t255 \t255 \t255 \t255 \t255 \t255 \t255 \t255 \t255 \t255 \t255 \t255 \t255 \t255 \t255 \t255 \t255 \t255 \t255 \t255 \t255 \t255 \t255 \t255 \t255 \t255 \t255 \t255 \t255 \t255 \t255 \t255 \t255 \t255 \t255 \t255 \t255 \t255 \t255 \t255 \t255 \t255 \t255 \t255 \t255 \t\n",
            "\n",
            "255 \t255 \t255 \t255 \t255 \t255 \t255 \t0 \t255 \t255 \t255 \t255 \t255 \t255 \t255 \t255 \t255 \t255 \t255 \t255 \t255 \t255 \t255 \t255 \t255 \t255 \t255 \t255 \t255 \t255 \t255 \t255 \t255 \t255 \t255 \t255 \t255 \t255 \t255 \t255 \t255 \t255 \t255 \t255 \t255 \t255 \t255 \t255 \t255 \t255 \t255 \t255 \t255 \t255 \t255 \t255 \t255 \t255 \t255 \t255 \t255 \t255 \t255 \t255 \t255 \t255 \t255 \t255 \t255 \t255 \t255 \t255 \t255 \t255 \t255 \t255 \t255 \t255 \t255 \t255 \t255 \t255 \t255 \t255 \t255 \t255 \t255 \t255 \t255 \t255 \t255 \t255 \t255 \t255 \t255 \t255 \t255 \t255 \t255 \t255 \t\n",
            "\n",
            "255 \t255 \t255 \t255 \t255 \t255 \t255 \t255 \t0 \t255 \t255 \t255 \t255 \t255 \t255 \t255 \t255 \t255 \t255 \t255 \t255 \t255 \t255 \t255 \t255 \t255 \t255 \t255 \t255 \t255 \t255 \t255 \t255 \t255 \t255 \t255 \t255 \t255 \t255 \t255 \t255 \t255 \t255 \t255 \t255 \t255 \t255 \t255 \t255 \t255 \t255 \t255 \t255 \t255 \t255 \t255 \t255 \t255 \t255 \t255 \t255 \t255 \t255 \t255 \t255 \t255 \t255 \t255 \t255 \t255 \t255 \t255 \t255 \t255 \t255 \t255 \t255 \t255 \t255 \t255 \t255 \t255 \t255 \t255 \t255 \t255 \t255 \t255 \t255 \t255 \t255 \t255 \t255 \t255 \t255 \t255 \t255 \t255 \t255 \t255 \t\n",
            "\n",
            "255 \t255 \t255 \t255 \t255 \t255 \t255 \t255 \t255 \t0 \t255 \t255 \t255 \t255 \t255 \t255 \t255 \t255 \t255 \t255 \t255 \t255 \t255 \t255 \t255 \t255 \t255 \t255 \t255 \t255 \t255 \t255 \t255 \t255 \t255 \t255 \t255 \t255 \t255 \t255 \t255 \t255 \t255 \t255 \t255 \t255 \t255 \t255 \t255 \t255 \t255 \t255 \t255 \t255 \t255 \t255 \t255 \t255 \t255 \t255 \t255 \t255 \t255 \t255 \t255 \t255 \t255 \t255 \t255 \t255 \t255 \t255 \t255 \t255 \t255 \t255 \t255 \t255 \t255 \t255 \t255 \t255 \t255 \t255 \t255 \t255 \t255 \t255 \t255 \t255 \t255 \t255 \t255 \t255 \t255 \t255 \t255 \t255 \t255 \t255 \t\n",
            "\n",
            "255 \t255 \t255 \t255 \t255 \t255 \t255 \t255 \t255 \t255 \t0 \t255 \t255 \t255 \t255 \t255 \t255 \t255 \t255 \t255 \t255 \t255 \t255 \t255 \t255 \t255 \t255 \t255 \t255 \t255 \t255 \t255 \t255 \t255 \t255 \t255 \t255 \t255 \t255 \t255 \t255 \t255 \t255 \t255 \t255 \t255 \t255 \t255 \t255 \t255 \t255 \t255 \t255 \t255 \t255 \t255 \t255 \t255 \t255 \t255 \t255 \t255 \t255 \t255 \t255 \t255 \t255 \t255 \t255 \t255 \t255 \t255 \t255 \t255 \t255 \t255 \t255 \t255 \t255 \t255 \t255 \t255 \t255 \t255 \t255 \t255 \t255 \t255 \t255 \t255 \t255 \t255 \t255 \t255 \t255 \t255 \t255 \t255 \t255 \t255 \t\n",
            "\n",
            "255 \t255 \t255 \t255 \t255 \t255 \t255 \t255 \t255 \t255 \t255 \t0 \t255 \t255 \t255 \t255 \t255 \t255 \t255 \t255 \t255 \t255 \t255 \t255 \t255 \t255 \t255 \t255 \t255 \t255 \t255 \t255 \t255 \t255 \t255 \t255 \t255 \t255 \t255 \t255 \t255 \t255 \t255 \t255 \t255 \t255 \t255 \t255 \t255 \t255 \t255 \t255 \t255 \t255 \t255 \t255 \t255 \t255 \t255 \t255 \t255 \t255 \t255 \t255 \t255 \t255 \t255 \t255 \t255 \t255 \t255 \t255 \t255 \t255 \t255 \t255 \t255 \t255 \t255 \t255 \t255 \t255 \t255 \t255 \t255 \t255 \t255 \t255 \t255 \t255 \t255 \t255 \t255 \t255 \t255 \t255 \t255 \t255 \t255 \t255 \t\n",
            "\n",
            "255 \t255 \t255 \t255 \t255 \t255 \t255 \t255 \t255 \t255 \t255 \t255 \t0 \t255 \t255 \t255 \t255 \t255 \t255 \t255 \t255 \t255 \t255 \t255 \t255 \t255 \t255 \t255 \t255 \t255 \t255 \t255 \t255 \t255 \t255 \t255 \t255 \t255 \t255 \t255 \t255 \t255 \t255 \t255 \t255 \t255 \t255 \t255 \t255 \t255 \t255 \t255 \t255 \t255 \t255 \t255 \t255 \t255 \t255 \t255 \t255 \t255 \t255 \t255 \t255 \t255 \t255 \t255 \t255 \t255 \t255 \t255 \t255 \t255 \t255 \t255 \t255 \t255 \t255 \t255 \t255 \t255 \t255 \t255 \t255 \t255 \t255 \t255 \t255 \t255 \t255 \t255 \t255 \t255 \t255 \t255 \t255 \t255 \t255 \t255 \t\n",
            "\n",
            "255 \t255 \t255 \t255 \t255 \t255 \t255 \t255 \t255 \t255 \t255 \t255 \t255 \t0 \t255 \t255 \t255 \t255 \t255 \t255 \t255 \t255 \t255 \t255 \t255 \t255 \t255 \t255 \t255 \t255 \t255 \t255 \t255 \t255 \t255 \t255 \t255 \t255 \t255 \t255 \t255 \t255 \t255 \t255 \t255 \t255 \t255 \t255 \t255 \t255 \t255 \t255 \t255 \t255 \t255 \t255 \t255 \t255 \t255 \t255 \t255 \t255 \t255 \t255 \t255 \t255 \t255 \t255 \t255 \t255 \t255 \t255 \t255 \t255 \t255 \t255 \t255 \t255 \t255 \t255 \t255 \t255 \t255 \t255 \t255 \t255 \t255 \t255 \t255 \t255 \t255 \t255 \t255 \t255 \t255 \t255 \t255 \t255 \t255 \t255 \t\n",
            "\n",
            "255 \t255 \t255 \t255 \t255 \t255 \t255 \t255 \t255 \t255 \t255 \t255 \t255 \t255 \t0 \t255 \t255 \t255 \t255 \t255 \t255 \t255 \t255 \t255 \t255 \t255 \t255 \t255 \t255 \t255 \t255 \t255 \t255 \t255 \t255 \t255 \t255 \t255 \t255 \t255 \t255 \t255 \t255 \t255 \t255 \t255 \t255 \t255 \t255 \t255 \t255 \t255 \t255 \t255 \t255 \t255 \t255 \t255 \t255 \t255 \t255 \t255 \t255 \t255 \t255 \t255 \t255 \t255 \t255 \t255 \t255 \t255 \t255 \t255 \t255 \t255 \t255 \t255 \t255 \t255 \t255 \t255 \t255 \t255 \t255 \t255 \t255 \t255 \t255 \t255 \t255 \t255 \t255 \t255 \t255 \t255 \t255 \t255 \t255 \t255 \t\n",
            "\n",
            "255 \t255 \t255 \t255 \t255 \t255 \t255 \t255 \t255 \t255 \t255 \t255 \t255 \t255 \t255 \t0 \t255 \t255 \t255 \t255 \t255 \t255 \t255 \t255 \t255 \t255 \t255 \t255 \t255 \t255 \t255 \t255 \t255 \t255 \t255 \t255 \t255 \t255 \t255 \t255 \t255 \t255 \t255 \t255 \t255 \t255 \t255 \t255 \t255 \t255 \t255 \t255 \t255 \t255 \t255 \t255 \t255 \t255 \t255 \t255 \t255 \t255 \t255 \t255 \t255 \t255 \t255 \t255 \t255 \t255 \t255 \t255 \t255 \t255 \t255 \t255 \t255 \t255 \t255 \t255 \t255 \t255 \t255 \t255 \t255 \t255 \t255 \t255 \t255 \t255 \t255 \t255 \t255 \t255 \t255 \t255 \t255 \t255 \t255 \t255 \t\n",
            "\n",
            "255 \t255 \t255 \t255 \t255 \t255 \t255 \t255 \t255 \t255 \t255 \t255 \t255 \t255 \t255 \t255 \t0 \t255 \t255 \t255 \t255 \t255 \t255 \t255 \t255 \t255 \t255 \t255 \t255 \t255 \t255 \t255 \t255 \t255 \t255 \t255 \t255 \t255 \t255 \t255 \t255 \t255 \t255 \t255 \t255 \t255 \t255 \t255 \t255 \t255 \t255 \t255 \t255 \t255 \t255 \t255 \t255 \t255 \t255 \t255 \t255 \t255 \t255 \t255 \t255 \t255 \t255 \t255 \t255 \t255 \t255 \t255 \t255 \t255 \t255 \t255 \t255 \t255 \t255 \t255 \t255 \t255 \t255 \t255 \t255 \t255 \t255 \t255 \t255 \t255 \t255 \t255 \t255 \t255 \t255 \t255 \t255 \t255 \t255 \t255 \t\n",
            "\n",
            "255 \t255 \t255 \t255 \t255 \t255 \t255 \t255 \t255 \t255 \t255 \t255 \t255 \t255 \t255 \t255 \t255 \t0 \t255 \t255 \t255 \t255 \t255 \t255 \t255 \t255 \t255 \t255 \t255 \t255 \t255 \t255 \t255 \t255 \t255 \t255 \t255 \t255 \t255 \t255 \t255 \t255 \t255 \t255 \t255 \t255 \t255 \t255 \t255 \t255 \t255 \t255 \t255 \t255 \t255 \t255 \t255 \t255 \t255 \t255 \t255 \t255 \t255 \t255 \t255 \t255 \t255 \t255 \t255 \t255 \t255 \t255 \t255 \t255 \t255 \t255 \t255 \t255 \t255 \t255 \t255 \t255 \t255 \t255 \t255 \t255 \t255 \t255 \t255 \t255 \t255 \t255 \t255 \t255 \t255 \t255 \t255 \t255 \t255 \t255 \t\n",
            "\n",
            "255 \t255 \t255 \t255 \t255 \t255 \t255 \t255 \t255 \t255 \t255 \t255 \t255 \t255 \t255 \t255 \t255 \t255 \t0 \t255 \t255 \t255 \t255 \t255 \t255 \t255 \t255 \t255 \t255 \t255 \t255 \t255 \t255 \t255 \t255 \t255 \t255 \t255 \t255 \t255 \t255 \t255 \t255 \t255 \t255 \t255 \t255 \t255 \t255 \t255 \t255 \t255 \t255 \t255 \t255 \t255 \t255 \t255 \t255 \t255 \t255 \t255 \t255 \t255 \t255 \t255 \t255 \t255 \t255 \t255 \t255 \t255 \t255 \t255 \t255 \t255 \t255 \t255 \t255 \t255 \t255 \t255 \t255 \t255 \t255 \t255 \t255 \t255 \t255 \t255 \t255 \t255 \t255 \t255 \t255 \t255 \t255 \t255 \t255 \t255 \t\n",
            "\n",
            "255 \t255 \t255 \t255 \t255 \t255 \t255 \t255 \t255 \t255 \t255 \t255 \t255 \t255 \t255 \t255 \t255 \t255 \t255 \t0 \t255 \t255 \t255 \t255 \t255 \t255 \t255 \t255 \t255 \t255 \t255 \t255 \t255 \t255 \t255 \t255 \t255 \t255 \t255 \t255 \t255 \t255 \t255 \t255 \t255 \t255 \t255 \t255 \t255 \t255 \t255 \t255 \t255 \t255 \t255 \t255 \t255 \t255 \t255 \t255 \t255 \t255 \t255 \t255 \t255 \t255 \t255 \t255 \t255 \t255 \t255 \t255 \t255 \t255 \t255 \t255 \t255 \t255 \t255 \t255 \t255 \t255 \t255 \t255 \t255 \t255 \t255 \t255 \t255 \t255 \t255 \t255 \t255 \t255 \t255 \t255 \t255 \t255 \t255 \t255 \t\n",
            "\n",
            "255 \t255 \t255 \t255 \t255 \t255 \t255 \t255 \t255 \t255 \t255 \t255 \t255 \t255 \t255 \t255 \t255 \t255 \t255 \t255 \t0 \t255 \t255 \t255 \t255 \t255 \t255 \t255 \t255 \t255 \t255 \t255 \t255 \t255 \t255 \t255 \t255 \t255 \t255 \t255 \t255 \t255 \t255 \t255 \t255 \t255 \t255 \t255 \t255 \t255 \t255 \t255 \t255 \t255 \t255 \t255 \t255 \t255 \t255 \t255 \t255 \t255 \t255 \t255 \t255 \t255 \t255 \t255 \t255 \t255 \t255 \t255 \t255 \t255 \t255 \t255 \t255 \t255 \t255 \t255 \t255 \t255 \t255 \t255 \t255 \t255 \t255 \t255 \t255 \t255 \t255 \t255 \t255 \t255 \t255 \t255 \t255 \t255 \t255 \t255 \t\n",
            "\n",
            "255 \t255 \t255 \t255 \t255 \t255 \t255 \t255 \t255 \t255 \t255 \t255 \t255 \t255 \t255 \t255 \t255 \t255 \t255 \t255 \t255 \t0 \t255 \t255 \t255 \t255 \t255 \t255 \t255 \t255 \t255 \t255 \t255 \t255 \t255 \t255 \t255 \t255 \t255 \t255 \t255 \t255 \t255 \t255 \t255 \t255 \t255 \t255 \t255 \t255 \t255 \t255 \t255 \t255 \t255 \t255 \t255 \t255 \t255 \t255 \t255 \t255 \t255 \t255 \t255 \t255 \t255 \t255 \t255 \t255 \t255 \t255 \t255 \t255 \t255 \t255 \t255 \t255 \t255 \t255 \t255 \t255 \t255 \t255 \t255 \t255 \t255 \t255 \t255 \t255 \t255 \t255 \t255 \t255 \t255 \t255 \t255 \t255 \t255 \t255 \t\n",
            "\n",
            "255 \t255 \t255 \t255 \t255 \t255 \t255 \t255 \t255 \t255 \t255 \t255 \t255 \t255 \t255 \t255 \t255 \t255 \t255 \t255 \t255 \t255 \t0 \t255 \t255 \t255 \t255 \t255 \t255 \t255 \t255 \t255 \t255 \t255 \t255 \t255 \t255 \t255 \t255 \t255 \t255 \t255 \t255 \t255 \t255 \t255 \t255 \t255 \t255 \t255 \t255 \t255 \t255 \t255 \t255 \t255 \t255 \t255 \t255 \t255 \t255 \t255 \t255 \t255 \t255 \t255 \t255 \t255 \t255 \t255 \t255 \t255 \t255 \t255 \t255 \t255 \t255 \t255 \t255 \t255 \t255 \t255 \t255 \t255 \t255 \t255 \t255 \t255 \t255 \t255 \t255 \t255 \t255 \t255 \t255 \t255 \t255 \t255 \t255 \t255 \t\n",
            "\n",
            "255 \t255 \t255 \t255 \t255 \t255 \t255 \t255 \t255 \t255 \t255 \t255 \t255 \t255 \t255 \t255 \t255 \t255 \t255 \t255 \t255 \t255 \t255 \t0 \t255 \t255 \t255 \t255 \t255 \t255 \t255 \t255 \t255 \t255 \t255 \t255 \t255 \t255 \t255 \t255 \t255 \t255 \t255 \t255 \t255 \t255 \t255 \t255 \t255 \t255 \t255 \t255 \t255 \t255 \t255 \t255 \t255 \t255 \t255 \t255 \t255 \t255 \t255 \t255 \t255 \t255 \t255 \t255 \t255 \t255 \t255 \t255 \t255 \t255 \t255 \t255 \t255 \t255 \t255 \t255 \t255 \t255 \t255 \t255 \t255 \t255 \t255 \t255 \t255 \t255 \t255 \t255 \t255 \t255 \t255 \t255 \t255 \t255 \t255 \t255 \t\n",
            "\n",
            "255 \t255 \t255 \t255 \t255 \t255 \t255 \t255 \t255 \t255 \t255 \t255 \t255 \t255 \t255 \t255 \t255 \t255 \t255 \t255 \t255 \t255 \t255 \t255 \t0 \t255 \t255 \t255 \t255 \t255 \t255 \t255 \t255 \t255 \t255 \t255 \t255 \t255 \t255 \t255 \t255 \t255 \t255 \t255 \t255 \t255 \t255 \t255 \t255 \t255 \t255 \t255 \t255 \t255 \t255 \t255 \t255 \t255 \t255 \t255 \t255 \t255 \t255 \t255 \t255 \t255 \t255 \t255 \t255 \t255 \t255 \t255 \t255 \t255 \t255 \t255 \t255 \t255 \t255 \t255 \t255 \t255 \t255 \t255 \t255 \t255 \t255 \t255 \t255 \t255 \t255 \t255 \t255 \t255 \t255 \t255 \t255 \t255 \t255 \t255 \t\n",
            "\n",
            "255 \t255 \t255 \t255 \t255 \t255 \t255 \t255 \t255 \t255 \t255 \t255 \t255 \t255 \t255 \t255 \t255 \t255 \t255 \t255 \t255 \t255 \t255 \t255 \t255 \t0 \t255 \t255 \t255 \t255 \t255 \t255 \t255 \t255 \t255 \t255 \t255 \t255 \t255 \t255 \t255 \t255 \t255 \t255 \t255 \t255 \t255 \t255 \t255 \t255 \t255 \t255 \t255 \t255 \t255 \t255 \t255 \t255 \t255 \t255 \t255 \t255 \t255 \t255 \t255 \t255 \t255 \t255 \t255 \t255 \t255 \t255 \t255 \t255 \t255 \t255 \t255 \t255 \t255 \t255 \t255 \t255 \t255 \t255 \t255 \t255 \t255 \t255 \t255 \t255 \t255 \t255 \t255 \t255 \t255 \t255 \t255 \t255 \t255 \t255 \t\n",
            "\n",
            "255 \t255 \t255 \t255 \t255 \t255 \t255 \t255 \t255 \t255 \t255 \t255 \t255 \t255 \t255 \t255 \t255 \t255 \t255 \t255 \t255 \t255 \t255 \t255 \t255 \t255 \t0 \t255 \t255 \t255 \t255 \t255 \t255 \t255 \t255 \t255 \t255 \t255 \t255 \t255 \t255 \t255 \t255 \t255 \t255 \t255 \t255 \t255 \t255 \t255 \t255 \t255 \t255 \t255 \t255 \t255 \t255 \t255 \t255 \t255 \t255 \t255 \t255 \t255 \t255 \t255 \t255 \t255 \t255 \t255 \t255 \t255 \t255 \t255 \t255 \t255 \t255 \t255 \t255 \t255 \t255 \t255 \t255 \t255 \t255 \t255 \t255 \t255 \t255 \t255 \t255 \t255 \t255 \t255 \t255 \t255 \t255 \t255 \t255 \t255 \t\n",
            "\n",
            "255 \t255 \t255 \t255 \t255 \t255 \t255 \t255 \t255 \t255 \t255 \t255 \t255 \t255 \t255 \t255 \t255 \t255 \t255 \t255 \t255 \t255 \t255 \t255 \t255 \t255 \t255 \t0 \t255 \t255 \t255 \t255 \t255 \t255 \t255 \t255 \t255 \t255 \t255 \t255 \t255 \t255 \t255 \t255 \t255 \t255 \t255 \t255 \t255 \t255 \t255 \t255 \t255 \t255 \t255 \t255 \t255 \t255 \t255 \t255 \t255 \t255 \t255 \t255 \t255 \t255 \t255 \t255 \t255 \t255 \t255 \t255 \t255 \t255 \t255 \t255 \t255 \t255 \t255 \t255 \t255 \t255 \t255 \t255 \t255 \t255 \t255 \t255 \t255 \t255 \t255 \t255 \t255 \t255 \t255 \t255 \t255 \t255 \t255 \t255 \t\n",
            "\n",
            "255 \t255 \t255 \t255 \t255 \t255 \t255 \t255 \t255 \t255 \t255 \t255 \t255 \t255 \t255 \t255 \t255 \t255 \t255 \t255 \t255 \t255 \t255 \t255 \t255 \t255 \t255 \t255 \t0 \t255 \t255 \t255 \t255 \t255 \t255 \t255 \t255 \t255 \t255 \t255 \t255 \t255 \t255 \t255 \t255 \t255 \t255 \t255 \t255 \t255 \t255 \t255 \t255 \t255 \t255 \t255 \t255 \t255 \t255 \t255 \t255 \t255 \t255 \t255 \t255 \t255 \t255 \t255 \t255 \t255 \t255 \t255 \t255 \t255 \t255 \t255 \t255 \t255 \t255 \t255 \t255 \t255 \t255 \t255 \t255 \t255 \t255 \t255 \t255 \t255 \t255 \t255 \t255 \t255 \t255 \t255 \t255 \t255 \t255 \t255 \t\n",
            "\n",
            "255 \t255 \t255 \t255 \t255 \t255 \t255 \t255 \t255 \t255 \t255 \t255 \t255 \t255 \t255 \t255 \t255 \t255 \t255 \t255 \t255 \t255 \t255 \t255 \t255 \t255 \t255 \t255 \t255 \t0 \t255 \t255 \t255 \t255 \t255 \t255 \t255 \t255 \t255 \t255 \t255 \t255 \t255 \t255 \t255 \t255 \t255 \t255 \t255 \t255 \t255 \t255 \t255 \t255 \t255 \t255 \t255 \t255 \t255 \t255 \t255 \t255 \t255 \t255 \t255 \t255 \t255 \t255 \t255 \t255 \t255 \t255 \t255 \t255 \t255 \t255 \t255 \t255 \t255 \t255 \t255 \t255 \t255 \t255 \t255 \t255 \t255 \t255 \t255 \t255 \t255 \t255 \t255 \t255 \t255 \t255 \t255 \t255 \t255 \t255 \t\n",
            "\n",
            "255 \t255 \t255 \t255 \t255 \t255 \t255 \t255 \t255 \t255 \t255 \t255 \t255 \t255 \t255 \t255 \t255 \t255 \t255 \t255 \t255 \t255 \t255 \t255 \t255 \t255 \t255 \t255 \t255 \t255 \t0 \t255 \t255 \t255 \t255 \t255 \t255 \t255 \t255 \t255 \t255 \t255 \t255 \t255 \t255 \t255 \t255 \t255 \t255 \t255 \t255 \t255 \t255 \t255 \t255 \t255 \t255 \t255 \t255 \t255 \t255 \t255 \t255 \t255 \t255 \t255 \t255 \t255 \t255 \t255 \t255 \t255 \t255 \t255 \t255 \t255 \t255 \t255 \t255 \t255 \t255 \t255 \t255 \t255 \t255 \t255 \t255 \t255 \t255 \t255 \t255 \t255 \t255 \t255 \t255 \t255 \t255 \t255 \t255 \t255 \t\n",
            "\n",
            "255 \t255 \t255 \t255 \t255 \t255 \t255 \t255 \t255 \t255 \t255 \t255 \t255 \t255 \t255 \t255 \t255 \t255 \t255 \t255 \t255 \t255 \t255 \t255 \t255 \t255 \t255 \t255 \t255 \t255 \t255 \t0 \t255 \t255 \t255 \t255 \t255 \t255 \t255 \t255 \t255 \t255 \t255 \t255 \t255 \t255 \t255 \t255 \t255 \t255 \t255 \t255 \t255 \t255 \t255 \t255 \t255 \t255 \t255 \t255 \t255 \t255 \t255 \t255 \t255 \t255 \t255 \t255 \t255 \t255 \t255 \t255 \t255 \t255 \t255 \t255 \t255 \t255 \t255 \t255 \t255 \t255 \t255 \t255 \t255 \t255 \t255 \t255 \t255 \t255 \t255 \t255 \t255 \t255 \t255 \t255 \t255 \t255 \t255 \t255 \t\n",
            "\n",
            "255 \t255 \t255 \t255 \t255 \t255 \t255 \t255 \t255 \t255 \t255 \t255 \t255 \t255 \t255 \t255 \t255 \t255 \t255 \t255 \t255 \t255 \t255 \t255 \t255 \t255 \t255 \t255 \t255 \t255 \t255 \t255 \t0 \t255 \t255 \t255 \t255 \t255 \t255 \t255 \t255 \t255 \t255 \t255 \t255 \t255 \t255 \t255 \t255 \t255 \t255 \t255 \t255 \t255 \t255 \t255 \t255 \t255 \t255 \t255 \t255 \t255 \t255 \t255 \t255 \t255 \t255 \t255 \t255 \t255 \t255 \t255 \t255 \t255 \t255 \t255 \t255 \t255 \t255 \t255 \t255 \t255 \t255 \t255 \t255 \t255 \t255 \t255 \t255 \t255 \t255 \t255 \t255 \t255 \t255 \t255 \t255 \t255 \t255 \t255 \t\n",
            "\n",
            "255 \t255 \t255 \t255 \t255 \t255 \t255 \t255 \t255 \t255 \t255 \t255 \t255 \t255 \t255 \t255 \t255 \t255 \t255 \t255 \t255 \t255 \t255 \t255 \t255 \t255 \t255 \t255 \t255 \t255 \t255 \t255 \t255 \t0 \t255 \t255 \t255 \t255 \t255 \t255 \t255 \t255 \t255 \t255 \t255 \t255 \t255 \t255 \t255 \t255 \t255 \t255 \t255 \t255 \t255 \t255 \t255 \t255 \t255 \t255 \t255 \t255 \t255 \t255 \t255 \t255 \t255 \t255 \t255 \t255 \t255 \t255 \t255 \t255 \t255 \t255 \t255 \t255 \t255 \t255 \t255 \t255 \t255 \t255 \t255 \t255 \t255 \t255 \t255 \t255 \t255 \t255 \t255 \t255 \t255 \t255 \t255 \t255 \t255 \t255 \t\n",
            "\n",
            "255 \t255 \t255 \t255 \t255 \t255 \t255 \t255 \t255 \t255 \t255 \t255 \t255 \t255 \t255 \t255 \t255 \t255 \t255 \t255 \t255 \t255 \t255 \t255 \t255 \t255 \t255 \t255 \t255 \t255 \t255 \t255 \t255 \t255 \t0 \t255 \t255 \t255 \t255 \t255 \t255 \t255 \t255 \t255 \t255 \t255 \t255 \t255 \t255 \t255 \t255 \t255 \t255 \t255 \t255 \t255 \t255 \t255 \t255 \t255 \t255 \t255 \t255 \t255 \t255 \t255 \t255 \t255 \t255 \t255 \t255 \t255 \t255 \t255 \t255 \t255 \t255 \t255 \t255 \t255 \t255 \t255 \t255 \t255 \t255 \t255 \t255 \t255 \t255 \t255 \t255 \t255 \t255 \t255 \t255 \t255 \t255 \t255 \t255 \t255 \t\n",
            "\n",
            "255 \t255 \t255 \t255 \t255 \t255 \t255 \t255 \t255 \t255 \t255 \t255 \t255 \t255 \t255 \t255 \t255 \t255 \t255 \t255 \t255 \t255 \t255 \t255 \t255 \t255 \t255 \t255 \t255 \t255 \t255 \t255 \t255 \t255 \t255 \t0 \t255 \t255 \t255 \t255 \t255 \t255 \t255 \t255 \t255 \t255 \t255 \t255 \t255 \t255 \t255 \t255 \t255 \t255 \t255 \t255 \t255 \t255 \t255 \t255 \t255 \t255 \t255 \t255 \t255 \t255 \t255 \t255 \t255 \t255 \t255 \t255 \t255 \t255 \t255 \t255 \t255 \t255 \t255 \t255 \t255 \t255 \t255 \t255 \t255 \t255 \t255 \t255 \t255 \t255 \t255 \t255 \t255 \t255 \t255 \t255 \t255 \t255 \t255 \t255 \t\n",
            "\n",
            "255 \t255 \t255 \t255 \t255 \t255 \t255 \t255 \t255 \t255 \t255 \t255 \t255 \t255 \t255 \t255 \t255 \t255 \t255 \t255 \t255 \t255 \t255 \t255 \t255 \t255 \t255 \t255 \t255 \t255 \t255 \t255 \t255 \t255 \t255 \t255 \t0 \t255 \t255 \t255 \t255 \t255 \t255 \t255 \t255 \t255 \t255 \t255 \t255 \t255 \t255 \t255 \t255 \t255 \t255 \t255 \t255 \t255 \t255 \t255 \t255 \t255 \t255 \t255 \t255 \t255 \t255 \t255 \t255 \t255 \t255 \t255 \t255 \t255 \t255 \t255 \t255 \t255 \t255 \t255 \t255 \t255 \t255 \t255 \t255 \t255 \t255 \t255 \t255 \t255 \t255 \t255 \t255 \t255 \t255 \t255 \t255 \t255 \t255 \t255 \t\n",
            "\n",
            "255 \t255 \t255 \t255 \t255 \t255 \t255 \t255 \t255 \t255 \t255 \t255 \t255 \t255 \t255 \t255 \t255 \t255 \t255 \t255 \t255 \t255 \t255 \t255 \t255 \t255 \t255 \t255 \t255 \t255 \t255 \t255 \t255 \t255 \t255 \t255 \t255 \t0 \t255 \t255 \t255 \t255 \t255 \t255 \t255 \t255 \t255 \t255 \t255 \t255 \t255 \t255 \t255 \t255 \t255 \t255 \t255 \t255 \t255 \t255 \t255 \t255 \t255 \t255 \t255 \t255 \t255 \t255 \t255 \t255 \t255 \t255 \t255 \t255 \t255 \t255 \t255 \t255 \t255 \t255 \t255 \t255 \t255 \t255 \t255 \t255 \t255 \t255 \t255 \t255 \t255 \t255 \t255 \t255 \t255 \t255 \t255 \t255 \t255 \t255 \t\n",
            "\n",
            "255 \t255 \t255 \t255 \t255 \t255 \t255 \t255 \t255 \t255 \t255 \t255 \t255 \t255 \t255 \t255 \t255 \t255 \t255 \t255 \t255 \t255 \t255 \t255 \t255 \t255 \t255 \t255 \t255 \t255 \t255 \t255 \t255 \t255 \t255 \t255 \t255 \t255 \t0 \t255 \t255 \t255 \t255 \t255 \t255 \t255 \t255 \t255 \t255 \t255 \t255 \t255 \t255 \t255 \t255 \t255 \t255 \t255 \t255 \t255 \t255 \t255 \t255 \t255 \t255 \t255 \t255 \t255 \t255 \t255 \t255 \t255 \t255 \t255 \t255 \t255 \t255 \t255 \t255 \t255 \t255 \t255 \t255 \t255 \t255 \t255 \t255 \t255 \t255 \t255 \t255 \t255 \t255 \t255 \t255 \t255 \t255 \t255 \t255 \t255 \t\n",
            "\n",
            "255 \t255 \t255 \t255 \t255 \t255 \t255 \t255 \t255 \t255 \t255 \t255 \t255 \t255 \t255 \t255 \t255 \t255 \t255 \t255 \t255 \t255 \t255 \t255 \t255 \t255 \t255 \t255 \t255 \t255 \t255 \t255 \t255 \t255 \t255 \t255 \t255 \t255 \t255 \t0 \t255 \t255 \t255 \t255 \t255 \t255 \t255 \t255 \t255 \t255 \t255 \t255 \t255 \t255 \t255 \t255 \t255 \t255 \t255 \t255 \t255 \t255 \t255 \t255 \t255 \t255 \t255 \t255 \t255 \t255 \t255 \t255 \t255 \t255 \t255 \t255 \t255 \t255 \t255 \t255 \t255 \t255 \t255 \t255 \t255 \t255 \t255 \t255 \t255 \t255 \t255 \t255 \t255 \t255 \t255 \t255 \t255 \t255 \t255 \t255 \t\n",
            "\n",
            "255 \t255 \t255 \t255 \t255 \t255 \t255 \t255 \t255 \t255 \t255 \t255 \t255 \t255 \t255 \t255 \t255 \t255 \t255 \t255 \t255 \t255 \t255 \t255 \t255 \t255 \t255 \t255 \t255 \t255 \t255 \t255 \t255 \t255 \t255 \t255 \t255 \t255 \t255 \t255 \t0 \t255 \t255 \t255 \t255 \t255 \t255 \t255 \t255 \t255 \t255 \t255 \t255 \t255 \t255 \t255 \t255 \t255 \t255 \t255 \t255 \t255 \t255 \t255 \t255 \t255 \t255 \t255 \t255 \t255 \t255 \t255 \t255 \t255 \t255 \t255 \t255 \t255 \t255 \t255 \t255 \t255 \t255 \t255 \t255 \t255 \t255 \t255 \t255 \t255 \t255 \t255 \t255 \t255 \t255 \t255 \t255 \t255 \t255 \t255 \t\n",
            "\n",
            "255 \t255 \t255 \t255 \t255 \t255 \t255 \t255 \t255 \t255 \t255 \t255 \t255 \t255 \t255 \t255 \t255 \t255 \t255 \t255 \t255 \t255 \t255 \t255 \t255 \t255 \t255 \t255 \t255 \t255 \t255 \t255 \t255 \t255 \t255 \t255 \t255 \t255 \t255 \t255 \t255 \t0 \t255 \t255 \t255 \t255 \t255 \t255 \t255 \t255 \t255 \t255 \t255 \t255 \t255 \t255 \t255 \t255 \t255 \t255 \t255 \t255 \t255 \t255 \t255 \t255 \t255 \t255 \t255 \t255 \t255 \t255 \t255 \t255 \t255 \t255 \t255 \t255 \t255 \t255 \t255 \t255 \t255 \t255 \t255 \t255 \t255 \t255 \t255 \t255 \t255 \t255 \t255 \t255 \t255 \t255 \t255 \t255 \t255 \t255 \t\n",
            "\n",
            "255 \t255 \t255 \t255 \t255 \t255 \t255 \t255 \t255 \t255 \t255 \t255 \t255 \t255 \t255 \t255 \t255 \t255 \t255 \t255 \t255 \t255 \t255 \t255 \t255 \t255 \t255 \t255 \t255 \t255 \t255 \t255 \t255 \t255 \t255 \t255 \t255 \t255 \t255 \t255 \t255 \t255 \t0 \t255 \t255 \t255 \t255 \t255 \t255 \t255 \t255 \t255 \t255 \t255 \t255 \t255 \t255 \t255 \t255 \t255 \t255 \t255 \t255 \t255 \t255 \t255 \t255 \t255 \t255 \t255 \t255 \t255 \t255 \t255 \t255 \t255 \t255 \t255 \t255 \t255 \t255 \t255 \t255 \t255 \t255 \t255 \t255 \t255 \t255 \t255 \t255 \t255 \t255 \t255 \t255 \t255 \t255 \t255 \t255 \t255 \t\n",
            "\n",
            "255 \t255 \t255 \t255 \t255 \t255 \t255 \t255 \t255 \t255 \t255 \t255 \t255 \t255 \t255 \t255 \t255 \t255 \t255 \t255 \t255 \t255 \t255 \t255 \t255 \t255 \t255 \t255 \t255 \t255 \t255 \t255 \t255 \t255 \t255 \t255 \t255 \t255 \t255 \t255 \t255 \t255 \t255 \t0 \t255 \t255 \t255 \t255 \t255 \t255 \t255 \t255 \t255 \t255 \t255 \t255 \t255 \t255 \t255 \t255 \t255 \t255 \t255 \t255 \t255 \t255 \t255 \t255 \t255 \t255 \t255 \t255 \t255 \t255 \t255 \t255 \t255 \t255 \t255 \t255 \t255 \t255 \t255 \t255 \t255 \t255 \t255 \t255 \t255 \t255 \t255 \t255 \t255 \t255 \t255 \t255 \t255 \t255 \t255 \t255 \t\n",
            "\n",
            "255 \t255 \t255 \t255 \t255 \t255 \t255 \t255 \t255 \t255 \t255 \t255 \t255 \t255 \t255 \t255 \t255 \t255 \t255 \t255 \t255 \t255 \t255 \t255 \t255 \t255 \t255 \t255 \t255 \t255 \t255 \t255 \t255 \t255 \t255 \t255 \t255 \t255 \t255 \t255 \t255 \t255 \t255 \t255 \t0 \t255 \t255 \t255 \t255 \t255 \t255 \t255 \t255 \t255 \t255 \t255 \t255 \t255 \t255 \t255 \t255 \t255 \t255 \t255 \t255 \t255 \t255 \t255 \t255 \t255 \t255 \t255 \t255 \t255 \t255 \t255 \t255 \t255 \t255 \t255 \t255 \t255 \t255 \t255 \t255 \t255 \t255 \t255 \t255 \t255 \t255 \t255 \t255 \t255 \t255 \t255 \t255 \t255 \t255 \t255 \t\n",
            "\n",
            "255 \t255 \t255 \t255 \t255 \t255 \t255 \t255 \t255 \t255 \t255 \t255 \t255 \t255 \t255 \t255 \t255 \t255 \t255 \t255 \t255 \t255 \t255 \t255 \t255 \t255 \t255 \t255 \t255 \t255 \t255 \t255 \t255 \t255 \t255 \t255 \t255 \t255 \t255 \t255 \t255 \t255 \t255 \t255 \t255 \t0 \t255 \t255 \t255 \t255 \t255 \t255 \t255 \t255 \t255 \t255 \t255 \t255 \t255 \t255 \t255 \t255 \t255 \t255 \t255 \t255 \t255 \t255 \t255 \t255 \t255 \t255 \t255 \t255 \t255 \t255 \t255 \t255 \t255 \t255 \t255 \t255 \t255 \t255 \t255 \t255 \t255 \t255 \t255 \t255 \t255 \t255 \t255 \t255 \t255 \t255 \t255 \t255 \t255 \t255 \t\n",
            "\n",
            "255 \t255 \t255 \t255 \t255 \t255 \t255 \t255 \t255 \t255 \t255 \t255 \t255 \t255 \t255 \t255 \t255 \t255 \t255 \t255 \t255 \t255 \t255 \t255 \t255 \t255 \t255 \t255 \t255 \t255 \t255 \t255 \t255 \t255 \t255 \t255 \t255 \t255 \t255 \t255 \t255 \t255 \t255 \t255 \t255 \t255 \t0 \t255 \t255 \t255 \t255 \t255 \t255 \t255 \t255 \t255 \t255 \t255 \t255 \t255 \t255 \t255 \t255 \t255 \t255 \t255 \t255 \t255 \t255 \t255 \t255 \t255 \t255 \t255 \t255 \t255 \t255 \t255 \t255 \t255 \t255 \t255 \t255 \t255 \t255 \t255 \t255 \t255 \t255 \t255 \t255 \t255 \t255 \t255 \t255 \t255 \t255 \t255 \t255 \t255 \t\n",
            "\n",
            "255 \t255 \t255 \t255 \t255 \t255 \t255 \t255 \t255 \t255 \t255 \t255 \t255 \t255 \t255 \t255 \t255 \t255 \t255 \t255 \t255 \t255 \t255 \t255 \t255 \t255 \t255 \t255 \t255 \t255 \t255 \t255 \t255 \t255 \t255 \t255 \t255 \t255 \t255 \t255 \t255 \t255 \t255 \t255 \t255 \t255 \t255 \t0 \t255 \t255 \t255 \t255 \t255 \t255 \t255 \t255 \t255 \t255 \t255 \t255 \t255 \t255 \t255 \t255 \t255 \t255 \t255 \t255 \t255 \t255 \t255 \t255 \t255 \t255 \t255 \t255 \t255 \t255 \t255 \t255 \t255 \t255 \t255 \t255 \t255 \t255 \t255 \t255 \t255 \t255 \t255 \t255 \t255 \t255 \t255 \t255 \t255 \t255 \t255 \t255 \t\n",
            "\n",
            "255 \t255 \t255 \t255 \t255 \t255 \t255 \t255 \t255 \t255 \t255 \t255 \t255 \t255 \t255 \t255 \t255 \t255 \t255 \t255 \t255 \t255 \t255 \t255 \t255 \t255 \t255 \t255 \t255 \t255 \t255 \t255 \t255 \t255 \t255 \t255 \t255 \t255 \t255 \t255 \t255 \t255 \t255 \t255 \t255 \t255 \t255 \t255 \t0 \t255 \t255 \t255 \t255 \t255 \t255 \t255 \t255 \t255 \t255 \t255 \t255 \t255 \t255 \t255 \t255 \t255 \t255 \t255 \t255 \t255 \t255 \t255 \t255 \t255 \t255 \t255 \t255 \t255 \t255 \t255 \t255 \t255 \t255 \t255 \t255 \t255 \t255 \t255 \t255 \t255 \t255 \t255 \t255 \t255 \t255 \t255 \t255 \t255 \t255 \t255 \t\n",
            "\n",
            "255 \t255 \t255 \t255 \t255 \t255 \t255 \t255 \t255 \t255 \t255 \t255 \t255 \t255 \t255 \t255 \t255 \t255 \t255 \t255 \t255 \t255 \t255 \t255 \t255 \t255 \t255 \t255 \t255 \t255 \t255 \t255 \t255 \t255 \t255 \t255 \t255 \t255 \t255 \t255 \t255 \t255 \t255 \t255 \t255 \t255 \t255 \t255 \t255 \t0 \t255 \t255 \t255 \t255 \t255 \t255 \t255 \t255 \t255 \t255 \t255 \t255 \t255 \t255 \t255 \t255 \t255 \t255 \t255 \t255 \t255 \t255 \t255 \t255 \t255 \t255 \t255 \t255 \t255 \t255 \t255 \t255 \t255 \t255 \t255 \t255 \t255 \t255 \t255 \t255 \t255 \t255 \t255 \t255 \t255 \t255 \t255 \t255 \t255 \t255 \t\n",
            "\n",
            "255 \t255 \t255 \t255 \t255 \t255 \t255 \t255 \t255 \t255 \t255 \t255 \t255 \t255 \t255 \t255 \t255 \t255 \t255 \t255 \t255 \t255 \t255 \t255 \t255 \t255 \t255 \t255 \t255 \t255 \t255 \t255 \t255 \t255 \t255 \t255 \t255 \t255 \t255 \t255 \t255 \t255 \t255 \t255 \t255 \t255 \t255 \t255 \t255 \t255 \t0 \t255 \t255 \t255 \t255 \t255 \t255 \t255 \t255 \t255 \t255 \t255 \t255 \t255 \t255 \t255 \t255 \t255 \t255 \t255 \t255 \t255 \t255 \t255 \t255 \t255 \t255 \t255 \t255 \t255 \t255 \t255 \t255 \t255 \t255 \t255 \t255 \t255 \t255 \t255 \t255 \t255 \t255 \t255 \t255 \t255 \t255 \t255 \t255 \t255 \t\n",
            "\n",
            "255 \t255 \t255 \t255 \t255 \t255 \t255 \t255 \t255 \t255 \t255 \t255 \t255 \t255 \t255 \t255 \t255 \t255 \t255 \t255 \t255 \t255 \t255 \t255 \t255 \t255 \t255 \t255 \t255 \t255 \t255 \t255 \t255 \t255 \t255 \t255 \t255 \t255 \t255 \t255 \t255 \t255 \t255 \t255 \t255 \t255 \t255 \t255 \t255 \t255 \t255 \t0 \t255 \t255 \t255 \t255 \t255 \t255 \t255 \t255 \t255 \t255 \t255 \t255 \t255 \t255 \t255 \t255 \t255 \t255 \t255 \t255 \t255 \t255 \t255 \t255 \t255 \t255 \t255 \t255 \t255 \t255 \t255 \t255 \t255 \t255 \t255 \t255 \t255 \t255 \t255 \t255 \t255 \t255 \t255 \t255 \t255 \t255 \t255 \t255 \t\n",
            "\n",
            "255 \t255 \t255 \t255 \t255 \t255 \t255 \t255 \t255 \t255 \t255 \t255 \t255 \t255 \t255 \t255 \t255 \t255 \t255 \t255 \t255 \t255 \t255 \t255 \t255 \t255 \t255 \t255 \t255 \t255 \t255 \t255 \t255 \t255 \t255 \t255 \t255 \t255 \t255 \t255 \t255 \t255 \t255 \t255 \t255 \t255 \t255 \t255 \t255 \t255 \t255 \t255 \t0 \t255 \t255 \t255 \t255 \t255 \t255 \t255 \t255 \t255 \t255 \t255 \t255 \t255 \t255 \t255 \t255 \t255 \t255 \t255 \t255 \t255 \t255 \t255 \t255 \t255 \t255 \t255 \t255 \t255 \t255 \t255 \t255 \t255 \t255 \t255 \t255 \t255 \t255 \t255 \t255 \t255 \t255 \t255 \t255 \t255 \t255 \t255 \t\n",
            "\n",
            "255 \t255 \t255 \t255 \t255 \t255 \t255 \t255 \t255 \t255 \t255 \t255 \t255 \t255 \t255 \t255 \t255 \t255 \t255 \t255 \t255 \t255 \t255 \t255 \t255 \t255 \t255 \t255 \t255 \t255 \t255 \t255 \t255 \t255 \t255 \t255 \t255 \t255 \t255 \t255 \t255 \t255 \t255 \t255 \t255 \t255 \t255 \t255 \t255 \t255 \t255 \t255 \t255 \t0 \t255 \t255 \t255 \t255 \t255 \t255 \t255 \t255 \t255 \t255 \t255 \t255 \t255 \t255 \t255 \t255 \t255 \t255 \t255 \t255 \t255 \t255 \t255 \t255 \t255 \t255 \t255 \t255 \t255 \t255 \t255 \t255 \t255 \t255 \t255 \t255 \t255 \t255 \t255 \t255 \t255 \t255 \t255 \t255 \t255 \t255 \t\n",
            "\n",
            "255 \t255 \t255 \t255 \t255 \t255 \t255 \t255 \t255 \t255 \t255 \t255 \t255 \t255 \t255 \t255 \t255 \t255 \t255 \t255 \t255 \t255 \t255 \t255 \t255 \t255 \t255 \t255 \t255 \t255 \t255 \t255 \t255 \t255 \t255 \t255 \t255 \t255 \t255 \t255 \t255 \t255 \t255 \t255 \t255 \t255 \t255 \t255 \t255 \t255 \t255 \t255 \t255 \t255 \t0 \t255 \t255 \t255 \t255 \t255 \t255 \t255 \t255 \t255 \t255 \t255 \t255 \t255 \t255 \t255 \t255 \t255 \t255 \t255 \t255 \t255 \t255 \t255 \t255 \t255 \t255 \t255 \t255 \t255 \t255 \t255 \t255 \t255 \t255 \t255 \t255 \t255 \t255 \t255 \t255 \t255 \t255 \t255 \t255 \t255 \t\n",
            "\n",
            "255 \t255 \t255 \t255 \t255 \t255 \t255 \t255 \t255 \t255 \t255 \t255 \t255 \t255 \t255 \t255 \t255 \t255 \t255 \t255 \t255 \t255 \t255 \t255 \t255 \t255 \t255 \t255 \t255 \t255 \t255 \t255 \t255 \t255 \t255 \t255 \t255 \t255 \t255 \t255 \t255 \t255 \t255 \t255 \t255 \t255 \t255 \t255 \t255 \t255 \t255 \t255 \t255 \t255 \t255 \t0 \t255 \t255 \t255 \t255 \t255 \t255 \t255 \t255 \t255 \t255 \t255 \t255 \t255 \t255 \t255 \t255 \t255 \t255 \t255 \t255 \t255 \t255 \t255 \t255 \t255 \t255 \t255 \t255 \t255 \t255 \t255 \t255 \t255 \t255 \t255 \t255 \t255 \t255 \t255 \t255 \t255 \t255 \t255 \t255 \t\n",
            "\n",
            "255 \t255 \t255 \t255 \t255 \t255 \t255 \t255 \t255 \t255 \t255 \t255 \t255 \t255 \t255 \t255 \t255 \t255 \t255 \t255 \t255 \t255 \t255 \t255 \t255 \t255 \t255 \t255 \t255 \t255 \t255 \t255 \t255 \t255 \t255 \t255 \t255 \t255 \t255 \t255 \t255 \t255 \t255 \t255 \t255 \t255 \t255 \t255 \t255 \t255 \t255 \t255 \t255 \t255 \t255 \t255 \t0 \t255 \t255 \t255 \t255 \t255 \t255 \t255 \t255 \t255 \t255 \t255 \t255 \t255 \t255 \t255 \t255 \t255 \t255 \t255 \t255 \t255 \t255 \t255 \t255 \t255 \t255 \t255 \t255 \t255 \t255 \t255 \t255 \t255 \t255 \t255 \t255 \t255 \t255 \t255 \t255 \t255 \t255 \t255 \t\n",
            "\n",
            "255 \t255 \t255 \t255 \t255 \t255 \t255 \t255 \t255 \t255 \t255 \t255 \t255 \t255 \t255 \t255 \t255 \t255 \t255 \t255 \t255 \t255 \t255 \t255 \t255 \t255 \t255 \t255 \t255 \t255 \t255 \t255 \t255 \t255 \t255 \t255 \t255 \t255 \t255 \t255 \t255 \t255 \t255 \t255 \t255 \t255 \t255 \t255 \t255 \t255 \t255 \t255 \t255 \t255 \t255 \t255 \t255 \t0 \t255 \t255 \t255 \t255 \t255 \t255 \t255 \t255 \t255 \t255 \t255 \t255 \t255 \t255 \t255 \t255 \t255 \t255 \t255 \t255 \t255 \t255 \t255 \t255 \t255 \t255 \t255 \t255 \t255 \t255 \t255 \t255 \t255 \t255 \t255 \t255 \t255 \t255 \t255 \t255 \t255 \t255 \t\n",
            "\n",
            "255 \t255 \t255 \t255 \t255 \t255 \t255 \t255 \t255 \t255 \t255 \t255 \t255 \t255 \t255 \t255 \t255 \t255 \t255 \t255 \t255 \t255 \t255 \t255 \t255 \t255 \t255 \t255 \t255 \t255 \t255 \t255 \t255 \t255 \t255 \t255 \t255 \t255 \t255 \t255 \t255 \t255 \t255 \t255 \t255 \t255 \t255 \t255 \t255 \t255 \t255 \t255 \t255 \t255 \t255 \t255 \t255 \t255 \t0 \t255 \t255 \t255 \t255 \t255 \t255 \t255 \t255 \t255 \t255 \t255 \t255 \t255 \t255 \t255 \t255 \t255 \t255 \t255 \t255 \t255 \t255 \t255 \t255 \t255 \t255 \t255 \t255 \t255 \t255 \t255 \t255 \t255 \t255 \t255 \t255 \t255 \t255 \t255 \t255 \t255 \t\n",
            "\n",
            "255 \t255 \t255 \t255 \t255 \t255 \t255 \t255 \t255 \t255 \t255 \t255 \t255 \t255 \t255 \t255 \t255 \t255 \t255 \t255 \t255 \t255 \t255 \t255 \t255 \t255 \t255 \t255 \t255 \t255 \t255 \t255 \t255 \t255 \t255 \t255 \t255 \t255 \t255 \t255 \t255 \t255 \t255 \t255 \t255 \t255 \t255 \t255 \t255 \t255 \t255 \t255 \t255 \t255 \t255 \t255 \t255 \t255 \t255 \t0 \t255 \t255 \t255 \t255 \t255 \t255 \t255 \t255 \t255 \t255 \t255 \t255 \t255 \t255 \t255 \t255 \t255 \t255 \t255 \t255 \t255 \t255 \t255 \t255 \t255 \t255 \t255 \t255 \t255 \t255 \t255 \t255 \t255 \t255 \t255 \t255 \t255 \t255 \t255 \t255 \t\n",
            "\n",
            "255 \t255 \t255 \t255 \t255 \t255 \t255 \t255 \t255 \t255 \t255 \t255 \t255 \t255 \t255 \t255 \t255 \t255 \t255 \t255 \t255 \t255 \t255 \t255 \t255 \t255 \t255 \t255 \t255 \t255 \t255 \t255 \t255 \t255 \t255 \t255 \t255 \t255 \t255 \t255 \t255 \t255 \t255 \t255 \t255 \t255 \t255 \t255 \t255 \t255 \t255 \t255 \t255 \t255 \t255 \t255 \t255 \t255 \t255 \t255 \t0 \t255 \t255 \t255 \t255 \t255 \t255 \t255 \t255 \t255 \t255 \t255 \t255 \t255 \t255 \t255 \t255 \t255 \t255 \t255 \t255 \t255 \t255 \t255 \t255 \t255 \t255 \t255 \t255 \t255 \t255 \t255 \t255 \t255 \t255 \t255 \t255 \t255 \t255 \t255 \t\n",
            "\n",
            "255 \t255 \t255 \t255 \t255 \t255 \t255 \t255 \t255 \t255 \t255 \t255 \t255 \t255 \t255 \t255 \t255 \t255 \t255 \t255 \t255 \t255 \t255 \t255 \t255 \t255 \t255 \t255 \t255 \t255 \t255 \t255 \t255 \t255 \t255 \t255 \t255 \t255 \t255 \t255 \t255 \t255 \t255 \t255 \t255 \t255 \t255 \t255 \t255 \t255 \t255 \t255 \t255 \t255 \t255 \t255 \t255 \t255 \t255 \t255 \t255 \t0 \t255 \t255 \t255 \t255 \t255 \t255 \t255 \t255 \t255 \t255 \t255 \t255 \t255 \t255 \t255 \t255 \t255 \t255 \t255 \t255 \t255 \t255 \t255 \t255 \t255 \t255 \t255 \t255 \t255 \t255 \t255 \t255 \t255 \t255 \t255 \t255 \t255 \t255 \t\n",
            "\n",
            "255 \t255 \t255 \t255 \t255 \t255 \t255 \t255 \t255 \t255 \t255 \t255 \t255 \t255 \t255 \t255 \t255 \t255 \t255 \t255 \t255 \t255 \t255 \t255 \t255 \t255 \t255 \t255 \t255 \t255 \t255 \t255 \t255 \t255 \t255 \t255 \t255 \t255 \t255 \t255 \t255 \t255 \t255 \t255 \t255 \t255 \t255 \t255 \t255 \t255 \t255 \t255 \t255 \t255 \t255 \t255 \t255 \t255 \t255 \t255 \t255 \t255 \t0 \t255 \t255 \t255 \t255 \t255 \t255 \t255 \t255 \t255 \t255 \t255 \t255 \t255 \t255 \t255 \t255 \t255 \t255 \t255 \t255 \t255 \t255 \t255 \t255 \t255 \t255 \t255 \t255 \t255 \t255 \t255 \t255 \t255 \t255 \t255 \t255 \t255 \t\n",
            "\n",
            "255 \t255 \t255 \t255 \t255 \t255 \t255 \t255 \t255 \t255 \t255 \t255 \t255 \t255 \t255 \t255 \t255 \t255 \t255 \t255 \t255 \t255 \t255 \t255 \t255 \t255 \t255 \t255 \t255 \t255 \t255 \t255 \t255 \t255 \t255 \t255 \t255 \t255 \t255 \t255 \t255 \t255 \t255 \t255 \t255 \t255 \t255 \t255 \t255 \t255 \t255 \t255 \t255 \t255 \t255 \t255 \t255 \t255 \t255 \t255 \t255 \t255 \t255 \t0 \t255 \t255 \t255 \t255 \t255 \t255 \t255 \t255 \t255 \t255 \t255 \t255 \t255 \t255 \t255 \t255 \t255 \t255 \t255 \t255 \t255 \t255 \t255 \t255 \t255 \t255 \t255 \t255 \t255 \t255 \t255 \t255 \t255 \t255 \t255 \t255 \t\n",
            "\n",
            "255 \t255 \t255 \t255 \t255 \t255 \t255 \t255 \t255 \t255 \t255 \t255 \t255 \t255 \t255 \t255 \t255 \t255 \t255 \t255 \t255 \t255 \t255 \t255 \t255 \t255 \t255 \t255 \t255 \t255 \t255 \t255 \t255 \t255 \t255 \t255 \t255 \t255 \t255 \t255 \t255 \t255 \t255 \t255 \t255 \t255 \t255 \t255 \t255 \t255 \t255 \t255 \t255 \t255 \t255 \t255 \t255 \t255 \t255 \t255 \t255 \t255 \t255 \t255 \t0 \t255 \t255 \t255 \t255 \t255 \t255 \t255 \t255 \t255 \t255 \t255 \t255 \t255 \t255 \t255 \t255 \t255 \t255 \t255 \t255 \t255 \t255 \t255 \t255 \t255 \t255 \t255 \t255 \t255 \t255 \t255 \t255 \t255 \t255 \t255 \t\n",
            "\n",
            "255 \t255 \t255 \t255 \t255 \t255 \t255 \t255 \t255 \t255 \t255 \t255 \t255 \t255 \t255 \t255 \t255 \t255 \t255 \t255 \t255 \t255 \t255 \t255 \t255 \t255 \t255 \t255 \t255 \t255 \t255 \t255 \t255 \t255 \t255 \t255 \t255 \t255 \t255 \t255 \t255 \t255 \t255 \t255 \t255 \t255 \t255 \t255 \t255 \t255 \t255 \t255 \t255 \t255 \t255 \t255 \t255 \t255 \t255 \t255 \t255 \t255 \t255 \t255 \t255 \t0 \t255 \t255 \t255 \t255 \t255 \t255 \t255 \t255 \t255 \t255 \t255 \t255 \t255 \t255 \t255 \t255 \t255 \t255 \t255 \t255 \t255 \t255 \t255 \t255 \t255 \t255 \t255 \t255 \t255 \t255 \t255 \t255 \t255 \t255 \t\n",
            "\n",
            "255 \t255 \t255 \t255 \t255 \t255 \t255 \t255 \t255 \t255 \t255 \t255 \t255 \t255 \t255 \t255 \t255 \t255 \t255 \t255 \t255 \t255 \t255 \t255 \t255 \t255 \t255 \t255 \t255 \t255 \t255 \t255 \t255 \t255 \t255 \t255 \t255 \t255 \t255 \t255 \t255 \t255 \t255 \t255 \t255 \t255 \t255 \t255 \t255 \t255 \t255 \t255 \t255 \t255 \t255 \t255 \t255 \t255 \t255 \t255 \t255 \t255 \t255 \t255 \t255 \t255 \t0 \t255 \t255 \t255 \t255 \t255 \t255 \t255 \t255 \t255 \t255 \t255 \t255 \t255 \t255 \t255 \t255 \t255 \t255 \t255 \t255 \t255 \t255 \t255 \t255 \t255 \t255 \t255 \t255 \t255 \t255 \t255 \t255 \t255 \t\n",
            "\n",
            "255 \t255 \t255 \t255 \t255 \t255 \t255 \t255 \t255 \t255 \t255 \t255 \t255 \t255 \t255 \t255 \t255 \t255 \t255 \t255 \t255 \t255 \t255 \t255 \t255 \t255 \t255 \t255 \t255 \t255 \t255 \t255 \t255 \t255 \t255 \t255 \t255 \t255 \t255 \t255 \t255 \t255 \t255 \t255 \t255 \t255 \t255 \t255 \t255 \t255 \t255 \t255 \t255 \t255 \t255 \t255 \t255 \t255 \t255 \t255 \t255 \t255 \t255 \t255 \t255 \t255 \t255 \t0 \t255 \t255 \t255 \t255 \t255 \t255 \t255 \t255 \t255 \t255 \t255 \t255 \t255 \t255 \t255 \t255 \t255 \t255 \t255 \t255 \t255 \t255 \t255 \t255 \t255 \t255 \t255 \t255 \t255 \t255 \t255 \t255 \t\n",
            "\n",
            "255 \t255 \t255 \t255 \t255 \t255 \t255 \t255 \t255 \t255 \t255 \t255 \t255 \t255 \t255 \t255 \t255 \t255 \t255 \t255 \t255 \t255 \t255 \t255 \t255 \t255 \t255 \t255 \t255 \t255 \t255 \t255 \t255 \t255 \t255 \t255 \t255 \t255 \t255 \t255 \t255 \t255 \t255 \t255 \t255 \t255 \t255 \t255 \t255 \t255 \t255 \t255 \t255 \t255 \t255 \t255 \t255 \t255 \t255 \t255 \t255 \t255 \t255 \t255 \t255 \t255 \t255 \t255 \t0 \t255 \t255 \t255 \t255 \t255 \t255 \t255 \t255 \t255 \t255 \t255 \t255 \t255 \t255 \t255 \t255 \t255 \t255 \t255 \t255 \t255 \t255 \t255 \t255 \t255 \t255 \t255 \t255 \t255 \t255 \t255 \t\n",
            "\n",
            "255 \t255 \t255 \t255 \t255 \t255 \t255 \t255 \t255 \t255 \t255 \t255 \t255 \t255 \t255 \t255 \t255 \t255 \t255 \t255 \t255 \t255 \t255 \t255 \t255 \t255 \t255 \t255 \t255 \t255 \t255 \t255 \t255 \t255 \t255 \t255 \t255 \t255 \t255 \t255 \t255 \t255 \t255 \t255 \t255 \t255 \t255 \t255 \t255 \t255 \t255 \t255 \t255 \t255 \t255 \t255 \t255 \t255 \t255 \t255 \t255 \t255 \t255 \t255 \t255 \t255 \t255 \t255 \t255 \t0 \t255 \t255 \t255 \t255 \t255 \t255 \t255 \t255 \t255 \t255 \t255 \t255 \t255 \t255 \t255 \t255 \t255 \t255 \t255 \t255 \t255 \t255 \t255 \t255 \t255 \t255 \t255 \t255 \t255 \t255 \t\n",
            "\n",
            "255 \t255 \t255 \t255 \t255 \t255 \t255 \t255 \t255 \t255 \t255 \t255 \t255 \t255 \t255 \t255 \t255 \t255 \t255 \t255 \t255 \t255 \t255 \t255 \t255 \t255 \t255 \t255 \t255 \t255 \t255 \t255 \t255 \t255 \t255 \t255 \t255 \t255 \t255 \t255 \t255 \t255 \t255 \t255 \t255 \t255 \t255 \t255 \t255 \t255 \t255 \t255 \t255 \t255 \t255 \t255 \t255 \t255 \t255 \t255 \t255 \t255 \t255 \t255 \t255 \t255 \t255 \t255 \t255 \t255 \t0 \t255 \t255 \t255 \t255 \t255 \t255 \t255 \t255 \t255 \t255 \t255 \t255 \t255 \t255 \t255 \t255 \t255 \t255 \t255 \t255 \t255 \t255 \t255 \t255 \t255 \t255 \t255 \t255 \t255 \t\n",
            "\n",
            "255 \t255 \t255 \t255 \t255 \t255 \t255 \t255 \t255 \t255 \t255 \t255 \t255 \t255 \t255 \t255 \t255 \t255 \t255 \t255 \t255 \t255 \t255 \t255 \t255 \t255 \t255 \t255 \t255 \t255 \t255 \t255 \t255 \t255 \t255 \t255 \t255 \t255 \t255 \t255 \t255 \t255 \t255 \t255 \t255 \t255 \t255 \t255 \t255 \t255 \t255 \t255 \t255 \t255 \t255 \t255 \t255 \t255 \t255 \t255 \t255 \t255 \t255 \t255 \t255 \t255 \t255 \t255 \t255 \t255 \t255 \t0 \t255 \t255 \t255 \t255 \t255 \t255 \t255 \t255 \t255 \t255 \t255 \t255 \t255 \t255 \t255 \t255 \t255 \t255 \t255 \t255 \t255 \t255 \t255 \t255 \t255 \t255 \t255 \t255 \t\n",
            "\n",
            "255 \t255 \t255 \t255 \t255 \t255 \t255 \t255 \t255 \t255 \t255 \t255 \t255 \t255 \t255 \t255 \t255 \t255 \t255 \t255 \t255 \t255 \t255 \t255 \t255 \t255 \t255 \t255 \t255 \t255 \t255 \t255 \t255 \t255 \t255 \t255 \t255 \t255 \t255 \t255 \t255 \t255 \t255 \t255 \t255 \t255 \t255 \t255 \t255 \t255 \t255 \t255 \t255 \t255 \t255 \t255 \t255 \t255 \t255 \t255 \t255 \t255 \t255 \t255 \t255 \t255 \t255 \t255 \t255 \t255 \t255 \t255 \t0 \t255 \t255 \t255 \t255 \t255 \t255 \t255 \t255 \t255 \t255 \t255 \t255 \t255 \t255 \t255 \t255 \t255 \t255 \t255 \t255 \t255 \t255 \t255 \t255 \t255 \t255 \t255 \t\n",
            "\n",
            "255 \t255 \t255 \t255 \t255 \t255 \t255 \t255 \t255 \t255 \t255 \t255 \t255 \t255 \t255 \t255 \t255 \t255 \t255 \t255 \t255 \t255 \t255 \t255 \t255 \t255 \t255 \t255 \t255 \t255 \t255 \t255 \t255 \t255 \t255 \t255 \t255 \t255 \t255 \t255 \t255 \t255 \t255 \t255 \t255 \t255 \t255 \t255 \t255 \t255 \t255 \t255 \t255 \t255 \t255 \t255 \t255 \t255 \t255 \t255 \t255 \t255 \t255 \t255 \t255 \t255 \t255 \t255 \t255 \t255 \t255 \t255 \t255 \t0 \t255 \t255 \t255 \t255 \t255 \t255 \t255 \t255 \t255 \t255 \t255 \t255 \t255 \t255 \t255 \t255 \t255 \t255 \t255 \t255 \t255 \t255 \t255 \t255 \t255 \t255 \t\n",
            "\n",
            "255 \t255 \t255 \t255 \t255 \t255 \t255 \t255 \t255 \t255 \t255 \t255 \t255 \t255 \t255 \t255 \t255 \t255 \t255 \t255 \t255 \t255 \t255 \t255 \t255 \t255 \t255 \t255 \t255 \t255 \t255 \t255 \t255 \t255 \t255 \t255 \t255 \t255 \t255 \t255 \t255 \t255 \t255 \t255 \t255 \t255 \t255 \t255 \t255 \t255 \t255 \t255 \t255 \t255 \t255 \t255 \t255 \t255 \t255 \t255 \t255 \t255 \t255 \t255 \t255 \t255 \t255 \t255 \t255 \t255 \t255 \t255 \t255 \t255 \t0 \t255 \t255 \t255 \t255 \t255 \t255 \t255 \t255 \t255 \t255 \t255 \t255 \t255 \t255 \t255 \t255 \t255 \t255 \t255 \t255 \t255 \t255 \t255 \t255 \t255 \t\n",
            "\n",
            "255 \t255 \t255 \t255 \t255 \t255 \t255 \t255 \t255 \t255 \t255 \t255 \t255 \t255 \t255 \t255 \t255 \t255 \t255 \t255 \t255 \t255 \t255 \t255 \t255 \t255 \t255 \t255 \t255 \t255 \t255 \t255 \t255 \t255 \t255 \t255 \t255 \t255 \t255 \t255 \t255 \t255 \t255 \t255 \t255 \t255 \t255 \t255 \t255 \t255 \t255 \t255 \t255 \t255 \t255 \t255 \t255 \t255 \t255 \t255 \t255 \t255 \t255 \t255 \t255 \t255 \t255 \t255 \t255 \t255 \t255 \t255 \t255 \t255 \t255 \t0 \t255 \t255 \t255 \t255 \t255 \t255 \t255 \t255 \t255 \t255 \t255 \t255 \t255 \t255 \t255 \t255 \t255 \t255 \t255 \t255 \t255 \t255 \t255 \t255 \t\n",
            "\n",
            "255 \t255 \t255 \t255 \t255 \t255 \t255 \t255 \t255 \t255 \t255 \t255 \t255 \t255 \t255 \t255 \t255 \t255 \t255 \t255 \t255 \t255 \t255 \t255 \t255 \t255 \t255 \t255 \t255 \t255 \t255 \t255 \t255 \t255 \t255 \t255 \t255 \t255 \t255 \t255 \t255 \t255 \t255 \t255 \t255 \t255 \t255 \t255 \t255 \t255 \t255 \t255 \t255 \t255 \t255 \t255 \t255 \t255 \t255 \t255 \t255 \t255 \t255 \t255 \t255 \t255 \t255 \t255 \t255 \t255 \t255 \t255 \t255 \t255 \t255 \t255 \t0 \t255 \t255 \t255 \t255 \t255 \t255 \t255 \t255 \t255 \t255 \t255 \t255 \t255 \t255 \t255 \t255 \t255 \t255 \t255 \t255 \t255 \t255 \t255 \t\n",
            "\n",
            "255 \t255 \t255 \t255 \t255 \t255 \t255 \t255 \t255 \t255 \t255 \t255 \t255 \t255 \t255 \t255 \t255 \t255 \t255 \t255 \t255 \t255 \t255 \t255 \t255 \t255 \t255 \t255 \t255 \t255 \t255 \t255 \t255 \t255 \t255 \t255 \t255 \t255 \t255 \t255 \t255 \t255 \t255 \t255 \t255 \t255 \t255 \t255 \t255 \t255 \t255 \t255 \t255 \t255 \t255 \t255 \t255 \t255 \t255 \t255 \t255 \t255 \t255 \t255 \t255 \t255 \t255 \t255 \t255 \t255 \t255 \t255 \t255 \t255 \t255 \t255 \t255 \t0 \t255 \t255 \t255 \t255 \t255 \t255 \t255 \t255 \t255 \t255 \t255 \t255 \t255 \t255 \t255 \t255 \t255 \t255 \t255 \t255 \t255 \t255 \t\n",
            "\n",
            "255 \t255 \t255 \t255 \t255 \t255 \t255 \t255 \t255 \t255 \t255 \t255 \t255 \t255 \t255 \t255 \t255 \t255 \t255 \t255 \t255 \t255 \t255 \t255 \t255 \t255 \t255 \t255 \t255 \t255 \t255 \t255 \t255 \t255 \t255 \t255 \t255 \t255 \t255 \t255 \t255 \t255 \t255 \t255 \t255 \t255 \t255 \t255 \t255 \t255 \t255 \t255 \t255 \t255 \t255 \t255 \t255 \t255 \t255 \t255 \t255 \t255 \t255 \t255 \t255 \t255 \t255 \t255 \t255 \t255 \t255 \t255 \t255 \t255 \t255 \t255 \t255 \t255 \t0 \t255 \t255 \t255 \t255 \t255 \t255 \t255 \t255 \t255 \t255 \t255 \t255 \t255 \t255 \t255 \t255 \t255 \t255 \t255 \t255 \t255 \t\n",
            "\n",
            "255 \t255 \t255 \t255 \t255 \t255 \t255 \t255 \t255 \t255 \t255 \t255 \t255 \t255 \t255 \t255 \t255 \t255 \t255 \t255 \t255 \t255 \t255 \t255 \t255 \t255 \t255 \t255 \t255 \t255 \t255 \t255 \t255 \t255 \t255 \t255 \t255 \t255 \t255 \t255 \t255 \t255 \t255 \t255 \t255 \t255 \t255 \t255 \t255 \t255 \t255 \t255 \t255 \t255 \t255 \t255 \t255 \t255 \t255 \t255 \t255 \t255 \t255 \t255 \t255 \t255 \t255 \t255 \t255 \t255 \t255 \t255 \t255 \t255 \t255 \t255 \t255 \t255 \t255 \t0 \t255 \t255 \t255 \t255 \t255 \t255 \t255 \t255 \t255 \t255 \t255 \t255 \t255 \t255 \t255 \t255 \t255 \t255 \t255 \t255 \t\n",
            "\n",
            "255 \t255 \t255 \t255 \t255 \t255 \t255 \t255 \t255 \t255 \t255 \t255 \t255 \t255 \t255 \t255 \t255 \t255 \t255 \t255 \t255 \t255 \t255 \t255 \t255 \t255 \t255 \t255 \t255 \t255 \t255 \t255 \t255 \t255 \t255 \t255 \t255 \t255 \t255 \t255 \t255 \t255 \t255 \t255 \t255 \t255 \t255 \t255 \t255 \t255 \t255 \t255 \t255 \t255 \t255 \t255 \t255 \t255 \t255 \t255 \t255 \t255 \t255 \t255 \t255 \t255 \t255 \t255 \t255 \t255 \t255 \t255 \t255 \t255 \t255 \t255 \t255 \t255 \t255 \t255 \t0 \t255 \t255 \t255 \t255 \t255 \t255 \t255 \t255 \t255 \t255 \t255 \t255 \t255 \t255 \t255 \t255 \t255 \t255 \t255 \t\n",
            "\n",
            "255 \t255 \t255 \t255 \t255 \t255 \t255 \t255 \t255 \t255 \t255 \t255 \t255 \t255 \t255 \t255 \t255 \t255 \t255 \t255 \t255 \t255 \t255 \t255 \t255 \t255 \t255 \t255 \t255 \t255 \t255 \t255 \t255 \t255 \t255 \t255 \t255 \t255 \t255 \t255 \t255 \t255 \t255 \t255 \t255 \t255 \t255 \t255 \t255 \t255 \t255 \t255 \t255 \t255 \t255 \t255 \t255 \t255 \t255 \t255 \t255 \t255 \t255 \t255 \t255 \t255 \t255 \t255 \t255 \t255 \t255 \t255 \t255 \t255 \t255 \t255 \t255 \t255 \t255 \t255 \t255 \t0 \t255 \t255 \t255 \t255 \t255 \t255 \t255 \t255 \t255 \t255 \t255 \t255 \t255 \t255 \t255 \t255 \t255 \t255 \t\n",
            "\n",
            "255 \t255 \t255 \t255 \t255 \t255 \t255 \t255 \t255 \t255 \t255 \t255 \t255 \t255 \t255 \t255 \t255 \t255 \t255 \t255 \t255 \t255 \t255 \t255 \t255 \t255 \t255 \t255 \t255 \t255 \t255 \t255 \t255 \t255 \t255 \t255 \t255 \t255 \t255 \t255 \t255 \t255 \t255 \t255 \t255 \t255 \t255 \t255 \t255 \t255 \t255 \t255 \t255 \t255 \t255 \t255 \t255 \t255 \t255 \t255 \t255 \t255 \t255 \t255 \t255 \t255 \t255 \t255 \t255 \t255 \t255 \t255 \t255 \t255 \t255 \t255 \t255 \t255 \t255 \t255 \t255 \t255 \t0 \t255 \t255 \t255 \t255 \t255 \t255 \t255 \t255 \t255 \t255 \t255 \t255 \t255 \t255 \t255 \t255 \t255 \t\n",
            "\n",
            "255 \t255 \t255 \t255 \t255 \t255 \t255 \t255 \t255 \t255 \t255 \t255 \t255 \t255 \t255 \t255 \t255 \t255 \t255 \t255 \t255 \t255 \t255 \t255 \t255 \t255 \t255 \t255 \t255 \t255 \t255 \t255 \t255 \t255 \t255 \t255 \t255 \t255 \t255 \t255 \t255 \t255 \t255 \t255 \t255 \t255 \t255 \t255 \t255 \t255 \t255 \t255 \t255 \t255 \t255 \t255 \t255 \t255 \t255 \t255 \t255 \t255 \t255 \t255 \t255 \t255 \t255 \t255 \t255 \t255 \t255 \t255 \t255 \t255 \t255 \t255 \t255 \t255 \t255 \t255 \t255 \t255 \t255 \t0 \t255 \t255 \t255 \t255 \t255 \t255 \t255 \t255 \t255 \t255 \t255 \t255 \t255 \t255 \t255 \t255 \t\n",
            "\n",
            "255 \t255 \t255 \t255 \t255 \t255 \t255 \t255 \t255 \t255 \t255 \t255 \t255 \t255 \t255 \t255 \t255 \t255 \t255 \t255 \t255 \t255 \t255 \t255 \t255 \t255 \t255 \t255 \t255 \t255 \t255 \t255 \t255 \t255 \t255 \t255 \t255 \t255 \t255 \t255 \t255 \t255 \t255 \t255 \t255 \t255 \t255 \t255 \t255 \t255 \t255 \t255 \t255 \t255 \t255 \t255 \t255 \t255 \t255 \t255 \t255 \t255 \t255 \t255 \t255 \t255 \t255 \t255 \t255 \t255 \t255 \t255 \t255 \t255 \t255 \t255 \t255 \t255 \t255 \t255 \t255 \t255 \t255 \t255 \t0 \t255 \t255 \t255 \t255 \t255 \t255 \t255 \t255 \t255 \t255 \t255 \t255 \t255 \t255 \t255 \t\n",
            "\n",
            "255 \t255 \t255 \t255 \t255 \t255 \t255 \t255 \t255 \t255 \t255 \t255 \t255 \t255 \t255 \t255 \t255 \t255 \t255 \t255 \t255 \t255 \t255 \t255 \t255 \t255 \t255 \t255 \t255 \t255 \t255 \t255 \t255 \t255 \t255 \t255 \t255 \t255 \t255 \t255 \t255 \t255 \t255 \t255 \t255 \t255 \t255 \t255 \t255 \t255 \t255 \t255 \t255 \t255 \t255 \t255 \t255 \t255 \t255 \t255 \t255 \t255 \t255 \t255 \t255 \t255 \t255 \t255 \t255 \t255 \t255 \t255 \t255 \t255 \t255 \t255 \t255 \t255 \t255 \t255 \t255 \t255 \t255 \t255 \t255 \t0 \t255 \t255 \t255 \t255 \t255 \t255 \t255 \t255 \t255 \t255 \t255 \t255 \t255 \t255 \t\n",
            "\n",
            "255 \t255 \t255 \t255 \t255 \t255 \t255 \t255 \t255 \t255 \t255 \t255 \t255 \t255 \t255 \t255 \t255 \t255 \t255 \t255 \t255 \t255 \t255 \t255 \t255 \t255 \t255 \t255 \t255 \t255 \t255 \t255 \t255 \t255 \t255 \t255 \t255 \t255 \t255 \t255 \t255 \t255 \t255 \t255 \t255 \t255 \t255 \t255 \t255 \t255 \t255 \t255 \t255 \t255 \t255 \t255 \t255 \t255 \t255 \t255 \t255 \t255 \t255 \t255 \t255 \t255 \t255 \t255 \t255 \t255 \t255 \t255 \t255 \t255 \t255 \t255 \t255 \t255 \t255 \t255 \t255 \t255 \t255 \t255 \t255 \t255 \t0 \t255 \t255 \t255 \t255 \t255 \t255 \t255 \t255 \t255 \t255 \t255 \t255 \t255 \t\n",
            "\n",
            "255 \t255 \t255 \t255 \t255 \t255 \t255 \t255 \t255 \t255 \t255 \t255 \t255 \t255 \t255 \t255 \t255 \t255 \t255 \t255 \t255 \t255 \t255 \t255 \t255 \t255 \t255 \t255 \t255 \t255 \t255 \t255 \t255 \t255 \t255 \t255 \t255 \t255 \t255 \t255 \t255 \t255 \t255 \t255 \t255 \t255 \t255 \t255 \t255 \t255 \t255 \t255 \t255 \t255 \t255 \t255 \t255 \t255 \t255 \t255 \t255 \t255 \t255 \t255 \t255 \t255 \t255 \t255 \t255 \t255 \t255 \t255 \t255 \t255 \t255 \t255 \t255 \t255 \t255 \t255 \t255 \t255 \t255 \t255 \t255 \t255 \t255 \t0 \t255 \t255 \t255 \t255 \t255 \t255 \t255 \t255 \t255 \t255 \t255 \t255 \t\n",
            "\n",
            "255 \t255 \t255 \t255 \t255 \t255 \t255 \t255 \t255 \t255 \t255 \t255 \t255 \t255 \t255 \t255 \t255 \t255 \t255 \t255 \t255 \t255 \t255 \t255 \t255 \t255 \t255 \t255 \t255 \t255 \t255 \t255 \t255 \t255 \t255 \t255 \t255 \t255 \t255 \t255 \t255 \t255 \t255 \t255 \t255 \t255 \t255 \t255 \t255 \t255 \t255 \t255 \t255 \t255 \t255 \t255 \t255 \t255 \t255 \t255 \t255 \t255 \t255 \t255 \t255 \t255 \t255 \t255 \t255 \t255 \t255 \t255 \t255 \t255 \t255 \t255 \t255 \t255 \t255 \t255 \t255 \t255 \t255 \t255 \t255 \t255 \t255 \t255 \t0 \t255 \t255 \t255 \t255 \t255 \t255 \t255 \t255 \t255 \t255 \t255 \t\n",
            "\n",
            "255 \t255 \t255 \t255 \t255 \t255 \t255 \t255 \t255 \t255 \t255 \t255 \t255 \t255 \t255 \t255 \t255 \t255 \t255 \t255 \t255 \t255 \t255 \t255 \t255 \t255 \t255 \t255 \t255 \t255 \t255 \t255 \t255 \t255 \t255 \t255 \t255 \t255 \t255 \t255 \t255 \t255 \t255 \t255 \t255 \t255 \t255 \t255 \t255 \t255 \t255 \t255 \t255 \t255 \t255 \t255 \t255 \t255 \t255 \t255 \t255 \t255 \t255 \t255 \t255 \t255 \t255 \t255 \t255 \t255 \t255 \t255 \t255 \t255 \t255 \t255 \t255 \t255 \t255 \t255 \t255 \t255 \t255 \t255 \t255 \t255 \t255 \t255 \t255 \t0 \t255 \t255 \t255 \t255 \t255 \t255 \t255 \t255 \t255 \t255 \t\n",
            "\n",
            "255 \t255 \t255 \t255 \t255 \t255 \t255 \t255 \t255 \t255 \t255 \t255 \t255 \t255 \t255 \t255 \t255 \t255 \t255 \t255 \t255 \t255 \t255 \t255 \t255 \t255 \t255 \t255 \t255 \t255 \t255 \t255 \t255 \t255 \t255 \t255 \t255 \t255 \t255 \t255 \t255 \t255 \t255 \t255 \t255 \t255 \t255 \t255 \t255 \t255 \t255 \t255 \t255 \t255 \t255 \t255 \t255 \t255 \t255 \t255 \t255 \t255 \t255 \t255 \t255 \t255 \t255 \t255 \t255 \t255 \t255 \t255 \t255 \t255 \t255 \t255 \t255 \t255 \t255 \t255 \t255 \t255 \t255 \t255 \t255 \t255 \t255 \t255 \t255 \t255 \t0 \t255 \t255 \t255 \t255 \t255 \t255 \t255 \t255 \t255 \t\n",
            "\n",
            "255 \t255 \t255 \t255 \t255 \t255 \t255 \t255 \t255 \t255 \t255 \t255 \t255 \t255 \t255 \t255 \t255 \t255 \t255 \t255 \t255 \t255 \t255 \t255 \t255 \t255 \t255 \t255 \t255 \t255 \t255 \t255 \t255 \t255 \t255 \t255 \t255 \t255 \t255 \t255 \t255 \t255 \t255 \t255 \t255 \t255 \t255 \t255 \t255 \t255 \t255 \t255 \t255 \t255 \t255 \t255 \t255 \t255 \t255 \t255 \t255 \t255 \t255 \t255 \t255 \t255 \t255 \t255 \t255 \t255 \t255 \t255 \t255 \t255 \t255 \t255 \t255 \t255 \t255 \t255 \t255 \t255 \t255 \t255 \t255 \t255 \t255 \t255 \t255 \t255 \t255 \t0 \t255 \t255 \t255 \t255 \t255 \t255 \t255 \t255 \t\n",
            "\n",
            "255 \t255 \t255 \t255 \t255 \t255 \t255 \t255 \t255 \t255 \t255 \t255 \t255 \t255 \t255 \t255 \t255 \t255 \t255 \t255 \t255 \t255 \t255 \t255 \t255 \t255 \t255 \t255 \t255 \t255 \t255 \t255 \t255 \t255 \t255 \t255 \t255 \t255 \t255 \t255 \t255 \t255 \t255 \t255 \t255 \t255 \t255 \t255 \t255 \t255 \t255 \t255 \t255 \t255 \t255 \t255 \t255 \t255 \t255 \t255 \t255 \t255 \t255 \t255 \t255 \t255 \t255 \t255 \t255 \t255 \t255 \t255 \t255 \t255 \t255 \t255 \t255 \t255 \t255 \t255 \t255 \t255 \t255 \t255 \t255 \t255 \t255 \t255 \t255 \t255 \t255 \t255 \t0 \t255 \t255 \t255 \t255 \t255 \t255 \t255 \t\n",
            "\n",
            "255 \t255 \t255 \t255 \t255 \t255 \t255 \t255 \t255 \t255 \t255 \t255 \t255 \t255 \t255 \t255 \t255 \t255 \t255 \t255 \t255 \t255 \t255 \t255 \t255 \t255 \t255 \t255 \t255 \t255 \t255 \t255 \t255 \t255 \t255 \t255 \t255 \t255 \t255 \t255 \t255 \t255 \t255 \t255 \t255 \t255 \t255 \t255 \t255 \t255 \t255 \t255 \t255 \t255 \t255 \t255 \t255 \t255 \t255 \t255 \t255 \t255 \t255 \t255 \t255 \t255 \t255 \t255 \t255 \t255 \t255 \t255 \t255 \t255 \t255 \t255 \t255 \t255 \t255 \t255 \t255 \t255 \t255 \t255 \t255 \t255 \t255 \t255 \t255 \t255 \t255 \t255 \t255 \t0 \t255 \t255 \t255 \t255 \t255 \t255 \t\n",
            "\n",
            "255 \t255 \t255 \t255 \t255 \t255 \t255 \t255 \t255 \t255 \t255 \t255 \t255 \t255 \t255 \t255 \t255 \t255 \t255 \t255 \t255 \t255 \t255 \t255 \t255 \t255 \t255 \t255 \t255 \t255 \t255 \t255 \t255 \t255 \t255 \t255 \t255 \t255 \t255 \t255 \t255 \t255 \t255 \t255 \t255 \t255 \t255 \t255 \t255 \t255 \t255 \t255 \t255 \t255 \t255 \t255 \t255 \t255 \t255 \t255 \t255 \t255 \t255 \t255 \t255 \t255 \t255 \t255 \t255 \t255 \t255 \t255 \t255 \t255 \t255 \t255 \t255 \t255 \t255 \t255 \t255 \t255 \t255 \t255 \t255 \t255 \t255 \t255 \t255 \t255 \t255 \t255 \t255 \t255 \t0 \t255 \t255 \t255 \t255 \t255 \t\n",
            "\n",
            "255 \t255 \t255 \t255 \t255 \t255 \t255 \t255 \t255 \t255 \t255 \t255 \t255 \t255 \t255 \t255 \t255 \t255 \t255 \t255 \t255 \t255 \t255 \t255 \t255 \t255 \t255 \t255 \t255 \t255 \t255 \t255 \t255 \t255 \t255 \t255 \t255 \t255 \t255 \t255 \t255 \t255 \t255 \t255 \t255 \t255 \t255 \t255 \t255 \t255 \t255 \t255 \t255 \t255 \t255 \t255 \t255 \t255 \t255 \t255 \t255 \t255 \t255 \t255 \t255 \t255 \t255 \t255 \t255 \t255 \t255 \t255 \t255 \t255 \t255 \t255 \t255 \t255 \t255 \t255 \t255 \t255 \t255 \t255 \t255 \t255 \t255 \t255 \t255 \t255 \t255 \t255 \t255 \t255 \t255 \t0 \t255 \t255 \t255 \t255 \t\n",
            "\n",
            "255 \t255 \t255 \t255 \t255 \t255 \t255 \t255 \t255 \t255 \t255 \t255 \t255 \t255 \t255 \t255 \t255 \t255 \t255 \t255 \t255 \t255 \t255 \t255 \t255 \t255 \t255 \t255 \t255 \t255 \t255 \t255 \t255 \t255 \t255 \t255 \t255 \t255 \t255 \t255 \t255 \t255 \t255 \t255 \t255 \t255 \t255 \t255 \t255 \t255 \t255 \t255 \t255 \t255 \t255 \t255 \t255 \t255 \t255 \t255 \t255 \t255 \t255 \t255 \t255 \t255 \t255 \t255 \t255 \t255 \t255 \t255 \t255 \t255 \t255 \t255 \t255 \t255 \t255 \t255 \t255 \t255 \t255 \t255 \t255 \t255 \t255 \t255 \t255 \t255 \t255 \t255 \t255 \t255 \t255 \t255 \t0 \t255 \t255 \t255 \t\n",
            "\n",
            "255 \t255 \t255 \t255 \t255 \t255 \t255 \t255 \t255 \t255 \t255 \t255 \t255 \t255 \t255 \t255 \t255 \t255 \t255 \t255 \t255 \t255 \t255 \t255 \t255 \t255 \t255 \t255 \t255 \t255 \t255 \t255 \t255 \t255 \t255 \t255 \t255 \t255 \t255 \t255 \t255 \t255 \t255 \t255 \t255 \t255 \t255 \t255 \t255 \t255 \t255 \t255 \t255 \t255 \t255 \t255 \t255 \t255 \t255 \t255 \t255 \t255 \t255 \t255 \t255 \t255 \t255 \t255 \t255 \t255 \t255 \t255 \t255 \t255 \t255 \t255 \t255 \t255 \t255 \t255 \t255 \t255 \t255 \t255 \t255 \t255 \t255 \t255 \t255 \t255 \t255 \t255 \t255 \t255 \t255 \t255 \t255 \t0 \t255 \t255 \t\n",
            "\n",
            "255 \t255 \t255 \t255 \t255 \t255 \t255 \t255 \t255 \t255 \t255 \t255 \t255 \t255 \t255 \t255 \t255 \t255 \t255 \t255 \t255 \t255 \t255 \t255 \t255 \t255 \t255 \t255 \t255 \t255 \t255 \t255 \t255 \t255 \t255 \t255 \t255 \t255 \t255 \t255 \t255 \t255 \t255 \t255 \t255 \t255 \t255 \t255 \t255 \t255 \t255 \t255 \t255 \t255 \t255 \t255 \t255 \t255 \t255 \t255 \t255 \t255 \t255 \t255 \t255 \t255 \t255 \t255 \t255 \t255 \t255 \t255 \t255 \t255 \t255 \t255 \t255 \t255 \t255 \t255 \t255 \t255 \t255 \t255 \t255 \t255 \t255 \t255 \t255 \t255 \t255 \t255 \t255 \t255 \t255 \t255 \t255 \t255 \t0 \t255 \t\n",
            "\n",
            "255 \t255 \t255 \t255 \t255 \t255 \t255 \t255 \t255 \t255 \t255 \t255 \t255 \t255 \t255 \t255 \t255 \t255 \t255 \t255 \t255 \t255 \t255 \t255 \t255 \t255 \t255 \t255 \t255 \t255 \t255 \t255 \t255 \t255 \t255 \t255 \t255 \t255 \t255 \t255 \t255 \t255 \t255 \t255 \t255 \t255 \t255 \t255 \t255 \t255 \t255 \t255 \t255 \t255 \t255 \t255 \t255 \t255 \t255 \t255 \t255 \t255 \t255 \t255 \t255 \t255 \t255 \t255 \t255 \t255 \t255 \t255 \t255 \t255 \t255 \t255 \t255 \t255 \t255 \t255 \t255 \t255 \t255 \t255 \t255 \t255 \t255 \t255 \t255 \t255 \t255 \t255 \t255 \t255 \t255 \t255 \t255 \t255 \t255 \t0 \t\n",
            "\n"
          ],
          "name": "stdout"
        }
      ]
    }
  ]
}