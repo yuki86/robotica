{
  "nbformat": 4,
  "nbformat_minor": 0,
  "metadata": {
    "colab": {
      "name": "Untitled3.ipynb",
      "provenance": [],
      "authorship_tag": "ABX9TyO5dJL7e5JEhQgvODa9EcID",
      "include_colab_link": true
    },
    "kernelspec": {
      "name": "python3",
      "display_name": "Python 3"
    }
  },
  "cells": [
    {
      "cell_type": "markdown",
      "metadata": {
        "id": "view-in-github",
        "colab_type": "text"
      },
      "source": [
        "<a href=\"https://colab.research.google.com/github/yuki86/robotica/blob/master/aula_11-09-20.ipynb\" target=\"_parent\"><img src=\"https://colab.research.google.com/assets/colab-badge.svg\" alt=\"Open In Colab\"/></a>"
      ]
    },
    {
      "cell_type": "markdown",
      "metadata": {
        "id": "UV5Rud2AXZKj",
        "colab_type": "text"
      },
      "source": [
        "#aula_11-09-20"
      ]
    },
    {
      "cell_type": "markdown",
      "metadata": {
        "id": "WTzgkvKmXh2n",
        "colab_type": "text"
      },
      "source": [
        "Exercício"
      ]
    },
    {
      "cell_type": "markdown",
      "metadata": {
        "id": "oQDT2TtpXgs_",
        "colab_type": "text"
      },
      "source": [
        "Faça um programa de tratamento de imagem, usando a detecção por\n",
        "Canny, redesenhar o contorno na imagem original."
      ]
    },
    {
      "cell_type": "code",
      "metadata": {
        "id": "yu6opbl2XWEV",
        "colab_type": "code",
        "colab": {}
      },
      "source": [
        ""
      ],
      "execution_count": null,
      "outputs": []
    }
  ]
}