{
  "nbformat": 4,
  "nbformat_minor": 0,
  "metadata": {
    "colab": {
      "name": "Untitled1.ipynb",
      "provenance": [],
      "authorship_tag": "ABX9TyOAz+YI/JFmwjXdhC+JEHdw",
      "include_colab_link": true
    },
    "kernelspec": {
      "name": "python3",
      "display_name": "Python 3"
    }
  },
  "cells": [
    {
      "cell_type": "markdown",
      "metadata": {
        "id": "view-in-github",
        "colab_type": "text"
      },
      "source": [
        "<a href=\"https://colab.research.google.com/github/yuki86/robotica/blob/master/aula%2004-09-20.ipynb\" target=\"_parent\"><img src=\"https://colab.research.google.com/assets/colab-badge.svg\" alt=\"Open In Colab\"/></a>"
      ]
    },
    {
      "cell_type": "markdown",
      "metadata": {
        "id": "uf2hgpZCDaNx",
        "colab_type": "text"
      },
      "source": [
        "# aula_04-09-20\n"
      ]
    },
    {
      "cell_type": "code",
      "metadata": {
        "id": "rKOZQKqDDWWR",
        "colab_type": "code",
        "colab": {
          "base_uri": "https://localhost:8080/",
          "height": 239
        },
        "outputId": "5817ea39-60be-49bf-d26e-9017ff1781d1"
      },
      "source": [
        "import cv2\n",
        "import numpy as np\n",
        "\n",
        "#leitura de imagem\n",
        "imagem = cv2.imread('fox.jpeg')\n",
        "\n",
        "#conversão para tons de cinza\n",
        "altura,largura,bytesPorPixel = np.shape(imagem)\n",
        "img = np.zeros([altura,largura,3])\n",
        "\n",
        "for py in range(0, altura):\n",
        "  for px in range(0, largura):\n",
        "    img[py][px][0] = imagem[py][px][0] # cor azul\n",
        "    img[py][px][1] = imagem[py][px][0] # cor verde\n",
        "    img[py][px][2] = imagem[py][px][0] # cor vermelho\n",
        "cv2.imwrite(\"fox-gray.jpeg\", img)\n",
        "\n",
        "#segmentação da imagem\n",
        "img = cv2.imread('fox-gray.jpeg',0)\n",
        "ret,thresh1 = cv2.threshold(img,127,255,cv2.THRESH_BINARY)\n",
        "\n",
        "#histograma\n",
        "histr=cv2.calcHist([thresh1],[0],None,[256],[0,256])\n",
        "plt.plot(histr,color=(0,0,0))\n",
        "plt.xlim([0,256])\n",
        "plt.show()\n",
        "\n",
        "#salvar imagem\n",
        "cv2.imwrite(\"fox-gray_trehs127.jpeg\", thresh1)"
      ],
      "execution_count": 20,
      "outputs": [
        {
          "output_type": "error",
          "ename": "ValueError",
          "evalue": "ignored",
          "traceback": [
            "\u001b[0;31m---------------------------------------------------------------------------\u001b[0m",
            "\u001b[0;31mValueError\u001b[0m                                Traceback (most recent call last)",
            "\u001b[0;32m<ipython-input-20-d9f320b33b23>\u001b[0m in \u001b[0;36m<module>\u001b[0;34m()\u001b[0m\n\u001b[1;32m      6\u001b[0m \u001b[0;34m\u001b[0m\u001b[0m\n\u001b[1;32m      7\u001b[0m \u001b[0;31m#conversão para tons de cinza\u001b[0m\u001b[0;34m\u001b[0m\u001b[0;34m\u001b[0m\u001b[0;34m\u001b[0m\u001b[0m\n\u001b[0;32m----> 8\u001b[0;31m \u001b[0maltura\u001b[0m\u001b[0;34m,\u001b[0m\u001b[0mlargura\u001b[0m\u001b[0;34m,\u001b[0m\u001b[0mbytesPorPixel\u001b[0m \u001b[0;34m=\u001b[0m \u001b[0mnp\u001b[0m\u001b[0;34m.\u001b[0m\u001b[0mshape\u001b[0m\u001b[0;34m(\u001b[0m\u001b[0mimagem\u001b[0m\u001b[0;34m)\u001b[0m\u001b[0;34m\u001b[0m\u001b[0;34m\u001b[0m\u001b[0m\n\u001b[0m\u001b[1;32m      9\u001b[0m \u001b[0mimg\u001b[0m \u001b[0;34m=\u001b[0m \u001b[0mnp\u001b[0m\u001b[0;34m.\u001b[0m\u001b[0mzeros\u001b[0m\u001b[0;34m(\u001b[0m\u001b[0;34m[\u001b[0m\u001b[0maltura\u001b[0m\u001b[0;34m,\u001b[0m\u001b[0mlargura\u001b[0m\u001b[0;34m,\u001b[0m\u001b[0;36m3\u001b[0m\u001b[0;34m]\u001b[0m\u001b[0;34m)\u001b[0m\u001b[0;34m\u001b[0m\u001b[0;34m\u001b[0m\u001b[0m\n\u001b[1;32m     10\u001b[0m \u001b[0;34m\u001b[0m\u001b[0m\n",
            "\u001b[0;31mValueError\u001b[0m: not enough values to unpack (expected 3, got 0)"
          ]
        }
      ]
    }
  ]
}