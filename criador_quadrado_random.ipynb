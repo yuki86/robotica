{
  "nbformat": 4,
  "nbformat_minor": 0,
  "metadata": {
    "colab": {
      "name": "criador quadrado random.ipynb",
      "provenance": [],
      "authorship_tag": "ABX9TyO7DFPRcbBZgjbZtZcs5o/2",
      "include_colab_link": true
    },
    "kernelspec": {
      "name": "python3",
      "display_name": "Python 3"
    }
  },
  "cells": [
    {
      "cell_type": "markdown",
      "metadata": {
        "id": "view-in-github",
        "colab_type": "text"
      },
      "source": [
        "<a href=\"https://colab.research.google.com/github/yuki86/robotica/blob/master/criador_quadrado_random.ipynb\" target=\"_parent\"><img src=\"https://colab.research.google.com/assets/colab-badge.svg\" alt=\"Open In Colab\"/></a>"
      ]
    },
    {
      "cell_type": "code",
      "metadata": {
        "id": "RtvkLVak66XZ",
        "outputId": "0db66fe2-bf77-4a6e-d15c-870f99305949",
        "colab": {
          "base_uri": "https://localhost:8080/",
          "height": 81
        }
      },
      "source": [
        "import cv2\n",
        "from google.colab.patches import cv2_imshow\n",
        "import numpy as np\n",
        "import random\n",
        "amostras = 100\n",
        "\n",
        "largura = random.randint(0,amostras)\n",
        "altura = largura\n",
        "tamanho = altura * largura\n",
        "f = open(\"dataset_exe1.csv\", \"w\")\n",
        "data = \"\"\n",
        "for py in range(0,altura):\n",
        "  for px in range(0, largura):\n",
        "    data = data + \"P\"+str(py)+str(px)+\",\"\n",
        "data = data + \"Saida\\n\"\n",
        "f.write( data )\n",
        "\n",
        "for amostra in range(0,amostras):\n",
        "  img = np.zeros([altura,largura,3])\n",
        "  for py in range(0,altura):\n",
        "    for px in range(0, largura):\n",
        "      img[px][py][0] = 255   # cor azul\n",
        "      img[px][py][1] = 255   # cor verde\n",
        "      img[px][py][2] = 255   # cor vermelho\n",
        "\n",
        "  lado = random.randint(0, altura)\n",
        "  x_min = random.randint(0, largura - lado) \n",
        "  y_min = random.randint(0, altura - lado) \n",
        "  cv2.rectangle(img,(x_min, y_min),(x_min+lado,y_min+lado),(0,0,0),-1)\n",
        "  #forma(arquivo,(coordenadas do ínicio -> x,y), (coordenadas do final -> x,y), (cores RGB), espessura -> -1 equivale a preenchido)\n",
        "  \n",
        "  data = \"\"\n",
        "  for py in range(0,altura):\n",
        "    for px in range(0, largura):\n",
        "      data = data + str(int(img[px][py][0]))+\",\"\n",
        "  data = data + \"0\\n\"\n",
        "\n",
        "  f.write( data )\n",
        "\n",
        "f.close()\n",
        "\n",
        "cv2_imshow(img)"
      ],
      "execution_count": 14,
      "outputs": [
        {
          "output_type": "display_data",
          "data": {
            "image/png": "[encoded data removed]",
            "text/plain": [
              "<PIL.Image.Image image mode=RGB size=64x64 at 0x7FA9F63CE390>"
            ]
          },
          "metadata": {
            "tags": []
          }
        }
      ]
    }
  ]
}