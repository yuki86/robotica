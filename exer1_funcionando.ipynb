{
  "nbformat": 4,
  "nbformat_minor": 0,
  "metadata": {
    "colab": {
      "name": "exer1-funcionando.ipynb",
      "provenance": [],
      "collapsed_sections": [],
      "authorship_tag": "ABX9TyN5+wnGv0ixciy46i7OO194",
      "include_colab_link": true
    },
    "kernelspec": {
      "name": "python3",
      "display_name": "Python 3"
    }
  },
  "cells": [
    {
      "cell_type": "markdown",
      "metadata": {
        "id": "view-in-github",
        "colab_type": "text"
      },
      "source": [
        "<a href=\"https://colab.research.google.com/github/yuki86/robotica/blob/master/exer1_funcionando.ipynb\" target=\"_parent\"><img src=\"https://colab.research.google.com/assets/colab-badge.svg\" alt=\"Open In Colab\"/></a>"
      ]
    },
    {
      "cell_type": "markdown",
      "metadata": {
        "id": "Q3CAayOl29K0"
      },
      "source": [
        "# 1.Criar um criador aleatório de padrões de quadrado, circulo e triângulo.\n"
      ]
    },
    {
      "cell_type": "markdown",
      "metadata": {
        "id": "A7HMALIMKiWA"
      },
      "source": [
        "Esses códigos funcionam, só a parte 1 está completa e funcional."
      ]
    },
    {
      "cell_type": "code",
      "metadata": {
        "id": "tDIHaZoIDlFB",
        "outputId": "285c145a-1116-4807-d499-fa4a3b066f73",
        "colab": {
          "base_uri": "https://localhost:8080/",
          "height": 108
        }
      },
      "source": [
        "#gerador de quadrados com dimensões aleatórias\n",
        "import cv2\n",
        "from google.colab.patches import cv2_imshow\n",
        "import numpy as np\n",
        "import random\n",
        "import cv2 as cv\n",
        "amostras = 100\n",
        "\n",
        "largura = random.randint(0,amostras)\n",
        "altura = largura\n",
        "tamanho = altura * largura\n",
        "f = open(\"dataset_exe1.csv\", \"w\")\n",
        "data = \"\"\n",
        "for py in range(0,altura):\n",
        "  for px in range(0, largura):\n",
        "    data = data + \"P\"+str(py)+str(px)+\",\"\n",
        "data = data + \"Saida\\n\"\n",
        "f.write( data )\n",
        "\n",
        "for amostra in range(0,amostras):\n",
        "  img = np.zeros([altura,largura,3])\n",
        "  for py in range(0,altura):\n",
        "    for px in range(0, largura):\n",
        "      img[px][py][0] = 255   # cor azul\n",
        "      img[px][py][1] = 255   # cor verde\n",
        "      img[px][py][2] = 255   # cor vermelho\n",
        "\n",
        "  lado = random.randint(0, altura)\n",
        "  x_min = random.randint(0, largura - lado) \n",
        "  y_min = random.randint(0, altura - lado) \n",
        "  cv2.rectangle(img,(x_min, y_min),(x_min+lado,y_min+lado),(0,0,0),-1)\n",
        "  #forma(arquivo,(coordenadas do ínicio -> x,y), (coordenadas do final -> x,y), (cores RGB), espessura -> -1 equivale a preenchido)\n",
        "  \n",
        "  data = \"\"\n",
        "  for py in range(0,altura):\n",
        "    for px in range(0, largura):\n",
        "      data = data + str(int(img[px][py][0]))+\",\"\n",
        "  data = data + \"0\\n\"\n",
        "\n",
        "  f.write( data )\n",
        "\n",
        "f.close()\n",
        "\n",
        "cv2_imshow(img)"
      ],
      "execution_count": 5,
      "outputs": [
        {
          "output_type": "display_data",
          "data": {
            "image/png": "[encoded data removed]",
            "text/plain": [
              "<PIL.Image.Image image mode=RGB size=91x91 at 0x7F9375363A20>"
            ]
          },
          "metadata": {
            "tags": []
          }
        }
      ]
    },
    {
      "cell_type": "code",
      "metadata": {
        "id": "cBhddQAwD-FA",
        "outputId": "f2bc6dfd-7a88-4f99-dc7c-38f3b9d52f91",
        "colab": {
          "base_uri": "https://localhost:8080/",
          "height": 117
        }
      },
      "source": [
        "#gerador de círculos com dimensões aleatórias\n",
        "import cv2\n",
        "from google.colab.patches import cv2_imshow\n",
        "import numpy as np\n",
        "import random\n",
        "import cv2 as cv\n",
        "amostras = 100\n",
        "\n",
        "xcentro = random.randint(1, amostras-1) \n",
        "ycentro = random.randint(1, amostras-1) \n",
        "raio=random.randint(1,(amostras/2))\n",
        "\n",
        "altura = amostras\n",
        "largura = amostras\n",
        "\n",
        "f = open(\"dataset_exe1.csv\", \"w\")\n",
        "data = \"\"\n",
        "for py in range(0,altura):\n",
        "  for px in range(0, largura):\n",
        "    data = data + \"P\"+str(py)+str(px)+\",\"\n",
        "data = data + \"Saida\\n\"\n",
        "f.write( data )\n",
        "\n",
        "for amostra in range(0,amostras):\n",
        "  img = np.zeros([altura,largura,3])\n",
        "  for py in range(0,altura):\n",
        "    for px in range(0, largura):\n",
        "      img[px][py][0] = 255   # cor azul\n",
        "      img[px][py][1] = 255   # cor verde\n",
        "      img[px][py][2] = 255   # cor vermelho\n",
        "\n",
        "  \n",
        "while (raio >= (amostras-xcentro) or raio >= (amostras-ycentro) or raio >= (xcentro-0) or raio >= (ycentro-0)):\n",
        "  raio=random.randint(1,(amostras/2))\n",
        "else:\n",
        "  cv.circle(img,(xcentro, ycentro), raio, (0,0,0), -1)\n",
        "  #(arquivo,(coordenadas do centro -> x,y), raio, (cores RGB), espessura -> -1 equivale a preenchido)\n",
        "\n",
        "  data = \"\"\n",
        "  for py in range(0,altura):\n",
        "    for px in range(0, largura):\n",
        "      data = data + str(int(img[px][py][0]))+\",\"\n",
        "  data = data + \"0\\n\"\n",
        "\n",
        "  f.write( data )\n",
        "\n",
        "f.close()\n",
        "\n",
        "cv2_imshow(img)\n"
      ],
      "execution_count": 6,
      "outputs": [
        {
          "output_type": "display_data",
          "data": {
            "image/png": "[encoded data removed]",
            "text/plain": [
              "<PIL.Image.Image image mode=RGB size=100x100 at 0x7F93753480F0>"
            ]
          },
          "metadata": {
            "tags": []
          }
        }
      ]
    },
    {
      "cell_type": "code",
      "metadata": {
        "id": "qX6rDQysDvCY",
        "outputId": "3cd8b0fe-a983-40de-f3a8-6a9ac3afd210",
        "colab": {
          "base_uri": "https://localhost:8080/",
          "height": 117
        }
      },
      "source": [
        "#gerado de triângulos com dimensões aleatórias\n",
        "import cv2\n",
        "from google.colab.patches import cv2_imshow\n",
        "import numpy as np\n",
        "import random\n",
        "import cv2 as cv\n",
        "amostras = 100\n",
        "\n",
        "xe=random.randint(0, amostras)\n",
        "ye=random.randint(0, amostras)\n",
        "xp=random.randint(0, amostras)\n",
        "yp=random.randint(0, amostras)\n",
        "xd=random.randint(0, amostras)\n",
        "yd=random.randint(0, amostras)\n",
        "\n",
        "altura = amostras\n",
        "largura = amostras\n",
        "\n",
        "f = open(\"dataset_exe1.csv\", \"w\")\n",
        "data = \"\"\n",
        "for py in range(0,altura):\n",
        "  for px in range(0, largura):\n",
        "    data = data + \"P\"+str(py)+str(px)+\",\"\n",
        "data = data + \"Saida\\n\"\n",
        "f.write( data )\n",
        "\n",
        "for amostra in range(0,amostras):\n",
        "  img = np.zeros([altura,largura,3])\n",
        "  for py in range(0,altura):\n",
        "    for px in range(0, largura):\n",
        "      img[px][py][0] = 255   # cor azul\n",
        "      img[px][py][1] = 255   # cor verde\n",
        "      img[px][py][2] = 255   # cor vermelho\n",
        "\n",
        "  \n",
        "while (yp >= ye or yp >= yd or xd <= xe):\n",
        "  xe=random.randint(0, amostras)\n",
        "  ye=random.randint(0, amostras)\n",
        "  xp=random.randint(0, amostras)\n",
        "  yp=random.randint(0, amostras)\n",
        "  xd=random.randint(0, amostras)\n",
        "  yd=random.randint(0, amostras)\n",
        "\n",
        "else:\n",
        "  #[[coordenadas do vértice esquerdo -> x,y], [coordenadas do vértice central -> x,y], [coordenadas do vértice direito -> x,y] obs: y do esquerdo e direito iguais para base reta)\n",
        "  pts = np.array([[xe,ye],[xp,yp],[xd,yd]], np.int32)\n",
        "  pts = pts.reshape((-1,1,2))\n",
        "  cv.fillPoly(img, [pts], color=(0, 0, 0)) #este comando faz o mesmo que a espessura -1\n",
        "\n",
        "  data = \"\"\n",
        "  for py in range(0,altura):\n",
        "    for px in range(0, largura):\n",
        "      data = data + str(int(img[px][py][0]))+\",\"\n",
        "  data = data + \"0\\n\"\n",
        "\n",
        "  f.write( data )\n",
        "\n",
        "f.close()\n",
        "\n",
        "cv2_imshow(img)"
      ],
      "execution_count": 7,
      "outputs": [
        {
          "output_type": "display_data",
          "data": {
            "image/png": "[encoded data removed]",
            "text/plain": [
              "<PIL.Image.Image image mode=RGB size=100x100 at 0x7F9375348F28>"
            ]
          },
          "metadata": {
            "tags": []
          }
        }
      ]
    },
    {
      "cell_type": "code",
      "metadata": {
        "id": "1pbyu7Pl7dm1",
        "outputId": "2fdc15b4-317a-415c-80da-14b177d76c23",
        "colab": {
          "base_uri": "https://localhost:8080/",
          "height": 117
        }
      },
      "source": [
        "#gerador aleatório de quadrado, círculo ou triângulo, sempre com dimensões diferentes\n",
        "import cv2\n",
        "from google.colab.patches import cv2_imshow\n",
        "import numpy as np\n",
        "import random\n",
        "import csv\n",
        "tamanho = 100     \n",
        "\n",
        "#tamanho da área disponível\n",
        "altura = tamanho\n",
        "largura = tamanho\n",
        "\n",
        "f = open(\"dataset_exe1.csv\", \"w\")\n",
        "data = \"\"\n",
        "for py in range(0,altura):\n",
        "  for px in range(0, largura):\n",
        "    data = data + \"P\"+str(py)+str(px)+\",\"\n",
        "data = data + \"Saida\\n\"\n",
        "f.write( data )\n",
        "\n",
        "for amostra in range(0,tamanho):\n",
        "  img = np.zeros([altura,largura,3])\n",
        "  for py in range(0,altura):\n",
        "    for px in range(0, largura):\n",
        "      img[px][py][0] = 255   # cor azul\n",
        "      img[px][py][1] = 255   # cor verde\n",
        "      img[px][py][2] = 255   # cor vermelho\n",
        "\n",
        "  #escolha random da figura a mostrar\n",
        "  escolha=random.randint(1,3)\n",
        "  if (escolha==1):\n",
        "    comprimento = random.randint(0, tamanho)\n",
        "    xmin = random.randint(0, tamanho - comprimento) \n",
        "    ymin=xmin \n",
        "    xmax=(xmin+comprimento)\n",
        "    ymax=xmax\n",
        "\n",
        "    #gera a forma de um quadrado\n",
        "    cv2.rectangle(img,(xmin, ymin),(xmax,ymax),(0,0,0),-1)\n",
        "    #forma(arquivo,(coordenadas do ínicio -> x,y), (coordenadas do final -> x,y), (cores RGB), espessura -> -1 equivale a preenchido)\n",
        "\n",
        "  elif (escolha==2):\n",
        "    #define dimensões random da forma\n",
        "    xcentro = random.randint(1, tamanho-1) \n",
        "    ycentro = random.randint(1, tamanho-1) \n",
        "    raio=random.randint(1,(tamanho/2))\n",
        "   \n",
        "    #gera a forma de um círculo\n",
        "    while (raio >= (tamanho-xcentro) or raio >= (tamanho-ycentro) or raio >= (xcentro-0) or raio >= (ycentro-0)):\n",
        "      xcentro = random.randint(1, tamanho-1) \n",
        "      ycentro = random.randint(1, tamanho-1) \n",
        "      raio=random.randint(1,(tamanho/2))\n",
        "    else:\n",
        "      cv2.circle(img,(xcentro, ycentro), raio, (0,0,0), -1)\n",
        "      #(arquivo,(coordenadas do centro -> x,y), raio, (cores RGB), espessura -> -1 equivale a preenchido)\n",
        "\n",
        "  else:\n",
        "    #define dimensões random da forma\n",
        "    xe=random.randint(0, tamanho)\n",
        "    ye=random.randint(0, tamanho)\n",
        "    xp=random.randint(0, tamanho)\n",
        "    yp=random.randint(0, tamanho)\n",
        "    xd=random.randint(0, tamanho)\n",
        "    yd=random.randint(0, tamanho)\n",
        "\n",
        "    #gera a forma de um triângulo\n",
        "    while (yp >= ye or yp >= yd or xd <= xe):\n",
        "      xe=random.randint(0, tamanho)\n",
        "      ye=random.randint(0, tamanho)\n",
        "      xp=random.randint(0, tamanho)\n",
        "      yp=random.randint(0, tamanho)\n",
        "      xd=random.randint(0, tamanho)\n",
        "      yd=random.randint(0, tamanho)\n",
        "    \n",
        "    else:\n",
        "      #[[coordenadas do vértice esquerdo -> x,y], [coordenadas do vértice central -> x,y], [coordenadas do vértice direito -> x,y] obs: y do esquerdo e direito iguais para base reta)\n",
        "      pts = np.array([[xe,ye],[xp,yp],[xd,yd]], np.int32)\n",
        "      pts = pts.reshape((-1,1,2))\n",
        "      cv2.fillPoly(img, [pts], color=(0, 0, 0)) #este comando faz o mesmo que a espessura -1\n",
        "\n",
        "  data = \"\"\n",
        "  for py in range(0,altura):\n",
        "    for px in range(0, largura):\n",
        "      data = data + str(int(img[px][py][0]))+\",\"\n",
        "  data = data + \"0\\n\"\n",
        "\n",
        "  f.write( data )\n",
        "\n",
        "f.close()\n",
        "\n",
        "cv2_imshow(img)\n",
        "\n",
        "\n"
      ],
      "execution_count": 9,
      "outputs": [
        {
          "output_type": "display_data",
          "data": {
            "image/png": "[encoded data removed]",
            "text/plain": [
              "<PIL.Image.Image image mode=RGB size=100x100 at 0x7F93753051D0>"
            ]
          },
          "metadata": {
            "tags": []
          }
        }
      ]
    },
    {
      "cell_type": "markdown",
      "metadata": {
        "id": "gEKw3aNx3A6r"
      },
      "source": [
        "# 2.Crie uma rede neural que classifique imagem do tipo quadrado, circulo e triângulo.\n"
      ]
    },
    {
      "cell_type": "markdown",
      "metadata": {
        "id": "PUKrrdRJKuOn"
      },
      "source": [
        "A parte 2 está incompleta..."
      ]
    },
    {
      "cell_type": "code",
      "metadata": {
        "id": "UZrA3FCfEmGK"
      },
      "source": [
        "#criar dados\n",
        "\n",
        "#gerador de quadrados com dimensões aleatórias\n",
        "import cv2\n",
        "from google.colab.patches import cv2_imshow\n",
        "import numpy as np\n",
        "import random\n",
        "import cv2 as cv\n",
        "qtde=10\n",
        "amostras = 10\n",
        "\n",
        "largura = random.randint(0,amostras)\n",
        "altura = largura\n",
        "\n",
        "for index in range(0,qtde-1):\n",
        "  f = open(\"dataset_exe1.csv\", \"w\")\n",
        "  data = \"\"\n",
        "  for py in range(0,altura):\n",
        "    for px in range(0, largura):\n",
        "      data = data + \"P\"+str(py)+str(px)+\",\"\n",
        "  data = data + \"Saida\\n\"\n",
        "  f.write( data )\n",
        "\n",
        "  for amostra in range(0,amostras):\n",
        "    img = np.zeros([altura,largura,3])\n",
        "    for py in range(0,altura):\n",
        "      for px in range(0, largura):\n",
        "        img[px][py][0] = 255   # cor azul\n",
        "        img[px][py][1] = 255   # cor verde\n",
        "        img[px][py][2] = 255   # cor vermelho\n",
        "\n",
        "    lado = random.randint(0, altura)\n",
        "    x_min = random.randint(0, largura - lado) \n",
        "    y_min = random.randint(0, altura - lado) \n",
        "    cv2.rectangle(img,(x_min, y_min),(x_min+lado,y_min+lado),(0,0,0),-1)\n",
        "    #forma(arquivo,(coordenadas do ínicio -> x,y), (coordenadas do final -> x,y), (cores RGB), espessura -> -1 equivale a preenchido)\n",
        "  \n",
        "    data = \"\"\n",
        "    for py in range(0,altura):\n",
        "      for px in range(0, largura):\n",
        "        data = data + str(int(img[px][py][0]))+\",\"\n",
        "    data = data + \"0\\n\"\n",
        "\n",
        "    f.write( data )\n",
        "\n",
        "  #gerador de círculos com dimensões aleatórias\n",
        "  xcentro = random.randint(1, amostras-1) \n",
        "  ycentro = random.randint(1, amostras-1) \n",
        "  raio=random.randint(1,(amostras/2))\n",
        "\n",
        "  altura = amostras\n",
        "  largura = amostras\n",
        "\n",
        "  f = open(\"dataset_exe1.csv\", \"w\")\n",
        "  data = \"\"\n",
        "  for py in range(0,altura):\n",
        "    for px in range(0, largura):\n",
        "      data = data + \"P\"+str(py)+str(px)+\",\"\n",
        "  data = data + \"Saida\\n\"\n",
        "  f.write( data )\n",
        "\n",
        "  for amostra in range(0,amostras):\n",
        "    img = np.zeros([altura,largura,3])\n",
        "    for py in range(0,altura):\n",
        "      for px in range(0, largura):\n",
        "        img[px][py][0] = 255   # cor azul\n",
        "        img[px][py][1] = 255   # cor verde\n",
        "        img[px][py][2] = 255   # cor vermelho\n",
        "\n",
        "  \n",
        "  while (raio >= (amostras-xcentro) or raio >= (amostras-ycentro) or raio >= (xcentro-0) or raio >= (ycentro-0)):\n",
        "    xcentro = random.randint(1, tamanho-1) \n",
        "    ycentro = random.randint(1, tamanho-1) \n",
        "    raio=random.randint(1,(tamanho/2))\n",
        "  else:\n",
        "    cv.circle(img,(xcentro, ycentro), raio, (0,0,0), -1)\n",
        "    #(arquivo,(coordenadas do centro -> x,y), raio, (cores RGB), espessura -> -1 equivale a preenchido)\n",
        "\n",
        "    data = \"\"\n",
        "    for py in range(0,altura):\n",
        "      for px in range(0, largura):\n",
        "        data = data + str(int(img[px][py][0]))+\",\"\n",
        "    data = data + \"0\\n\"\n",
        "\n",
        "    f.write( data )\n",
        "\n",
        "  #gerado de triângulos com dimensões aleatórias\n",
        "  xe=random.randint(0, amostras)\n",
        "  ye=random.randint(0, amostras)\n",
        "  xp=random.randint(0, amostras)\n",
        "  yp=random.randint(0, amostras)\n",
        "  xd=random.randint(0, amostras)\n",
        "  yd=random.randint(0, amostras)\n",
        "\n",
        "  altura = amostras\n",
        "  largura = amostras\n",
        "\n",
        "  for amostra in range(0,amostras):\n",
        "    img = np.zeros([altura,largura,3])\n",
        "    for py in range(0,altura):\n",
        "      for px in range(0, largura):\n",
        "        img[px][py][0] = 255   # cor azul\n",
        "        img[px][py][1] = 255   # cor verde\n",
        "        img[px][py][2] = 255   # cor vermelho\n",
        "\n",
        "  \n",
        "  while (yp >= ye or yp >= yd or xd <= xe):\n",
        "    xe=random.randint(0, amostras)\n",
        "    ye=random.randint(0, amostras)\n",
        "    xp=random.randint(0, amostras)\n",
        "    yp=random.randint(0, amostras)\n",
        "    xd=random.randint(0, amostras)\n",
        "    yd=random.randint(0, amostras)\n",
        "\n",
        "  else:\n",
        "    #[[coordenadas do vértice esquerdo -> x,y], [coordenadas do vértice central -> x,y], [coordenadas do vértice direito -> x,y] obs: y do esquerdo e direito iguais para base reta)\n",
        "    pts = np.array([[xe,ye],[xp,yp],[xd,yd]], np.int32)\n",
        "    pts = pts.reshape((-1,1,2))\n",
        "    cv.fillPoly(img, [pts], color=(0, 0, 0)) #este comando faz o mesmo que a espessura -1\n",
        "\n",
        "    data = \"\"\n",
        "    for py in range(0,altura):\n",
        "      for px in range(0, largura):\n",
        "        data = data + str(int(img[px][py][0]))+\",\"\n",
        "    data = data + \"0\\n\"\n",
        "\n",
        "    f.write( data )\n",
        "\n",
        "  f.close()\n",
        "\n"
      ],
      "execution_count": 49,
      "outputs": []
    },
    {
      "cell_type": "code",
      "metadata": {
        "id": "jFyp415IGfEf"
      },
      "source": [
        "#leitura dos dados\n",
        "import pandas as pd\n",
        "dados = pd.read_csv(\"dataset_exe1.csv\")\n",
        "dados.head()\n",
        "\n",
        "dados_entrada = dados.drop(\"Saida\", axis=1)\n",
        "dados_saida = dados[\"Saida\"]"
      ],
      "execution_count": 45,
      "outputs": []
    },
    {
      "cell_type": "code",
      "metadata": {
        "id": "8NYzJZO6Gg0l"
      },
      "source": [
        "#Divisão de dados\n",
        "from sklearn.model_selection import train_test_split\n",
        "\n",
        "dados_entrada_treino,dados_entrada_teste, dados_saida_treino,dados_saida_teste = train_test_split(dados_entrada, dados_saida, test_size=0.3,random_state = 42)"
      ],
      "execution_count": 40,
      "outputs": []
    },
    {
      "cell_type": "code",
      "metadata": {
        "id": "Iu_XpShuGjAO"
      },
      "source": [
        "#Normalizacao dos dados\n",
        "from sklearn.preprocessing import StandardScaler\n",
        "normaliza = StandardScaler()\n",
        "\n",
        "normaliza = normaliza.fit(dados_entrada_treino)\n",
        "\n",
        "dados_entrada_treino = normaliza.transform(dados_entrada_treino)\n",
        "dados_entrada_teste = normaliza.transform(dados_entrada_teste)"
      ],
      "execution_count": 41,
      "outputs": []
    },
    {
      "cell_type": "code",
      "metadata": {
        "id": "iVtk-EuNGphE",
        "outputId": "0472cc97-f91f-435f-e562-019129b9ed5a",
        "colab": {
          "base_uri": "https://localhost:8080/",
          "height": 370
        }
      },
      "source": [
        "from sklearn.neural_network import MLPClassifier\n",
        "\n",
        "clf = MLPClassifier(activation='logistic', solver='lbfgs', max_iter = 500)\n",
        "clf = clf.fit(dados_entrada_treino, dados_saida_treino)\n",
        "\n",
        "#aqui deu errado..."
      ],
      "execution_count": 42,
      "outputs": [
        {
          "output_type": "error",
          "ename": "ValueError",
          "evalue": "ignored",
          "traceback": [
            "\u001b[0;31m---------------------------------------------------------------------------\u001b[0m",
            "\u001b[0;31mValueError\u001b[0m                                Traceback (most recent call last)",
            "\u001b[0;32m<ipython-input-42-314e77bb0fdf>\u001b[0m in \u001b[0;36m<module>\u001b[0;34m()\u001b[0m\n\u001b[1;32m      2\u001b[0m \u001b[0;34m\u001b[0m\u001b[0m\n\u001b[1;32m      3\u001b[0m \u001b[0mclf\u001b[0m \u001b[0;34m=\u001b[0m \u001b[0mMLPClassifier\u001b[0m\u001b[0;34m(\u001b[0m\u001b[0mactivation\u001b[0m\u001b[0;34m=\u001b[0m\u001b[0;34m'logistic'\u001b[0m\u001b[0;34m,\u001b[0m \u001b[0msolver\u001b[0m\u001b[0;34m=\u001b[0m\u001b[0;34m'lbfgs'\u001b[0m\u001b[0;34m,\u001b[0m \u001b[0mmax_iter\u001b[0m \u001b[0;34m=\u001b[0m \u001b[0;36m500\u001b[0m\u001b[0;34m)\u001b[0m\u001b[0;34m\u001b[0m\u001b[0;34m\u001b[0m\u001b[0m\n\u001b[0;32m----> 4\u001b[0;31m \u001b[0mclf\u001b[0m \u001b[0;34m=\u001b[0m \u001b[0mclf\u001b[0m\u001b[0;34m.\u001b[0m\u001b[0mfit\u001b[0m\u001b[0;34m(\u001b[0m\u001b[0mdados_entrada_treino\u001b[0m\u001b[0;34m,\u001b[0m \u001b[0mdados_saida_treino\u001b[0m\u001b[0;34m)\u001b[0m\u001b[0;34m\u001b[0m\u001b[0;34m\u001b[0m\u001b[0m\n\u001b[0m\u001b[1;32m      5\u001b[0m \u001b[0;34m\u001b[0m\u001b[0m\n\u001b[1;32m      6\u001b[0m \u001b[0;31m#aqui deu errado...\u001b[0m\u001b[0;34m\u001b[0m\u001b[0;34m\u001b[0m\u001b[0;34m\u001b[0m\u001b[0m\n",
            "\u001b[0;32m/usr/local/lib/python3.6/dist-packages/sklearn/neural_network/_multilayer_perceptron.py\u001b[0m in \u001b[0;36mfit\u001b[0;34m(self, X, y)\u001b[0m\n\u001b[1;32m    993\u001b[0m         \"\"\"\n\u001b[1;32m    994\u001b[0m         return self._fit(X, y, incremental=(self.warm_start and\n\u001b[0;32m--> 995\u001b[0;31m                                             hasattr(self, \"classes_\")))\n\u001b[0m\u001b[1;32m    996\u001b[0m \u001b[0;34m\u001b[0m\u001b[0m\n\u001b[1;32m    997\u001b[0m     \u001b[0;34m@\u001b[0m\u001b[0mproperty\u001b[0m\u001b[0;34m\u001b[0m\u001b[0;34m\u001b[0m\u001b[0m\n",
            "\u001b[0;32m/usr/local/lib/python3.6/dist-packages/sklearn/neural_network/_multilayer_perceptron.py\u001b[0m in \u001b[0;36m_fit\u001b[0;34m(self, X, y, incremental)\u001b[0m\n\u001b[1;32m    323\u001b[0m                              hidden_layer_sizes)\n\u001b[1;32m    324\u001b[0m \u001b[0;34m\u001b[0m\u001b[0m\n\u001b[0;32m--> 325\u001b[0;31m         \u001b[0mX\u001b[0m\u001b[0;34m,\u001b[0m \u001b[0my\u001b[0m \u001b[0;34m=\u001b[0m \u001b[0mself\u001b[0m\u001b[0;34m.\u001b[0m\u001b[0m_validate_input\u001b[0m\u001b[0;34m(\u001b[0m\u001b[0mX\u001b[0m\u001b[0;34m,\u001b[0m \u001b[0my\u001b[0m\u001b[0;34m,\u001b[0m \u001b[0mincremental\u001b[0m\u001b[0;34m)\u001b[0m\u001b[0;34m\u001b[0m\u001b[0;34m\u001b[0m\u001b[0m\n\u001b[0m\u001b[1;32m    326\u001b[0m         \u001b[0mn_samples\u001b[0m\u001b[0;34m,\u001b[0m \u001b[0mn_features\u001b[0m \u001b[0;34m=\u001b[0m \u001b[0mX\u001b[0m\u001b[0;34m.\u001b[0m\u001b[0mshape\u001b[0m\u001b[0;34m\u001b[0m\u001b[0;34m\u001b[0m\u001b[0m\n\u001b[1;32m    327\u001b[0m \u001b[0;34m\u001b[0m\u001b[0m\n",
            "\u001b[0;32m/usr/local/lib/python3.6/dist-packages/sklearn/neural_network/_multilayer_perceptron.py\u001b[0m in \u001b[0;36m_validate_input\u001b[0;34m(self, X, y, incremental)\u001b[0m\n\u001b[1;32m    930\u001b[0m     \u001b[0;32mdef\u001b[0m \u001b[0m_validate_input\u001b[0m\u001b[0;34m(\u001b[0m\u001b[0mself\u001b[0m\u001b[0;34m,\u001b[0m \u001b[0mX\u001b[0m\u001b[0;34m,\u001b[0m \u001b[0my\u001b[0m\u001b[0;34m,\u001b[0m \u001b[0mincremental\u001b[0m\u001b[0;34m)\u001b[0m\u001b[0;34m:\u001b[0m\u001b[0;34m\u001b[0m\u001b[0;34m\u001b[0m\u001b[0m\n\u001b[1;32m    931\u001b[0m         X, y = check_X_y(X, y, accept_sparse=['csr', 'csc', 'coo'],\n\u001b[0;32m--> 932\u001b[0;31m                          multi_output=True)\n\u001b[0m\u001b[1;32m    933\u001b[0m         \u001b[0;32mif\u001b[0m \u001b[0my\u001b[0m\u001b[0;34m.\u001b[0m\u001b[0mndim\u001b[0m \u001b[0;34m==\u001b[0m \u001b[0;36m2\u001b[0m \u001b[0;32mand\u001b[0m \u001b[0my\u001b[0m\u001b[0;34m.\u001b[0m\u001b[0mshape\u001b[0m\u001b[0;34m[\u001b[0m\u001b[0;36m1\u001b[0m\u001b[0;34m]\u001b[0m \u001b[0;34m==\u001b[0m \u001b[0;36m1\u001b[0m\u001b[0;34m:\u001b[0m\u001b[0;34m\u001b[0m\u001b[0;34m\u001b[0m\u001b[0m\n\u001b[1;32m    934\u001b[0m             \u001b[0my\u001b[0m \u001b[0;34m=\u001b[0m \u001b[0mcolumn_or_1d\u001b[0m\u001b[0;34m(\u001b[0m\u001b[0my\u001b[0m\u001b[0;34m,\u001b[0m \u001b[0mwarn\u001b[0m\u001b[0;34m=\u001b[0m\u001b[0;32mTrue\u001b[0m\u001b[0;34m)\u001b[0m\u001b[0;34m\u001b[0m\u001b[0;34m\u001b[0m\u001b[0m\n",
            "\u001b[0;32m/usr/local/lib/python3.6/dist-packages/sklearn/utils/validation.py\u001b[0m in \u001b[0;36mcheck_X_y\u001b[0;34m(X, y, accept_sparse, accept_large_sparse, dtype, order, copy, force_all_finite, ensure_2d, allow_nd, multi_output, ensure_min_samples, ensure_min_features, y_numeric, warn_on_dtype, estimator)\u001b[0m\n\u001b[1;32m    753\u001b[0m                     \u001b[0mensure_min_features\u001b[0m\u001b[0;34m=\u001b[0m\u001b[0mensure_min_features\u001b[0m\u001b[0;34m,\u001b[0m\u001b[0;34m\u001b[0m\u001b[0;34m\u001b[0m\u001b[0m\n\u001b[1;32m    754\u001b[0m                     \u001b[0mwarn_on_dtype\u001b[0m\u001b[0;34m=\u001b[0m\u001b[0mwarn_on_dtype\u001b[0m\u001b[0;34m,\u001b[0m\u001b[0;34m\u001b[0m\u001b[0;34m\u001b[0m\u001b[0m\n\u001b[0;32m--> 755\u001b[0;31m                     estimator=estimator)\n\u001b[0m\u001b[1;32m    756\u001b[0m     \u001b[0;32mif\u001b[0m \u001b[0mmulti_output\u001b[0m\u001b[0;34m:\u001b[0m\u001b[0;34m\u001b[0m\u001b[0;34m\u001b[0m\u001b[0m\n\u001b[1;32m    757\u001b[0m         y = check_array(y, 'csr', force_all_finite=True, ensure_2d=False,\n",
            "\u001b[0;32m/usr/local/lib/python3.6/dist-packages/sklearn/utils/validation.py\u001b[0m in \u001b[0;36mcheck_array\u001b[0;34m(array, accept_sparse, accept_large_sparse, dtype, order, copy, force_all_finite, ensure_2d, allow_nd, ensure_min_samples, ensure_min_features, warn_on_dtype, estimator)\u001b[0m\n\u001b[1;32m    576\u001b[0m         \u001b[0;32mif\u001b[0m \u001b[0mforce_all_finite\u001b[0m\u001b[0;34m:\u001b[0m\u001b[0;34m\u001b[0m\u001b[0;34m\u001b[0m\u001b[0m\n\u001b[1;32m    577\u001b[0m             _assert_all_finite(array,\n\u001b[0;32m--> 578\u001b[0;31m                                allow_nan=force_all_finite == 'allow-nan')\n\u001b[0m\u001b[1;32m    579\u001b[0m \u001b[0;34m\u001b[0m\u001b[0m\n\u001b[1;32m    580\u001b[0m     \u001b[0;32mif\u001b[0m \u001b[0mensure_min_samples\u001b[0m \u001b[0;34m>\u001b[0m \u001b[0;36m0\u001b[0m\u001b[0;34m:\u001b[0m\u001b[0;34m\u001b[0m\u001b[0;34m\u001b[0m\u001b[0m\n",
            "\u001b[0;32m/usr/local/lib/python3.6/dist-packages/sklearn/utils/validation.py\u001b[0m in \u001b[0;36m_assert_all_finite\u001b[0;34m(X, allow_nan, msg_dtype)\u001b[0m\n\u001b[1;32m     58\u001b[0m                     \u001b[0mmsg_err\u001b[0m\u001b[0;34m.\u001b[0m\u001b[0mformat\u001b[0m\u001b[0;34m\u001b[0m\u001b[0;34m\u001b[0m\u001b[0m\n\u001b[1;32m     59\u001b[0m                     (type_err,\n\u001b[0;32m---> 60\u001b[0;31m                      msg_dtype if msg_dtype is not None else X.dtype)\n\u001b[0m\u001b[1;32m     61\u001b[0m             )\n\u001b[1;32m     62\u001b[0m     \u001b[0;31m# for object dtype data, we only check for NaNs (GH-13254)\u001b[0m\u001b[0;34m\u001b[0m\u001b[0;34m\u001b[0m\u001b[0;34m\u001b[0m\u001b[0m\n",
            "\u001b[0;31mValueError\u001b[0m: Input contains NaN, infinity or a value too large for dtype('float64')."
          ]
        }
      ]
    },
    {
      "cell_type": "code",
      "metadata": {
        "id": "304-fAGxGrDm",
        "outputId": "eb557f67-515a-454d-edef-7f1ac36551e9",
        "colab": {
          "base_uri": "https://localhost:8080/",
          "height": 354
        }
      },
      "source": [
        "calculado = clf.predict(dados_entrada_teste)\n",
        "real=dados_saida_teste.values\n",
        "print(\"Calculado: \",calculado[0:10])\n",
        "print(\"Saida:     \",real[0:10])"
      ],
      "execution_count": 37,
      "outputs": [
        {
          "output_type": "error",
          "ename": "NotFittedError",
          "evalue": "ignored",
          "traceback": [
            "\u001b[0;31m---------------------------------------------------------------------------\u001b[0m",
            "\u001b[0;31mNotFittedError\u001b[0m                            Traceback (most recent call last)",
            "\u001b[0;32m<ipython-input-37-b2c9d92fdf25>\u001b[0m in \u001b[0;36m<module>\u001b[0;34m()\u001b[0m\n\u001b[0;32m----> 1\u001b[0;31m \u001b[0mcalculado\u001b[0m \u001b[0;34m=\u001b[0m \u001b[0mclf\u001b[0m\u001b[0;34m.\u001b[0m\u001b[0mpredict\u001b[0m\u001b[0;34m(\u001b[0m\u001b[0mdados_entrada_teste\u001b[0m\u001b[0;34m)\u001b[0m\u001b[0;34m\u001b[0m\u001b[0;34m\u001b[0m\u001b[0m\n\u001b[0m\u001b[1;32m      2\u001b[0m \u001b[0mreal\u001b[0m\u001b[0;34m=\u001b[0m\u001b[0mdados_saida_teste\u001b[0m\u001b[0;34m.\u001b[0m\u001b[0mvalues\u001b[0m\u001b[0;34m\u001b[0m\u001b[0;34m\u001b[0m\u001b[0m\n\u001b[1;32m      3\u001b[0m \u001b[0mprint\u001b[0m\u001b[0;34m(\u001b[0m\u001b[0;34m\"Calculado: \"\u001b[0m\u001b[0;34m,\u001b[0m\u001b[0mcalculado\u001b[0m\u001b[0;34m[\u001b[0m\u001b[0;36m0\u001b[0m\u001b[0;34m:\u001b[0m\u001b[0;36m10\u001b[0m\u001b[0;34m]\u001b[0m\u001b[0;34m)\u001b[0m\u001b[0;34m\u001b[0m\u001b[0;34m\u001b[0m\u001b[0m\n\u001b[1;32m      4\u001b[0m \u001b[0mprint\u001b[0m\u001b[0;34m(\u001b[0m\u001b[0;34m\"Saida:     \"\u001b[0m\u001b[0;34m,\u001b[0m\u001b[0mreal\u001b[0m\u001b[0;34m[\u001b[0m\u001b[0;36m0\u001b[0m\u001b[0;34m:\u001b[0m\u001b[0;36m10\u001b[0m\u001b[0;34m]\u001b[0m\u001b[0;34m)\u001b[0m\u001b[0;34m\u001b[0m\u001b[0;34m\u001b[0m\u001b[0m\n",
            "\u001b[0;32m/usr/local/lib/python3.6/dist-packages/sklearn/neural_network/_multilayer_perceptron.py\u001b[0m in \u001b[0;36mpredict\u001b[0;34m(self, X)\u001b[0m\n\u001b[1;32m    968\u001b[0m             \u001b[0mThe\u001b[0m \u001b[0mpredicted\u001b[0m \u001b[0mclasses\u001b[0m\u001b[0;34m.\u001b[0m\u001b[0;34m\u001b[0m\u001b[0;34m\u001b[0m\u001b[0m\n\u001b[1;32m    969\u001b[0m         \"\"\"\n\u001b[0;32m--> 970\u001b[0;31m         \u001b[0mcheck_is_fitted\u001b[0m\u001b[0;34m(\u001b[0m\u001b[0mself\u001b[0m\u001b[0;34m)\u001b[0m\u001b[0;34m\u001b[0m\u001b[0;34m\u001b[0m\u001b[0m\n\u001b[0m\u001b[1;32m    971\u001b[0m         \u001b[0my_pred\u001b[0m \u001b[0;34m=\u001b[0m \u001b[0mself\u001b[0m\u001b[0;34m.\u001b[0m\u001b[0m_predict\u001b[0m\u001b[0;34m(\u001b[0m\u001b[0mX\u001b[0m\u001b[0;34m)\u001b[0m\u001b[0;34m\u001b[0m\u001b[0;34m\u001b[0m\u001b[0m\n\u001b[1;32m    972\u001b[0m \u001b[0;34m\u001b[0m\u001b[0m\n",
            "\u001b[0;32m/usr/local/lib/python3.6/dist-packages/sklearn/utils/validation.py\u001b[0m in \u001b[0;36mcheck_is_fitted\u001b[0;34m(estimator, attributes, msg, all_or_any)\u001b[0m\n\u001b[1;32m    965\u001b[0m \u001b[0;34m\u001b[0m\u001b[0m\n\u001b[1;32m    966\u001b[0m     \u001b[0;32mif\u001b[0m \u001b[0;32mnot\u001b[0m \u001b[0mattrs\u001b[0m\u001b[0;34m:\u001b[0m\u001b[0;34m\u001b[0m\u001b[0;34m\u001b[0m\u001b[0m\n\u001b[0;32m--> 967\u001b[0;31m         \u001b[0;32mraise\u001b[0m \u001b[0mNotFittedError\u001b[0m\u001b[0;34m(\u001b[0m\u001b[0mmsg\u001b[0m \u001b[0;34m%\u001b[0m \u001b[0;34m{\u001b[0m\u001b[0;34m'name'\u001b[0m\u001b[0;34m:\u001b[0m \u001b[0mtype\u001b[0m\u001b[0;34m(\u001b[0m\u001b[0mestimator\u001b[0m\u001b[0;34m)\u001b[0m\u001b[0;34m.\u001b[0m\u001b[0m__name__\u001b[0m\u001b[0;34m}\u001b[0m\u001b[0;34m)\u001b[0m\u001b[0;34m\u001b[0m\u001b[0;34m\u001b[0m\u001b[0m\n\u001b[0m\u001b[1;32m    968\u001b[0m \u001b[0;34m\u001b[0m\u001b[0m\n\u001b[1;32m    969\u001b[0m \u001b[0;34m\u001b[0m\u001b[0m\n",
            "\u001b[0;31mNotFittedError\u001b[0m: This MLPClassifier instance is not fitted yet. Call 'fit' with appropriate arguments before using this estimator."
          ]
        }
      ]
    },
    {
      "cell_type": "code",
      "metadata": {
        "id": "euZAq03HGyV9",
        "outputId": "9344d9ac-af67-4a5b-800c-dee9a3f7a0ea",
        "colab": {
          "base_uri": "https://localhost:8080/"
        }
      },
      "source": [
        "#validação do teste\n",
        "from sklearn.metrics import accuracy_score\n",
        "print(accuracy_score(real,calculado))"
      ],
      "execution_count": 16,
      "outputs": [
        {
          "output_type": "stream",
          "text": [
            "1.0\n"
          ],
          "name": "stdout"
        }
      ]
    },
    {
      "cell_type": "code",
      "metadata": {
        "id": "9zv0I2iIYuVp",
        "outputId": "8b8f4460-d069-40b2-d33c-c17ea52639d0",
        "colab": {
          "base_uri": "https://localhost:8080/",
          "height": 134
        }
      },
      "source": [
        "import cv2\n",
        "from google.colab.patches import cv2_imshow\n",
        "import numpy as np\n",
        "import random\n",
        "import csv\n",
        "tamanho = 100     \n",
        "\n",
        "#tamanho da área disponível\n",
        "altura = tamanho\n",
        "largura = tamanho\n",
        "\n",
        "f = open(\"dataset_exe1.csv\", \"w\")\n",
        "data = \"\"\n",
        "for py in range(0,altura):\n",
        "  for px in range(0, largura):\n",
        "    data = data + \"P\"+str(py)+str(px)+\",\"\n",
        "data = data + \"Saida\\n\"\n",
        "f.write( data )\n",
        "\n",
        "for amostra in range(0,tamanho):\n",
        "  img = np.zeros([altura,largura,3])\n",
        "  for py in range(0,altura):\n",
        "    for px in range(0, largura):\n",
        "      img[px][py][0] = 255   # cor azul\n",
        "      img[px][py][1] = 255   # cor verde\n",
        "      img[px][py][2] = 255   # cor vermelho\n",
        "\n",
        "  #escolha random da figura a mostrar\n",
        "  escolha=random.randint(1,3)\n",
        "  if (escolha==1):\n",
        "    comprimento = random.randint(0, tamanho)\n",
        "    xmin = random.randint(0, tamanho - comprimento) \n",
        "    ymin=xmin \n",
        "    xmax=(xmin+comprimento)\n",
        "    ymax=xmax\n",
        "\n",
        "    #gera a forma de um quadrado\n",
        "    cv2.rectangle(img,(xmin, ymin),(xmax,ymax),(0,0,0),-1)\n",
        "    #forma(arquivo,(coordenadas do ínicio -> x,y), (coordenadas do final -> x,y), (cores RGB), espessura -> -1 equivale a preenchido)\n",
        "\n",
        "  elif (escolha==2):\n",
        "    #define dimensões random da forma\n",
        "    xcentro = random.randint(1, tamanho-1) \n",
        "    ycentro = random.randint(1, tamanho-1) \n",
        "    raio=random.randint(1,(tamanho/2))\n",
        "   \n",
        "    #gera a forma de um círculo\n",
        "    while (raio >= (tamanho-xcentro) or raio >= (tamanho-ycentro) or raio >= (xcentro-0) or raio >= (ycentro-0)):\n",
        "      xcentro = random.randint(1, tamanho-1) \n",
        "      ycentro = random.randint(1, tamanho-1) \n",
        "      raio=random.randint(1,(tamanho/2))\n",
        "    else:\n",
        "      cv2.circle(img,(xcentro, ycentro), raio, (0,0,0), -1)\n",
        "      #(arquivo,(coordenadas do centro -> x,y), raio, (cores RGB), espessura -> -1 equivale a preenchido)\n",
        "\n",
        "  else:\n",
        "    #define dimensões random da forma\n",
        "    xe=random.randint(0, tamanho)\n",
        "    ye=random.randint(0, tamanho)\n",
        "    xp=random.randint(0, tamanho)\n",
        "    yp=random.randint(0, tamanho)\n",
        "    xd=random.randint(0, tamanho)\n",
        "    yd=random.randint(0, tamanho)\n",
        "\n",
        "    #gera a forma de um triângulo\n",
        "    while (yp >= ye or yp >= yd or xd <= xe):\n",
        "      xe=random.randint(0, tamanho)\n",
        "      ye=random.randint(0, tamanho)\n",
        "      xp=random.randint(0, tamanho)\n",
        "      yp=random.randint(0, tamanho)\n",
        "      xd=random.randint(0, tamanho)\n",
        "      yd=random.randint(0, tamanho)\n",
        "    \n",
        "    else:\n",
        "      #[[coordenadas do vértice esquerdo -> x,y], [coordenadas do vértice central -> x,y], [coordenadas do vértice direito -> x,y] obs: y do esquerdo e direito iguais para base reta)\n",
        "      pts = np.array([[xe,ye],[xp,yp],[xd,yd]], np.int32)\n",
        "      pts = pts.reshape((-1,1,2))\n",
        "      cv2.fillPoly(img, [pts], color=(0, 0, 0)) #este comando faz o mesmo que a espessura -1\n",
        "\n",
        "  data = \"\"\n",
        "  for py in range(0,altura):\n",
        "    for px in range(0, largura):\n",
        "      data = data + str(int(img[px][py][0]))+\",\"\n",
        "  data = data + \"0\\n\"\n",
        "\n",
        "  f.write( data )\n",
        "\n",
        "f.close()\n",
        "\n",
        "cv2_imshow(img)\n",
        "\n",
        "if (escolha==1):\n",
        "  print('quadrado')\n",
        "elif (escolha==2):\n",
        "  print('círculo')\n",
        "else:\n",
        "  print('triangulo')\n",
        "\n"
      ],
      "execution_count": 48,
      "outputs": [
        {
          "output_type": "display_data",
          "data": {
            "image/png": "[encoded data removed]",
            "text/plain": [
              "<PIL.Image.Image image mode=RGB size=100x100 at 0x7F937531FA20>"
            ]
          },
          "metadata": {
            "tags": []
          }
        },
        {
          "output_type": "stream",
          "text": [
            "triangulo\n"
          ],
          "name": "stdout"
        }
      ]
    },
    {
      "cell_type": "code",
      "metadata": {
        "id": "ihTJrd9oNb9H"
      },
      "source": [
        "import cv2\n",
        "from google.colab.patches import cv2_imshow\n",
        "import numpy as np\n",
        "import random\n",
        "amostras = 100\n",
        "\n",
        "\n",
        "largura = random.randint(0,amostras)\n",
        "altura = largura\n",
        "tamanho = altura * largura\n",
        "f = open(\"dataset_exe1.csv\", \"w\")\n",
        "data = \"\"\n",
        "for py in range(0,altura):\n",
        "  for px in range(0, largura):\n",
        "    data = data + \"P\"+str(py)+str(px)+\",\"\n",
        "data = data + \"Saida\\n\"\n",
        "f.write( data )\n",
        "\n",
        "for amostra in range(0,amostras):\n",
        "  img = np.zeros([altura,largura,3])\n",
        "  for py in range(0,altura):\n",
        "    for px in range(0, largura):\n",
        "      img[px][py][0] = 255   # cor azul\n",
        "      img[px][py][1] = 255   # cor verde\n",
        "      img[px][py][2] = 255   # cor vermelho\n",
        "\n",
        "  lado = random.randint(0, altura)\n",
        "  x_min = random.randint(0, largura - lado) \n",
        "  y_min = random.randint(0, altura - lado) \n",
        "  cv2.rectangle(img,(x_min, y_min),(x_min+lado,y_min+lado),(0,0,0),-1)\n",
        "  #forma(arquivo,(coordenadas do ínicio -> x,y), (coordenadas do final -> x,y), (cores RGB), espessura -> -1 equivale a preenchido)\n",
        "  \n",
        "  data = \"\"\n",
        "  for py in range(0,altura):\n",
        "    for px in range(0, largura):\n",
        "      data = data + str(int(img[px][py][0]))+\",\"\n",
        "  data = data + \"0\\n\"\n",
        "\n",
        "  f.write( data )\n",
        "\n",
        "f.close()\n",
        "\n",
        "cv2_imshow(img)\n",
        "\n",
        "\n",
        "\n",
        "xcentro = random.randint(1, amostras-1) \n",
        "ycentro = random.randint(1, amostras-1) \n",
        "raio=random.randint(1,(amostras/2))\n",
        "\n",
        "altura = amostras\n",
        "largura = amostras\n",
        "\n",
        "f = open(\"dataset_exe1.csv\", \"w\")\n",
        "data = \"\"\n",
        "for py in range(0,altura):\n",
        "  for px in range(0, largura):\n",
        "    data = data + \"P\"+str(py)+str(px)+\",\"\n",
        "data = data + \"Saida\\n\"\n",
        "f.write( data )\n",
        "\n",
        "for amostra in range(0,amostras):\n",
        "  img = np.zeros([altura,largura,3])\n",
        "  for py in range(0,altura):\n",
        "    for px in range(0, largura):\n",
        "      img[px][py][0] = 255   # cor azul\n",
        "      img[px][py][1] = 255   # cor verde\n",
        "      img[px][py][2] = 255   # cor vermelho\n",
        "\n",
        "  \n",
        "while (raio >= (amostras-xcentro) or raio >= (amostras-ycentro) or raio >= (xcentro-0) or raio >= (ycentro-0)):\n",
        "  raio=random.randint(1,(amostras/2))\n",
        "else:\n",
        "  cv.circle(img,(xcentro, ycentro), raio, (0,0,0), -1)\n",
        "  #(arquivo,(coordenadas do centro -> x,y), raio, (cores RGB), espessura -> -1 equivale a preenchido)\n",
        "\n",
        "  data = \"\"\n",
        "  for py in range(0,altura):\n",
        "    for px in range(0, largura):\n",
        "      data = data + str(int(img[px][py][0]))+\",\"\n",
        "  data = data + \"0\\n\"\n",
        "\n",
        "  f.write( data )\n",
        "\n",
        "f.close()\n",
        "\n",
        "#triângulo\n",
        "xe=random.randint(0, amostras)\n",
        "ye=random.randint(0, amostras)\n",
        "xp=random.randint(0, amostras)\n",
        "yp=random.randint(0, amostras)\n",
        "xd=random.randint(0, amostras)\n",
        "yd=random.randint(0, amostras)\n",
        "\n",
        "altura = amostras\n",
        "largura = amostras\n",
        "\n",
        "f = open(\"dataset_exe1.csv\", \"w\")\n",
        "data = \"\"\n",
        "for py in range(0,altura):\n",
        "  for px in range(0, largura):\n",
        "    data = data + \"P\"+str(py)+str(px)+\",\"\n",
        "data = data + \"Saida\\n\"\n",
        "f.write( data )\n",
        "\n",
        "for amostra in range(0,amostras):\n",
        "  img = np.zeros([altura,largura,3])\n",
        "  for py in range(0,altura):\n",
        "    for px in range(0, largura):\n",
        "      img[px][py][0] = 255   # cor azul\n",
        "      img[px][py][1] = 255   # cor verde\n",
        "      img[px][py][2] = 255   # cor vermelho\n",
        "\n",
        "  \n",
        "while (yp >= ye or yp >= yd or xd <= xe):\n",
        "  xe=random.randint(0, amostras)\n",
        "  ye=random.randint(0, amostras)\n",
        "  xp=random.randint(0, amostras)\n",
        "  yp=random.randint(0, amostras)\n",
        "  xd=random.randint(0, amostras)\n",
        "  yd=random.randint(0, amostras)\n",
        "\n",
        "else:\n",
        "  #[[coordenadas do vértice esquerdo -> x,y], [coordenadas do vértice central -> x,y], [coordenadas do vértice direito -> x,y] obs: y do esquerdo e direito iguais para base reta)\n",
        "  pts = np.array([[xe,ye],[xp,yp],[xd,yd]], np.int32)\n",
        "  pts = pts.reshape((-1,1,2))\n",
        "  cv.fillPoly(img, [pts], color=(0, 0, 0)) #este comando faz o mesmo que a espessura -1\n",
        "\n",
        "  data = \"\"\n",
        "  for py in range(0,altura):\n",
        "    for px in range(0, largura):\n",
        "      data = data + str(int(img[px][py][0]))+\",\"\n",
        "  data = data + \"0\\n\"\n",
        "\n",
        "  f.write( data )\n",
        "\n",
        "f.close()\n",
        "\n",
        "cv2_imshow(img)"
      ],
      "execution_count": null,
      "outputs": []
    }
  ]
}