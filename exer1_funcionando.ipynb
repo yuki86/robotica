{
  "nbformat": 4,
  "nbformat_minor": 0,
  "metadata": {
    "colab": {
      "name": "exer1-funcionando.ipynb",
      "provenance": [],
      "authorship_tag": "ABX9TyPz7WhpO6rJ0Fsa3SSNJwFN",
      "include_colab_link": true
    },
    "kernelspec": {
      "name": "python3",
      "display_name": "Python 3"
    }
  },
  "cells": [
    {
      "cell_type": "markdown",
      "metadata": {
        "id": "view-in-github",
        "colab_type": "text"
      },
      "source": [
        "<a href=\"https://colab.research.google.com/github/yuki86/robotica/blob/master/exer1_funcionando.ipynb\" target=\"_parent\"><img src=\"https://colab.research.google.com/assets/colab-badge.svg\" alt=\"Open In Colab\"/></a>"
      ]
    },
    {
      "cell_type": "code",
      "metadata": {
        "id": "1pbyu7Pl7dm1",
        "outputId": "79796fb4-a469-4603-eca4-7001db3c4b10",
        "colab": {
          "base_uri": "https://localhost:8080/",
          "height": 134
        }
      },
      "source": [
        "import cv2\n",
        "from google.colab.patches import cv2_imshow\n",
        "import numpy as np\n",
        "import random\n",
        "amostras = 100     \n",
        "\n",
        "#tamanho da área disponível\n",
        "altura = amostras\n",
        "largura = amostras\n",
        "\n",
        "f = open(\"dataset_exe1.csv\", \"w\")\n",
        "data = \"\"\n",
        "for py in range(0,altura):\n",
        "  for px in range(0, largura):\n",
        "    data = data + \"P\"+str(py)+str(px)+\",\"\n",
        "data = data + \"Saida\\n\"\n",
        "f.write( data )\n",
        "\n",
        "for amostra in range(0,amostras):\n",
        "  img = np.zeros([altura,largura,3])\n",
        "  for py in range(0,altura):\n",
        "    for px in range(0, largura):\n",
        "      img[px][py][0] = 255   # cor azul\n",
        "      img[px][py][1] = 255   # cor verde\n",
        "      img[px][py][2] = 255   # cor vermelho\n",
        "\n",
        "  #escolha random da figura a mostrar\n",
        "  escolha=random.randint(1,3)\n",
        "  if (escolha==1):\n",
        "    tamanho = random.randint(0, amostras)\n",
        "    xmin = random.randint(0, amostras - tamanho) \n",
        "    ymin=xmin \n",
        "    xmax=(xmin+tamanho)\n",
        "    ymax=xmax\n",
        "\n",
        "    #gera a forma de um quadrado\n",
        "    cv2.rectangle(img,(xmin, ymin),(xmax,ymax),(0,0,0),-1)\n",
        "    #forma(arquivo,(coordenadas do ínicio -> x,y), (coordenadas do final -> x,y), (cores RGB), espessura -> -1 equivale a preenchido)\n",
        "\n",
        "  elif (escolha==2):\n",
        "    #define dimensões random da forma\n",
        "    xcentro = random.randint(1, amostras-1) \n",
        "    ycentro = random.randint(1, amostras-1) \n",
        "    raio=random.randint(1,(amostras/2))\n",
        "   \n",
        "    #gera a forma de um círculo\n",
        "    while (raio >= (amostras-xcentro) or raio >= (amostras-ycentro) or raio >= (xcentro-0) or raio >= (ycentro-0)):\n",
        "      xcentro = random.randint(1, amostras-1) \n",
        "      ycentro = random.randint(1, amostras-1) \n",
        "      raio=random.randint(1,(amostras/2))\n",
        "    else:\n",
        "      cv2.circle(img,(xcentro, ycentro), raio, (0,0,0), -1)\n",
        "      #(arquivo,(coordenadas do centro -> x,y), raio, (cores RGB), espessura -> -1 equivale a preenchido)\n",
        "\n",
        "  else:\n",
        "    #define dimensões random da forma\n",
        "    xe=random.randint(0, amostras)\n",
        "    ye=random.randint(0, amostras)\n",
        "    xp=random.randint(0, amostras)\n",
        "    yp=random.randint(0, amostras)\n",
        "    xd=random.randint(0, amostras)\n",
        "    yd=random.randint(0, amostras)\n",
        "\n",
        "    #gera a forma de um triângulo\n",
        "    while (yp >= ye or yp >= yd or xd <= xe):\n",
        "      xe=random.randint(0, amostras)\n",
        "      ye=random.randint(0, amostras)\n",
        "      xp=random.randint(0, amostras)\n",
        "      yp=random.randint(0, amostras)\n",
        "      xd=random.randint(0, amostras)\n",
        "      yd=random.randint(0, amostras)\n",
        "    \n",
        "    else:\n",
        "      #[[coordenadas do vértice esquerdo -> x,y], [coordenadas do vértice central -> x,y], [coordenadas do vértice direito -> x,y] obs: y do esquerdo e direito iguais para base reta)\n",
        "      pts = np.array([[xe,ye],[xp,yp],[xd,yd]], np.int32)\n",
        "      pts = pts.reshape((-1,1,2))\n",
        "      cv2.fillPoly(img, [pts], color=(0, 0, 0)) #este comando faz o mesmo que a espessura -1\n",
        "\n",
        "  data = \"\"\n",
        "  for py in range(0,altura):\n",
        "    for px in range(0, largura):\n",
        "      data = data + str(int(img[px][py][0]))+\",\"\n",
        "  data = data + \"0\\n\"\n",
        "\n",
        "  f.write( data )\n",
        "\n",
        "f.close()\n",
        "\n",
        "cv2_imshow(img)\n",
        "print(escolha)\n",
        "\n"
      ],
      "execution_count": 138,
      "outputs": [
        {
          "output_type": "display_data",
          "data": {
            "image/png": "[encoded data removed]",
            "text/plain": [
              "<PIL.Image.Image image mode=RGB size=100x100 at 0x7FBFC060C978>"
            ]
          },
          "metadata": {
            "tags": []
          }
        },
        {
          "output_type": "stream",
          "text": [
            "3\n"
          ],
          "name": "stdout"
        }
      ]
    }
  ]
}