{
  "nbformat": 4,
  "nbformat_minor": 0,
  "metadata": {
    "colab": {
      "name": "criador de formas com dados específicos.ipynb",
      "provenance": [],
      "authorship_tag": "ABX9TyOqJ9C+Raep2yV7mAWdj7p7",
      "include_colab_link": true
    },
    "kernelspec": {
      "name": "python3",
      "display_name": "Python 3"
    }
  },
  "cells": [
    {
      "cell_type": "markdown",
      "metadata": {
        "id": "view-in-github",
        "colab_type": "text"
      },
      "source": [
        "<a href=\"https://colab.research.google.com/github/yuki86/robotica/blob/master/criador_de_formas_com_dados_espec%C3%ADficos.ipynb\" target=\"_parent\"><img src=\"https://colab.research.google.com/assets/colab-badge.svg\" alt=\"Open In Colab\"/></a>"
      ]
    },
    {
      "cell_type": "code",
      "metadata": {
        "id": "1QnKAKHKnv-G",
        "outputId": "f126cfc5-48de-4e3c-a31e-8cfc0dd5e226",
        "colab": {
          "base_uri": "https://localhost:8080/",
          "height": 517
        }
      },
      "source": [
        "#criador de formas com dados específicos\n",
        "\n",
        "import numpy as np\n",
        "import cv2 as cv\n",
        "from google.colab.patches import cv2_imshow\n",
        "# Create a black image\n",
        "img = np.zeros((500,500,3), np.uint8)\n",
        "\n",
        "#(arquivo,(coordenadas do centro -> x,y), raio, (cores RGB), espessura -> -1 equivale a preenchido)\n",
        "cv.circle(img,(400,400), 50, (0,0,255), -1)\n",
        "\n",
        "#(arquivo,(coordenadas do ínicio -> x,y), (coordenadas do final -> x,y), (cores RGB), espessura -> -1 equivale a preenchido)\n",
        "cv.rectangle(img,(0,0),(100,100),(0,255,0),-1)\n",
        "\n",
        "#[[coordenadas do vértice esquerdo -> x,y], [coordenadas do vértice central -> x,y], [coordenadas do vértice direito -> x,y] obs: y do esquerdo e direito iguais para base reta)\n",
        "pts = np.array([[150,100],[200,0],[250,100]], np.int32)\n",
        "pts = pts.reshape((-1,1,2))\n",
        "cv.fillPoly(img, [pts], color=(0, 0, 255)) #este comando faz o mesmo que a espessura -1\n",
        "\n",
        "#(arquivo,(coordenadas do centro -> x,y), (tamanho dos eixos -> x,y), ângulo da figura, ângulo de início, ângulo final, (cores RGB), espessura -> -1 equivale a preenchido) obs: ângulo inicial e final está no sentido anti-horário\n",
        "cv.ellipse(img,(300,300),(100,50),0,0,360,(0,0,255),-1)\n",
        "\n",
        "cv2_imshow(img)"
      ],
      "execution_count": 139,
      "outputs": [
        {
          "output_type": "display_data",
          "data": {
            "image/png": "[encoded data removed]",
            "text/plain": [
              "<PIL.Image.Image image mode=RGB size=500x500 at 0x7FC36B3FB7B8>"
            ]
          },
          "metadata": {
            "tags": []
          }
        }
      ]
    }
  ]
}