{
  "nbformat": 4,
  "nbformat_minor": 0,
  "metadata": {
    "colab": {
      "name": "perception.ipynb",
      "provenance": [],
      "collapsed_sections": [],
      "authorship_tag": "ABX9TyOUIbwhST6L5I8Q4CBqFzRS",
      "include_colab_link": true
    },
    "kernelspec": {
      "name": "python3",
      "display_name": "Python 3"
    }
  },
  "cells": [
    {
      "cell_type": "markdown",
      "metadata": {
        "id": "view-in-github",
        "colab_type": "text"
      },
      "source": [
        "<a href=\"https://colab.research.google.com/github/yuki86/robotica/blob/master/perception.ipynb\" target=\"_parent\"><img src=\"https://colab.research.google.com/assets/colab-badge.svg\" alt=\"Open In Colab\"/></a>"
      ]
    },
    {
      "cell_type": "markdown",
      "metadata": {
        "id": "omj6x2U0h9BT"
      },
      "source": [
        "Criação de amostras A e B:"
      ]
    },
    {
      "cell_type": "code",
      "metadata": {
        "id": "iSs5-_MHhow-",
        "outputId": "ce421eed-eef8-4baa-9c6d-9a67c621cc82",
        "colab": {
          "base_uri": "https://localhost:8080/",
          "height": 279
        }
      },
      "source": [
        "import numpy as np\n",
        "import matplotlib.pyplot as plt\n",
        "import csv\n",
        "\n",
        "x1_range = np.linspace(-40,40,200)\n",
        "\n",
        "Ax1 = np.random.normal(3, 5, 300)\n",
        "Ax2 = np.random.normal(2, 3, 300)\n",
        "\n",
        "Bx1 = np.random.normal(12, 4, 500)\n",
        "Bx2 = np.random.normal(12, 3, 500)\n",
        "\n",
        "plt.plot(Ax1, Ax2,'ro',color = \"red\")\n",
        "plt.plot(Bx1, Bx2,'ro',color = \"blue\")\n",
        "plt.xlabel('x1')\n",
        "plt.ylabel('x2')\n",
        "\n",
        "f = open('amostraA.csv', 'w', newline='')\n",
        "with f:\n",
        "  writer = csv.writer(f)\n",
        "  for index in range( 0, len( Ax1)):\n",
        "      row = str(Ax1[index]), str( Ax2[index])\n",
        "      writer.writerow( row )\n",
        "\n",
        "f = open('amostraB.csv', 'w', newline='')\n",
        "with f:\n",
        "    writer = csv.writer(f)\n",
        "    for index in range( 0, len( Bx1)) :\n",
        "      row = str(Bx1[index]), str(Bx2[index])\n",
        "      writer.writerow( row )"
      ],
      "execution_count": null,
      "outputs": [
        {
          "output_type": "display_data",
          "data": {
            "image/png": "[encoded data removed]",
            "text/plain": [
              "<Figure size 432x288 with 1 Axes>"
            ]
          },
          "metadata": {
            "tags": [],
            "needs_background": "light"
          }
        }
      ]
    },
    {
      "cell_type": "markdown",
      "metadata": {
        "id": "77sITl1ViA5D"
      },
      "source": [
        "Determinação dos parâmetros a e b manualmente:"
      ]
    },
    {
      "cell_type": "code",
      "metadata": {
        "id": "15YOsLG7iDph",
        "outputId": "097c1b31-592d-403d-fecc-1c8e2c7d47b0",
        "colab": {
          "base_uri": "https://localhost:8080/",
          "height": 332
        }
      },
      "source": [
        "import numpy as np\n",
        "import matplotlib.pyplot as plt\n",
        "import csv\n",
        "\n",
        "x1_range = np.linspace(-20,30,100)\n",
        "\n",
        "f = open('amostraB.csv', 'r')\n",
        "with f:\n",
        "  reader = csv.reader(f, delimiter=\",\")\n",
        "  rowsA = len(list(reader))\n",
        "\n",
        "f = open('amostraA.csv', 'r')\n",
        "with f:\n",
        "  reader = csv.reader(f, delimiter=\",\")\n",
        "  Ax1 = np.zeros(rowsA)\n",
        "  Ax2 = np.zeros(rowsA)\n",
        "  cont = 0\n",
        "  for row in reader:\n",
        "    Ax1[cont] = row[0]\n",
        "    Ax2[cont] = row[1]\n",
        "    cont = cont + 1\n",
        "\n",
        "f = open('amostraB.csv', 'r')\n",
        "with f:\n",
        "  reader = csv.reader(f, delimiter=\",\")\n",
        "  rowsB = len(list(reader))\n",
        "\n",
        "f = open('amostraB.csv', 'r')\n",
        "with f:\n",
        "  reader = csv.reader(f, delimiter=\",\")\n",
        "  Bx1 = np.zeros(rowsA)\n",
        "  Bx2 = np.zeros(rowsA)\n",
        "  cont = 0\n",
        "  for row in reader:\n",
        "    Bx1[cont] = row[0]\n",
        "    Bx2[cont] = row[1]\n",
        "    cont = cont + 1\n",
        "\n",
        "plt.plot(Ax1, Ax2,'ro',color = \"red\")\n",
        "plt.plot(Bx1, Bx2,'ro',color = \"blue\")\n",
        "plt.xlabel('x1')\n",
        "plt.ylabel('x2')\n",
        "\n",
        "a= -1.0\n",
        "b = 15.0\n",
        "\n",
        "contErrA = 0\n",
        "for index in range(0, len(Ax1)):\n",
        "  if (Ax2[index] > (Ax1[index]*a + b) ):\n",
        "    contErrA = contErrA + 1\n",
        "\n",
        "contErrB = 0\n",
        "for index in range(0, len(Bx1)):\n",
        "  if (Bx2[index] < (Bx1[index]*a + b) ):\n",
        "    contErrB = contErrB + 1\n",
        "\n",
        "err_Total = contErrA + contErrB\n",
        "print(a, \" \",b,\" \", contErrA,\" \",contErrB,\" \",err_Total,end=\"\\n\")\n",
        "plt.plot(x1_range, a*x1_range + b, '-g')\n",
        "\n",
        "print (\"Fim\\n\")"
      ],
      "execution_count": 13,
      "outputs": [
        {
          "output_type": "stream",
          "text": [
            "-1.0   15.0   13   21   34\n",
            "Fim\n",
            "\n"
          ],
          "name": "stdout"
        },
        {
          "output_type": "display_data",
          "data": {
            "image/png": "[encoded data removed]",
            "text/plain": [
              "<Figure size 432x288 with 1 Axes>"
            ]
          },
          "metadata": {
            "tags": [],
            "needs_background": "light"
          }
        }
      ]
    },
    {
      "cell_type": "markdown",
      "metadata": {
        "id": "WvimkigtuSN6"
      },
      "source": [
        ""
      ]
    },
    {
      "cell_type": "code",
      "metadata": {
        "id": "U0v7A-Laua8v",
        "outputId": "7bca2b72-dbdf-4a67-ae9a-668682f1b106",
        "colab": {
          "base_uri": "https://localhost:8080/",
          "height": 501
        }
      },
      "source": [
        "import numpy as np\n",
        "import matplotlib.pyplot as plt\n",
        "import csv \n",
        "\n",
        "x1_range = np.linspace(-20,30,200)\n",
        "\n",
        "f = open('amostraB.csv', 'r')\n",
        "with f:\n",
        "    reader = csv.reader(f, delimiter=\",\")\n",
        "    rowsA = len(list(reader))\n",
        "    \n",
        "f = open('amostraA.csv', 'r')\n",
        "with f:\n",
        "    reader = csv.reader(f, delimiter=\",\")\n",
        "    Ax1 = np.zeros(rowsA)\n",
        "    Ax2 = np.zeros(rowsA)\n",
        "    cont = 0\n",
        "    for row in reader: \n",
        "        Ax1[cont] = row[0]\n",
        "        Ax2[cont] = row[1]\n",
        "        cont = cont + 1\n",
        "\n",
        "f = open('amostraB.csv', 'r')\n",
        "with f:\n",
        "    reader = csv.reader(f, delimiter=\",\")\n",
        "    rowsB = len(list(reader))\n",
        "f = open('amostraB.csv', 'r')\n",
        "with f:\n",
        "    reader = csv.reader(f, delimiter=\",\")\n",
        "    Bx1 = np.zeros(rowsA)\n",
        "    Bx2 = np.zeros(rowsA)\n",
        "    cont = 0\n",
        "    for row in reader: \n",
        "        Bx1[cont] = row[0]\n",
        "        Bx2[cont] = row[1]\n",
        "        \n",
        "        cont = cont + 1\n",
        "        \n",
        "plt.plot(Ax1, Ax2,'ro',color = 'red')\n",
        "plt.plot(Bx1, Bx2,'ro',color = 'blue')\n",
        "plt.xlabel('x1')\n",
        "plt.ylabel('x2')\n",
        "\n",
        "a= -1.0\n",
        "a_delta =  0.001\n",
        "erro_min = 28\n",
        "while (a< 1.0):\n",
        "    b = 14.9\n",
        "    b_delta =  0.001\n",
        "    while (b < 15.2):\n",
        "        contErrA = 0\n",
        "        for index in range(0, len(Ax1)):\n",
        "            if (Ax2[index] > (Ax1[index]*a + b) ):\n",
        "                contErrA = contErrA + 1\n",
        "        contErrB = 0\n",
        "        for index in range(0, len(Bx1)):\n",
        "            if (Bx2[index] < (Bx1[index]*a + b) ):\n",
        "                contErrB = contErrB + 1\n",
        "        err_Total = contErrA + contErrB\n",
        "        if ( err_Total < erro_min ):\n",
        "            print(a, \" \",b,\" \", contErrA,\" \",contErrB,\" \",err_Total ,end=\"\\n\")\n",
        "            plt.plot(x1_range, a*x1_range + b, '-g')\n",
        "            erro_min = err_Total\n",
        "        b = b + b_delta\n",
        "    a = a + a_delta\n",
        "print (\"Fim\\n\")"
      ],
      "execution_count": 21,
      "outputs": [
        {
          "output_type": "error",
          "ename": "KeyboardInterrupt",
          "evalue": "ignored",
          "traceback": [
            "\u001b[0;31m---------------------------------------------------------------------------\u001b[0m",
            "\u001b[0;31mKeyboardInterrupt\u001b[0m                         Traceback (most recent call last)",
            "\u001b[0;32m<ipython-input-21-eb22449806fe>\u001b[0m in \u001b[0;36m<module>\u001b[0;34m()\u001b[0m\n\u001b[1;32m     56\u001b[0m         \u001b[0;32mfor\u001b[0m \u001b[0mindex\u001b[0m \u001b[0;32min\u001b[0m \u001b[0mrange\u001b[0m\u001b[0;34m(\u001b[0m\u001b[0;36m0\u001b[0m\u001b[0;34m,\u001b[0m \u001b[0mlen\u001b[0m\u001b[0;34m(\u001b[0m\u001b[0mBx1\u001b[0m\u001b[0;34m)\u001b[0m\u001b[0;34m)\u001b[0m\u001b[0;34m:\u001b[0m\u001b[0;34m\u001b[0m\u001b[0;34m\u001b[0m\u001b[0m\n\u001b[1;32m     57\u001b[0m             \u001b[0;32mif\u001b[0m \u001b[0;34m(\u001b[0m\u001b[0mBx2\u001b[0m\u001b[0;34m[\u001b[0m\u001b[0mindex\u001b[0m\u001b[0;34m]\u001b[0m \u001b[0;34m<\u001b[0m \u001b[0;34m(\u001b[0m\u001b[0mBx1\u001b[0m\u001b[0;34m[\u001b[0m\u001b[0mindex\u001b[0m\u001b[0;34m]\u001b[0m\u001b[0;34m*\u001b[0m\u001b[0ma\u001b[0m \u001b[0;34m+\u001b[0m \u001b[0mb\u001b[0m\u001b[0;34m)\u001b[0m \u001b[0;34m)\u001b[0m\u001b[0;34m:\u001b[0m\u001b[0;34m\u001b[0m\u001b[0;34m\u001b[0m\u001b[0m\n\u001b[0;32m---> 58\u001b[0;31m                 \u001b[0mcontErrB\u001b[0m \u001b[0;34m=\u001b[0m \u001b[0mcontErrB\u001b[0m \u001b[0;34m+\u001b[0m \u001b[0;36m1\u001b[0m\u001b[0;34m\u001b[0m\u001b[0;34m\u001b[0m\u001b[0m\n\u001b[0m\u001b[1;32m     59\u001b[0m         \u001b[0merr_Total\u001b[0m \u001b[0;34m=\u001b[0m \u001b[0mcontErrA\u001b[0m \u001b[0;34m+\u001b[0m \u001b[0mcontErrB\u001b[0m\u001b[0;34m\u001b[0m\u001b[0;34m\u001b[0m\u001b[0m\n\u001b[1;32m     60\u001b[0m         \u001b[0;32mif\u001b[0m \u001b[0;34m(\u001b[0m \u001b[0merr_Total\u001b[0m \u001b[0;34m<\u001b[0m \u001b[0merro_min\u001b[0m \u001b[0;34m)\u001b[0m\u001b[0;34m:\u001b[0m\u001b[0;34m\u001b[0m\u001b[0;34m\u001b[0m\u001b[0m\n",
            "\u001b[0;31mKeyboardInterrupt\u001b[0m: "
          ]
        },
        {
          "output_type": "display_data",
          "data": {
            "image/png": "[encoded data removed]",
            "text/plain": [
              "<Figure size 432x288 with 1 Axes>"
            ]
          },
          "metadata": {
            "tags": [],
            "needs_background": "light"
          }
        }
      ]
    }
  ]
}