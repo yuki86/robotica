{
  "nbformat": 4,
  "nbformat_minor": 0,
  "metadata": {
    "colab": {
      "name": "perception.ipynb",
      "provenance": [],
      "authorship_tag": "ABX9TyOFppO5tF9r8AsDJB/2fQnZ",
      "include_colab_link": true
    },
    "kernelspec": {
      "name": "python3",
      "display_name": "Python 3"
    }
  },
  "cells": [
    {
      "cell_type": "markdown",
      "metadata": {
        "id": "view-in-github",
        "colab_type": "text"
      },
      "source": [
        "<a href=\"https://colab.research.google.com/github/yuki86/robotica/blob/master/perception.ipynb\" target=\"_parent\"><img src=\"https://colab.research.google.com/assets/colab-badge.svg\" alt=\"Open In Colab\"/></a>"
      ]
    },
    {
      "cell_type": "markdown",
      "metadata": {
        "id": "omj6x2U0h9BT"
      },
      "source": [
        "Criação de amostras A e B:"
      ]
    },
    {
      "cell_type": "code",
      "metadata": {
        "id": "iSs5-_MHhow-",
        "outputId": "ce421eed-eef8-4baa-9c6d-9a67c621cc82",
        "colab": {
          "base_uri": "https://localhost:8080/",
          "height": 279
        }
      },
      "source": [
        "import numpy as np\n",
        "import matplotlib.pyplot as plt\n",
        "import csv\n",
        "\n",
        "x1_range = np.linspace(-40,40,200)\n",
        "\n",
        "Ax1 = np.random.normal(3, 5, 300)\n",
        "Ax2 = np.random.normal(2, 3, 300)\n",
        "\n",
        "Bx1 = np.random.normal(12, 4, 500)\n",
        "Bx2 = np.random.normal(12, 3, 500)\n",
        "\n",
        "plt.plot(Ax1, Ax2,'ro',color = \"red\")\n",
        "plt.plot(Bx1, Bx2,'ro',color = \"blue\")\n",
        "plt.xlabel('x1')\n",
        "plt.ylabel('x2')\n",
        "\n",
        "f = open('amostraA.csv', 'w', newline='')\n",
        "with f:\n",
        "  writer = csv.writer(f)\n",
        "  for index in range( 0, len( Ax1)):\n",
        "      row = str(Ax1[index]), str( Ax2[index])\n",
        "      writer.writerow( row )\n",
        "\n",
        "f = open('amostraB.csv', 'w', newline='')\n",
        "with f:\n",
        "    writer = csv.writer(f)\n",
        "    for index in range( 0, len( Bx1)) :\n",
        "      row = str(Bx1[index]), str(Bx2[index])\n",
        "      writer.writerow( row )"
      ],
      "execution_count": 6,
      "outputs": [
        {
          "output_type": "display_data",
          "data": {
            "image/png": "[encoded data removed]",
            "text/plain": [
              "<Figure size 432x288 with 1 Axes>"
            ]
          },
          "metadata": {
            "tags": [],
            "needs_background": "light"
          }
        }
      ]
    },
    {
      "cell_type": "markdown",
      "metadata": {
        "id": "77sITl1ViA5D"
      },
      "source": [
        "Determinação dos parâmetros a e b manualmente:"
      ]
    },
    {
      "cell_type": "code",
      "metadata": {
        "id": "15YOsLG7iDph",
        "outputId": "95e00841-b8cc-41d0-a43a-db6f57c1d3ea",
        "colab": {
          "base_uri": "https://localhost:8080/",
          "height": 332
        }
      },
      "source": [
        "import numpy as np\n",
        "import matplotlib.pyplot as plt\n",
        "import csv\n",
        "\n",
        "x1_range = np.linspace(-20,30,100)\n",
        "\n",
        "f = open('amostraB.csv', 'r')\n",
        "with f:\n",
        "  reader = csv.reader(f, delimiter=\",\")\n",
        "  rowsA = len(list(reader))\n",
        "\n",
        "f = open('amostraA.csv', 'r')\n",
        "with f:\n",
        "  reader = csv.reader(f, delimiter=\",\")\n",
        "  Ax1 = np.zeros(rowsA)\n",
        "  Ax2 = np.zeros(rowsA)\n",
        "  cont = 0\n",
        "  for row in reader:\n",
        "    Ax1[cont] = row[0]\n",
        "    Ax2[cont] = row[1]\n",
        "    cont = cont + 1\n",
        "\n",
        "f = open('amostraB.csv', 'r')\n",
        "with f:\n",
        "  reader = csv.reader(f, delimiter=\",\")\n",
        "  rowsB = len(list(reader))\n",
        "\n",
        "f = open('amostraB.csv', 'r')\n",
        "with f:\n",
        "  reader = csv.reader(f, delimiter=\",\")\n",
        "  Bx1 = np.zeros(rowsA)\n",
        "  Bx2 = np.zeros(rowsA)\n",
        "  cont = 0\n",
        "  for row in reader:\n",
        "    Bx1[cont] = row[0]\n",
        "    Bx2[cont] = row[1]\n",
        "    cont = cont + 1\n",
        "\n",
        "plt.plot(Ax1, Ax2,'ro',color = \"red\")\n",
        "plt.plot(Bx1, Bx2,'ro',color = \"blue\")\n",
        "plt.xlabel('x1')\n",
        "plt.ylabel('x2')\n",
        "\n",
        "a= -1.0\n",
        "b = 15.0\n",
        "\n",
        "contErrA = 0\n",
        "for index in range(0, len(Ax1)):\n",
        "  if (Ax2[index] > (Ax1[index]*a + b) ):\n",
        "    contErrA = contErrA + 1\n",
        "\n",
        "contErrB = 0\n",
        "for index in range(0, len(Bx1)):\n",
        "  if (Bx2[index] < (Bx1[index]*a + b) ):\n",
        "    contErrB = contErrB + 1\n",
        "\n",
        "err_Total = contErrA + contErrB\n",
        "print(a, \" \",b,\" \", contErrA,\" \",contErrB,\" \",err_Total,end=\"\\n\")\n",
        "plt.plot(x1_range, a*x1_range + b, '-g')\n",
        "\n",
        "print (\"Fim\\n\")"
      ],
      "execution_count": 12,
      "outputs": [
        {
          "output_type": "stream",
          "text": [
            "-1.0   15.0   13   21   34\n",
            "Fim\n",
            "\n"
          ],
          "name": "stdout"
        },
        {
          "output_type": "display_data",
          "data": {
            "image/png": "[encoded data removed]",
            "text/plain": [
              "<Figure size 432x288 with 1 Axes>"
            ]
          },
          "metadata": {
            "tags": [],
            "needs_background": "light"
          }
        }
      ]
    }
  ]
}