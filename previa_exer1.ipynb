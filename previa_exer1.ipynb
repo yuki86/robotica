{
  "nbformat": 4,
  "nbformat_minor": 0,
  "metadata": {
    "colab": {
      "name": "previa-exer1.ipynb",
      "provenance": [],
      "authorship_tag": "ABX9TyNMIolpQtq4Mk2fl5RvRKWv",
      "include_colab_link": true
    },
    "kernelspec": {
      "name": "python3",
      "display_name": "Python 3"
    }
  },
  "cells": [
    {
      "cell_type": "markdown",
      "metadata": {
        "id": "view-in-github",
        "colab_type": "text"
      },
      "source": [
        "<a href=\"https://colab.research.google.com/github/yuki86/robotica/blob/master/previa_exer1.ipynb\" target=\"_parent\"><img src=\"https://colab.research.google.com/assets/colab-badge.svg\" alt=\"Open In Colab\"/></a>"
      ]
    },
    {
      "cell_type": "code",
      "metadata": {
        "id": "Sot0RyTmyEYp",
        "outputId": "e0a50a33-f0c0-491f-b787-380e8205aa10",
        "colab": {
          "base_uri": "https://localhost:8080/",
          "height": 417
        }
      },
      "source": [
        "import cv2\n",
        "from google.colab.patches import cv2_imshow\n",
        "import numpy as np\n",
        "import random\n",
        "amostras = 100    #pode substituir o número por \n",
        "\n",
        "#tamanho da área disponível\n",
        "altura = amostras\n",
        "largura = amostras\n",
        "\n",
        "#cria dataset\n",
        "f = open(\"dataset_exe1.csv\", \"w\")\n",
        "data = \"\"\n",
        "for py in range(0,altura):\n",
        "  for px in range(0, largura):\n",
        "    data = data + \"P\"+str(py)+str(px)+\",\"\n",
        "data = data + \"Saida\\n\"\n",
        "f.write( data )\n",
        "\n",
        "#lê dataset e transforma em matriz (eu acho...) QUADRADO\n",
        "for amostra in range(0,amostras):\n",
        "  imgq = np.zeros([altura,largura,3])\n",
        "  for py in range(0,altura):\n",
        "    for px in range(0, largura):\n",
        "      imgq[px][py][0] = 255   # cor azul\n",
        "      imgq[px][py][1] = 255   # cor verde\n",
        "      imgq[px][py][2] = 255   # cor vermelho\n",
        "\n",
        "#define dimensões random da forma\n",
        "  tamanho = random.randint(0, amostras)\n",
        "  xmin = random.randint(0, amostras - tamanho) \n",
        "  ymin=xmin \n",
        "  xmax=(xmin+tamanho)\n",
        "  ymax=xmax\n",
        "\n",
        "#gera a forma de um quadrado\n",
        "  cv2.rectangle(imgq,(xmin, ymin),(xmax,ymax),(0,0,0),-1)\n",
        "  #forma(arquivo,(coordenadas do ínicio -> x,y), (coordenadas do final -> x,y), (cores RGB), espessura -> -1 equivale a preenchido)\n",
        "\n",
        "\n",
        "#lê dataset e transforma em matriz (eu acho...) CIRCULO\n",
        "for amostra in range(0,amostras):\n",
        "  imgc = np.zeros([altura,largura,3])\n",
        "  for py in range(0,altura):\n",
        "    for px in range(0, largura):\n",
        "      imgc[px][py][0] = 255   # cor azul\n",
        "      imgc[px][py][1] = 255   # cor verde\n",
        "      imgc[px][py][2] = 255   # cor vermelho\n",
        "\n",
        "#define dimensões random da forma\n",
        "xcentro = random.randint(1, amostras-1) \n",
        "ycentro = random.randint(1, amostras-1) \n",
        "raio=random.randint(1,(amostras/2))\n",
        "\n",
        "#gera a forma de um círculo\n",
        "while (raio >= (amostras-xcentro) or raio >= (amostras-ycentro) or raio >= (xcentro-0) or raio >= (ycentro-0)):\n",
        "  raio=random.randint(1,(amostras/2))\n",
        "else:\n",
        "  cv2.circle(imgc,(xcentro, ycentro), raio, (0,0,0), -1)\n",
        "  #(arquivo,(coordenadas do centro -> x,y), raio, (cores RGB), espessura -> -1 equivale a preenchido)\n",
        "\n",
        "\n",
        "\n",
        "#lê dataset e transforma em matriz (eu acho...) TRIANGULO\n",
        "for amostra in range(0,amostras):\n",
        "  imgt = np.zeros([altura,largura,3])\n",
        "  for py in range(0,altura):\n",
        "    for px in range(0, largura):\n",
        "      imgt[px][py][0] = 255   # cor azul\n",
        "      imgt[px][py][1] = 255   # cor verde\n",
        "      imgt[px][py][2] = 255   # cor vermelho\n",
        "\n",
        "#define dimensões random da forma\n",
        "xe=random.randint(0, amostras)\n",
        "ye=random.randint(0, amostras)\n",
        "xp=random.randint(0, amostras)\n",
        "yp=random.randint(0, amostras)\n",
        "xd=random.randint(0, amostras)\n",
        "yd=random.randint(0, amostras)\n",
        "\n",
        "#gera a forma de um triângulo\n",
        "while (yp >= ye or yp >= yd or xd <= xe):\n",
        "  xe=random.randint(0, amostras)\n",
        "  ye=random.randint(0, amostras)\n",
        "  xp=random.randint(0, amostras)\n",
        "  yp=random.randint(0, amostras)\n",
        "  xd=random.randint(0, amostras)\n",
        "  yd=random.randint(0, amostras)\n",
        "\n",
        "else:\n",
        "  #[[coordenadas do vértice esquerdo -> x,y], [coordenadas do vértice central -> x,y], [coordenadas do vértice direito -> x,y] obs: y do esquerdo e direito iguais para base reta)\n",
        "  pts = np.array([[xe,ye],[xp,yp],[xd,yd]], np.int32)\n",
        "  pts = pts.reshape((-1,1,2))\n",
        "  cv2.fillPoly(imgt, [pts], color=(0, 0, 0)) #este comando faz o mesmo que a espessura -1\n",
        "\n",
        "#AQUI AINDA NÃO FUNCIONA\n",
        "#escolha random da figura a mostrar\n",
        "img = [imgq, imgc, imgt]\n",
        "random.choice(img)\n",
        "for amostra in range(0,amostras):\n",
        "  img = np.zeros([altura,largura,3])\n",
        "  for py in range(0,altura):\n",
        "    for px in range(0, largura):\n",
        "      img[px][py][0] = 255   # cor azul\n",
        "      img[px][py][1] = 255   # cor verde\n",
        "      img[px][py][2] = 255   # cor vermelho\n",
        "#VAI ATÉ AQUI! MEXER NESSE BLOCO.\n",
        " \n",
        "#lê a forma gerada e salva as informações (eu acho...)  \n",
        "  data = \"\"\n",
        "  for py in range(0,altura):\n",
        "    for px in range(0, largura):\n",
        "      data = data + str(int(img[px][py][0]))+\",\"\n",
        "  data = data + \"0\\n\"\n",
        "\n",
        "  f.write( data )\n",
        "\n",
        "f.close()\n",
        "\n",
        "#mostra a figura gerada\n",
        "cv2_imshow(imgq)\n",
        "cv2_imshow(imgc)\n",
        "cv2_imshow(imgt)\n",
        "cv2_imshow(img)"
      ],
      "execution_count": 33,
      "outputs": [
        {
          "output_type": "display_data",
          "data": {
            "image/png": "[encoded data removed]",
            "text/plain": [
              "<PIL.Image.Image image mode=RGB size=100x100 at 0x7FA83DC75160>"
            ]
          },
          "metadata": {
            "tags": []
          }
        },
        {
          "output_type": "display_data",
          "data": {
            "image/png": "[encoded data removed]",
            "text/plain": [
              "<PIL.Image.Image image mode=RGB size=100x100 at 0x7FA83DCF1CF8>"
            ]
          },
          "metadata": {
            "tags": []
          }
        },
        {
          "output_type": "display_data",
          "data": {
            "image/png": "[encoded data removed]",
            "text/plain": [
              "<PIL.Image.Image image mode=RGB size=100x100 at 0x7FA83DC75160>"
            ]
          },
          "metadata": {
            "tags": []
          }
        },
        {
          "output_type": "display_data",
          "data": {
            "image/png": "[encoded data removed]",
            "text/plain": [
              "<PIL.Image.Image image mode=RGB size=100x100 at 0x7FA83DC75160>"
            ]
          },
          "metadata": {
            "tags": []
          }
        }
      ]
    }
  ]
}