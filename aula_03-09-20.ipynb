{
  "nbformat": 4,
  "nbformat_minor": 0,
  "metadata": {
    "colab": {
      "name": "Untitled0.ipynb",
      "provenance": [],
      "authorship_tag": "ABX9TyNcN13zAsADZPR9+KHW6FJa",
      "include_colab_link": true
    },
    "kernelspec": {
      "name": "python3",
      "display_name": "Python 3"
    }
  },
  "cells": [
    {
      "cell_type": "markdown",
      "metadata": {
        "id": "view-in-github",
        "colab_type": "text"
      },
      "source": [
        "<a href=\"https://colab.research.google.com/github/yuki86/robotica/blob/master/aula_03-09-20.ipynb\" target=\"_parent\"><img src=\"https://colab.research.google.com/assets/colab-badge.svg\" alt=\"Open In Colab\"/></a>"
      ]
    },
    {
      "cell_type": "markdown",
      "metadata": {
        "id": "qI5OuAJLqigc",
        "colab_type": "text"
      },
      "source": [
        "# aula_03-09-20\n"
      ]
    },
    {
      "cell_type": "code",
      "metadata": {
        "id": "r2fxtYKM_aO2",
        "colab_type": "code",
        "colab": {
          "base_uri": "https://localhost:8080/",
          "height": 35
        },
        "outputId": "421df7dc-aaaf-4a7a-e157-95ee9c79f9b7"
      },
      "source": [
        "import cv2\n",
        "import numpy as np\n",
        "altura = 100\n",
        "largura = 100\n",
        "img = np.zeros([altura,largura,3])\n",
        "for py in range(0,altura):\n",
        "  for px in range(0,largura):\n",
        "    img[py][px][0] =0 # cor azul\n",
        "    img[py][px][1] = 255 # cor verde\n",
        "    img[py][px][2] = 0 # cor vermelho\n",
        "cv2.imwrite(\"color_img.png\",img)"
      ],
      "execution_count": 7,
      "outputs": [
        {
          "output_type": "execute_result",
          "data": {
            "text/plain": [
              "True"
            ]
          },
          "metadata": {
            "tags": []
          },
          "execution_count": 7
        }
      ]
    },
    {
      "cell_type": "code",
      "metadata": {
        "id": "pG1hnqCWqdGY",
        "colab_type": "code",
        "colab": {
          "base_uri": "https://localhost:8080/",
          "height": 265
        },
        "outputId": "8649ca28-9c38-494f-90cb-94d63e320c65"
      },
      "source": [
        "import cv2\n",
        "import matplotlib.pylab as plt\n",
        "imagem = cv2.imread('fox.jpeg')\n",
        "plt.hist(imagem.ravel(),bins = 256, range = [0,256])\n",
        "plt.show()"
      ],
      "execution_count": 14,
      "outputs": [
        {
          "output_type": "display_data",
          "data": {
            "image/png": "[encoded data removed]",
            "text/plain": [
              "<Figure size 432x288 with 1 Axes>"
            ]
          },
          "metadata": {
            "tags": [],
            "needs_background": "light"
          }
        }
      ]
    },
    {
      "cell_type": "code",
      "metadata": {
        "id": "UlDWnIgZ_tIO",
        "colab_type": "code",
        "colab": {
          "base_uri": "https://localhost:8080/",
          "height": 265
        },
        "outputId": "e108e9db-f507-4d49-d7cf-3de5541f439e"
      },
      "source": [
        "import cv2\n",
        "import matplotlib.pylab as plt\n",
        "image = cv2.imread('fox.jpeg')\n",
        "color = ('b','g','r')\n",
        "for i, col in enumerate(color):\n",
        "  histr = cv2.calcHist([image],[i],None,[256],[0,256])\n",
        "  plt.plot(histr,color = col)\n",
        "  plt.xlim([0,256])\n",
        "plt.show()"
      ],
      "execution_count": 26,
      "outputs": [
        {
          "output_type": "display_data",
          "data": {
            "image/png": "[encoded data removed]",
            "text/plain": [
              "<Figure size 432x288 with 1 Axes>"
            ]
          },
          "metadata": {
            "tags": [],
            "needs_background": "light"
          }
        }
      ]
    },
    {
      "cell_type": "code",
      "metadata": {
        "id": "H1s0oxRxA05Z",
        "colab_type": "code",
        "colab": {
          "base_uri": "https://localhost:8080/",
          "height": 35
        },
        "outputId": "985437c6-b2e1-4dd1-9643-29118bba6ff4"
      },
      "source": [
        "import cv2\n",
        "import numpy as np\n",
        "imagem = cv2.imread('fox.jpeg')\n",
        "altura, largura, bytesPorPixel = np.shape(imagem)\n",
        "img = np.zeros([altura,largura,3])\n",
        "for py in range(0, altura):\n",
        "  for px in range(0, largura):\n",
        "    img[py][px][0] = imagem[py][px][0] # cor azul\n",
        "    img[py][px][1] = 0 # cor verde\n",
        "    img[py][px][2] = 0 # cor vermelho\n",
        "cv2.imwrite(\"fox-blue.jpeg\", img )"
      ],
      "execution_count": 27,
      "outputs": [
        {
          "output_type": "execute_result",
          "data": {
            "text/plain": [
              "True"
            ]
          },
          "metadata": {
            "tags": []
          },
          "execution_count": 27
        }
      ]
    },
    {
      "cell_type": "code",
      "metadata": {
        "id": "Jklt0ePEBqqR",
        "colab_type": "code",
        "colab": {
          "base_uri": "https://localhost:8080/",
          "height": 35
        },
        "outputId": "7a722874-911a-49cd-adde-46c79a8bfab6"
      },
      "source": [
        "import cv2\n",
        "import numpy as np\n",
        "\n",
        "imagem = cv2.imread('fox.jpeg')\n",
        "altura, largura, bytesPorPixel = np.shape(imagem)\n",
        "img = np.zeros([altura,largura,3])\n",
        "\n",
        "for py in range(0, altura):\n",
        "  for px in range(0, largura):\n",
        "    img[py][px][0] = imagem[py][px][0] # cor azul\n",
        "    img[py][px][1] = imagem[py][px][0] # cor verde\n",
        "    img[py][px][2] = imagem[py][px][0] # cor vermelho\n",
        "cv2.imwrite(\"fox-gray.jpeg\", img )"
      ],
      "execution_count": 28,
      "outputs": [
        {
          "output_type": "execute_result",
          "data": {
            "text/plain": [
              "True"
            ]
          },
          "metadata": {
            "tags": []
          },
          "execution_count": 28
        }
      ]
    },
    {
      "cell_type": "code",
      "metadata": {
        "id": "SMjuF6FRCoQB",
        "colab_type": "code",
        "colab": {
          "base_uri": "https://localhost:8080/",
          "height": 35
        },
        "outputId": "36790d1e-8634-4fe6-f398-2e54e90952f2"
      },
      "source": [
        "import cv2\n",
        "import numpy as np\n",
        "imagem = cv2.imread(\"fox.jpeg\")\n",
        "gray = cv2.cvtColor(imagem, cv2.COLOR_BGR2GRAY)\n",
        "cv2.imwrite('fox-grayscale.jpeg', gray)"
      ],
      "execution_count": 29,
      "outputs": [
        {
          "output_type": "execute_result",
          "data": {
            "text/plain": [
              "True"
            ]
          },
          "metadata": {
            "tags": []
          },
          "execution_count": 29
        }
      ]
    },
    {
      "cell_type": "code",
      "metadata": {
        "id": "jLjBtUa-C4Yv",
        "colab_type": "code",
        "colab": {
          "base_uri": "https://localhost:8080/",
          "height": 265
        },
        "outputId": "f359ac38-390e-408b-94ec-86531868e605"
      },
      "source": [
        "import cv2\n",
        "import matplotlib.pylab as plt\n",
        "image = cv2.imread('fox.jpeg')\n",
        "color = ('b','g','r')\n",
        "for i, col in enumerate(color):\n",
        "  histr = cv2.calcHist([image],[i],None,[256],[0,256])\n",
        "  plt.plot(histr,color = col)\n",
        "  plt.xlim([0,256])\n",
        "plt.show()"
      ],
      "execution_count": 31,
      "outputs": [
        {
          "output_type": "display_data",
          "data": {
            "image/png": "[encoded data removed]",
            "text/plain": [
              "<Figure size 432x288 with 1 Axes>"
            ]
          },
          "metadata": {
            "tags": [],
            "needs_background": "light"
          }
        }
      ]
    }
  ]
}