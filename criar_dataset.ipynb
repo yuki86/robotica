{
  "nbformat": 4,
  "nbformat_minor": 0,
  "metadata": {
    "colab": {
      "name": "criar_dataset.ipynb",
      "provenance": [],
      "collapsed_sections": [],
      "include_colab_link": true
    },
    "kernelspec": {
      "name": "python3",
      "display_name": "Python 3"
    }
  },
  "cells": [
    {
      "cell_type": "markdown",
      "metadata": {
        "id": "view-in-github",
        "colab_type": "text"
      },
      "source": [
        "<a href=\"https://colab.research.google.com/github/yuki86/robotica/blob/master/criar_dataset.ipynb\" target=\"_parent\"><img src=\"https://colab.research.google.com/assets/colab-badge.svg\" alt=\"Open In Colab\"/></a>"
      ]
    },
    {
      "cell_type": "code",
      "metadata": {
        "id": "xa9gw82BwNSQ"
      },
      "source": [
        "import cv2\n",
        "from google.colab.patches import cv2_imshow\n",
        "import numpy as np\n",
        "import random\n",
        "amostras = 1000\n",
        "\n",
        "altura = 100\n",
        "largura = 100\n",
        "tamanho = altura * largura\n",
        "f = open(\"dataset_exe1.csv\", \"w\")\n",
        "data = \"\"\n",
        "for py in range(0,altura):\n",
        "  for px in range(0, largura):\n",
        "    data = data + \"P\"+str(py)+str(px)+\",\"\n",
        "data = data + \"Saida\\n\"\n",
        "f.write( data )\n",
        "\n",
        "for amostra in range(0,amostras):\n",
        "  img = np.zeros([altura,largura,3])\n",
        "  for py in range(0,altura):\n",
        "    for px in range(0, largura):\n",
        "      img[px][py][0] = 255   # cor azul\n",
        "      img[px][py][1] = 255   # cor verde\n",
        "      img[px][py][2] = 255   # cor vermelho\n",
        "\n",
        "  lado = random.randint(20, altura)\n",
        "  x_min = random.randint(0, largura - lado) \n",
        "  y_min = random.randint(0, altura - lado) \n",
        "  #cv2.rectangle(img,(0, 0),(100,100),(255,0,0),10)\n",
        "  cv2.rectangle(img,(x_min, y_min),(x_min+lado,y_min+lado),(0,0,0),-1)\n",
        "  #cv2_imshow(img)\n",
        "  data = \"\"\n",
        "  for py in range(0,altura):\n",
        "    for px in range(0, largura):\n",
        "      data = data + str(int(img[px][py][0]))+\",\"\n",
        "  data = data + \"0\\n\"\n",
        "\n",
        "  f.write( data )\n",
        "\n",
        "f.close()"
      ],
      "execution_count": 1,
      "outputs": []
    }
  ]
}