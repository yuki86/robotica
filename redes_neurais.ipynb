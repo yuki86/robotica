{
  "nbformat": 4,
  "nbformat_minor": 0,
  "metadata": {
    "colab": {
      "name": "redes_neurais.ipynb",
      "provenance": [],
      "collapsed_sections": [],
      "toc_visible": true,
      "include_colab_link": true
    },
    "kernelspec": {
      "name": "python3",
      "display_name": "Python 3"
    }
  },
  "cells": [
    {
      "cell_type": "markdown",
      "metadata": {
        "id": "view-in-github",
        "colab_type": "text"
      },
      "source": [
        "<a href=\"https://colab.research.google.com/github/yuki86/robotica/blob/master/redes_neurais.ipynb\" target=\"_parent\"><img src=\"https://colab.research.google.com/assets/colab-badge.svg\" alt=\"Open In Colab\"/></a>"
      ]
    },
    {
      "cell_type": "markdown",
      "metadata": {
        "id": "EQZb6TmpyPej"
      },
      "source": [
        "# Redes neurais"
      ]
    },
    {
      "cell_type": "code",
      "metadata": {
        "id": "oOFc9oiUyMhS",
        "outputId": "c51afaff-cce9-4d10-e9a5-c74ae5a34d84",
        "colab": {
          "base_uri": "https://localhost:8080/",
          "height": 34
        }
      },
      "source": [
        "# Logica Not\n",
        "import numpy as np\n",
        "\n",
        "def calculo_Z( lista_w, lista_X ):\n",
        "  tamanho = len(lista_w)\n",
        "  z = 0\n",
        "  for x in range(0, tamanho):\n",
        "    z = z + lista_w[x]*lista_X[x]\n",
        "  return z\n",
        "\n",
        "def neuronio_linear( z ):\n",
        "  return z\n",
        "\n",
        "def neuronio_signoidal( z ):\n",
        "  s = 1 / (1 + math.exp(-x))\n",
        "  return s\n",
        "\n",
        "def neuronio_degrau( z,thres ):\n",
        "  if (z>= thres):\n",
        "    s = 1\n",
        "  else:\n",
        "    s = 0 \n",
        "  return s\n",
        "\n",
        "def neuronio_gaussiana( z,sigma, phi ):\n",
        "  s = 1 /(2**0,5 * math.pi ) * 1/sigma * mat.exp(-1/2 *((z-phi) / sigma)**2)\n",
        "  return s\n",
        "\n",
        "lista_w = [1,-1]\n",
        "lista_x = [1,0]\n",
        "\n",
        "\n",
        "print(calculo_Z(lista_w,lista_x))\n"
      ],
      "execution_count": null,
      "outputs": [
        {
          "output_type": "stream",
          "text": [
            "1\n"
          ],
          "name": "stdout"
        }
      ]
    },
    {
      "cell_type": "code",
      "metadata": {
        "id": "WH5MM19V81Bi",
        "outputId": "ea3c858e-3faa-4167-d322-bea794d3c8b9",
        "colab": {
          "base_uri": "https://localhost:8080/",
          "height": 51
        }
      },
      "source": [
        "#LOGICA AND\n",
        "import numpy as np\n",
        "\n",
        "def calculo_Z( lista_w, lista_X ):\n",
        "  tamanho = len(lista_w)\n",
        "  z = 0\n",
        "  for x in range(0, tamanho):\n",
        "    z = z + lista_w[x]*lista_X[x]\n",
        "  return z\n",
        "\n",
        "def neuronio_linear( z ):\n",
        "  return z\n",
        "\n",
        "def neuronio_signoidal( z ):\n",
        "  s = 1 / (1 + math.exp(-x))\n",
        "  return s\n",
        "\n",
        "def neuronio_degrau( z,thres ):\n",
        "  if (z>= thres):\n",
        "    s = 1\n",
        "  else:\n",
        "    s = 0 \n",
        "  return s\n",
        "\n",
        "def neuronio_gaussiana( z,sigma, phi ):\n",
        "  s = 1 /(2**0,5 * math.pi ) * 1/sigma * mat.exp(-1/2 *((z-phi) / sigma)**2)\n",
        "  return s\n",
        "\n",
        "lista_w = [0,1,1]\n",
        "lista_x = [1,1,0]\n",
        "\n",
        "valor_z = calculo_Z(lista_w, lista_x)\n",
        "y = neuronio_degrau(valor_z,2)\n",
        "print(\"AND: \",y, end=\"\\n\")\n",
        "\n",
        "valor_z = calculo_Z(lista_w, lista_x)\n",
        "y = neuronio_degrau(valor_z,1)\n",
        "print(\"OR: \",y, end=\"\\n\")\n"
      ],
      "execution_count": null,
      "outputs": [
        {
          "output_type": "stream",
          "text": [
            "AND:  0\n",
            "OR:  1\n"
          ],
          "name": "stdout"
        }
      ]
    },
    {
      "cell_type": "markdown",
      "metadata": {
        "id": "7PxAci7pZbUw"
      },
      "source": [
        "#Criar amostra"
      ]
    },
    {
      "cell_type": "code",
      "metadata": {
        "id": "5vhEwghbZh_G",
        "outputId": "a96f887a-64b9-41f2-b646-190b82b0ea38",
        "colab": {
          "base_uri": "https://localhost:8080/",
          "height": 279
        }
      },
      "source": [
        "import numpy as np\n",
        "import matplotlib.pyplot as plt\n",
        "import csv \n",
        "\n",
        "x1_range = np.linspace(-40,40,200)\n",
        "\n",
        "Ax1 = np.random.normal(3, 5, 300)\n",
        "Ax2 = np.random.normal(2, 3, 300)\n",
        "\n",
        "Bx1 = np.random.normal(12, 4, 500)\n",
        "Bx2 = np.random.normal(12, 3, 500)\n",
        "\n",
        "plt.plot(Ax1, Ax2,'ro',color = 'red')\n",
        "plt.plot(Bx1, Bx2,'ro',color = 'blue')\n",
        "plt.xlabel('x1')\n",
        "plt.ylabel('x2')\n",
        "\n",
        "f = open('amostraA.csv', 'w', newline='')\n",
        "with f:\n",
        "    writer = csv.writer(f)\n",
        "    for index in range( 0, len( Ax1)):\n",
        "        row = str(Ax1[index]), str( Ax2[index])\n",
        "        writer.writerow( row )\n",
        "\n",
        "f = open('amostraB.csv', 'w', newline='')\n",
        "with f:\n",
        "    writer = csv.writer(f)\n",
        "    for index in range( 0, len( Bx1)) :\n",
        "        row = str(Bx1[index]),  str(Bx2[index])\n",
        "        writer.writerow( row )"
      ],
      "execution_count": null,
      "outputs": [
        {
          "output_type": "display_data",
          "data": {
            "image/png": "[encoded data removed]",
            "text/plain": [
              "<Figure size 432x288 with 1 Axes>"
            ]
          },
          "metadata": {
            "tags": [],
            "needs_background": "light"
          }
        }
      ]
    },
    {
      "cell_type": "markdown",
      "metadata": {
        "id": "vduzOu2Jbfxx"
      },
      "source": [
        "#Determinacao dos pontos A e B manualmente."
      ]
    },
    {
      "cell_type": "code",
      "metadata": {
        "id": "SauInZP3bmS6",
        "outputId": "732d4360-6bd6-4d9f-c0b9-9220311e2790",
        "colab": {
          "base_uri": "https://localhost:8080/",
          "height": 330
        }
      },
      "source": [
        "import numpy as np\n",
        "import matplotlib.pyplot as plt\n",
        "import csv \n",
        "\n",
        "x1_range = np.linspace(-20,30,100)\n",
        "\n",
        "f = open('amostraB.csv', 'r')\n",
        "with f:\n",
        "    reader = csv.reader(f, delimiter=\",\")\n",
        "    rowsA = len(list(reader))\n",
        "    \n",
        "f = open('amostraA.csv', 'r')\n",
        "with f:\n",
        "    reader = csv.reader(f, delimiter=\",\")\n",
        "    Ax1 = np.zeros(rowsA)\n",
        "    Ax2 = np.zeros(rowsA)\n",
        "    cont = 0\n",
        "    for row in reader: \n",
        "        Ax1[cont] = row[0]\n",
        "        Ax2[cont] = row[1]\n",
        "        cont = cont + 1\n",
        "\n",
        "f = open('amostraB.csv', 'r')\n",
        "with f:\n",
        "    reader = csv.reader(f, delimiter=\",\")\n",
        "    rowsB = len(list(reader))\n",
        "f = open('amostraB.csv', 'r')\n",
        "with f:\n",
        "    reader = csv.reader(f, delimiter=\",\")\n",
        "    Bx1 = np.zeros(rowsA)\n",
        "    Bx2 = np.zeros(rowsA)\n",
        "    cont = 0\n",
        "    for row in reader: \n",
        "        Bx1[cont] = row[0]\n",
        "        Bx2[cont] = row[1]\n",
        "        cont = cont + 1\n",
        "\n",
        "plt.plot(Ax1, Ax2,'ro',color = 'red')\n",
        "plt.plot(Bx1, Bx2,'ro',color = 'blue')\n",
        "plt.xlabel('x1')\n",
        "plt.ylabel('x2')\n",
        "\n",
        "a= -0.98\n",
        "b = 15.0\n",
        "contErrA = 0\n",
        "for index in range(0, len(Ax1)):\n",
        "  if (Ax2[index] > (Ax1[index]*a + b) ):\n",
        "    contErrA = contErrA + 1\n",
        "  contErrB = 0\n",
        "for index in range(0, len(Bx1)):\n",
        "  if (Bx2[index] < (Bx1[index]*a + b) ):\n",
        "    contErrB = contErrB + 1\n",
        "err_Total = contErrA + contErrB\n",
        "print(a, \" \",b,\" \", contErrA,\" \",contErrB,\" \",err_Total ,end=\"\\n\")\n",
        "plt.plot(x1_range, a*x1_range + b, '-g')\n",
        "  \n",
        "print (\"Fim\\n\")"
      ],
      "execution_count": null,
      "outputs": [
        {
          "output_type": "stream",
          "text": [
            "-0.98   15.0   12   15   27\n",
            "Fim\n",
            "\n"
          ],
          "name": "stdout"
        },
        {
          "output_type": "display_data",
          "data": {
            "image/png": "[encoded data removed]",
            "text/plain": [
              "<Figure size 432x288 with 1 Axes>"
            ]
          },
          "metadata": {
            "tags": [],
            "needs_background": "light"
          }
        }
      ]
    },
    {
      "cell_type": "markdown",
      "metadata": {
        "id": "e6KTn_BtbDTX"
      },
      "source": [
        "#Determinacao dos pontos a e b."
      ]
    },
    {
      "cell_type": "code",
      "metadata": {
        "id": "SEbliXREbI1J",
        "outputId": "3fce8f39-8a1e-4df7-ef50-8c8556f5faa3",
        "colab": {
          "base_uri": "https://localhost:8080/",
          "height": 347
        }
      },
      "source": [
        "import numpy as np\n",
        "import matplotlib.pyplot as plt\n",
        "import csv \n",
        "\n",
        "x1_range = np.linspace(-20,30,200)\n",
        "\n",
        "f = open('amostraB.csv', 'r')\n",
        "with f:\n",
        "    reader = csv.reader(f, delimiter=\",\")\n",
        "    rowsA = len(list(reader))\n",
        "    \n",
        "f = open('amostraA.csv', 'r')\n",
        "with f:\n",
        "    reader = csv.reader(f, delimiter=\",\")\n",
        "    Ax1 = np.zeros(rowsA)\n",
        "    Ax2 = np.zeros(rowsA)\n",
        "    cont = 0\n",
        "    for row in reader: \n",
        "        Ax1[cont] = row[0]\n",
        "        Ax2[cont] = row[1]\n",
        "        cont = cont + 1\n",
        "\n",
        "f = open('amostraB.csv', 'r')\n",
        "with f:\n",
        "    reader = csv.reader(f, delimiter=\",\")\n",
        "    rowsB = len(list(reader))\n",
        "f = open('amostraB.csv', 'r')\n",
        "with f:\n",
        "    reader = csv.reader(f, delimiter=\",\")\n",
        "    Bx1 = np.zeros(rowsA)\n",
        "    Bx2 = np.zeros(rowsA)\n",
        "    cont = 0\n",
        "    for row in reader: \n",
        "        Bx1[cont] = row[0]\n",
        "        Bx2[cont] = row[1]\n",
        "        \n",
        "        cont = cont + 1\n",
        "        \n",
        "plt.plot(Ax1, Ax2,'ro',color = 'red')\n",
        "plt.plot(Bx1, Bx2,'ro',color = 'blue')\n",
        "plt.xlabel('x1')\n",
        "plt.ylabel('x2')\n",
        "\n",
        "a= -1.0\n",
        "a_delta =  0.001\n",
        "erro_min = 28\n",
        "while (a< 1.0):\n",
        "    b = 14.9\n",
        "    b_delta =  0.001\n",
        "    while (b < 15.2):\n",
        "        contErrA = 0\n",
        "        for index in range(0, len(Ax1)):\n",
        "            if (Ax2[index] > (Ax1[index]*a + b) ):\n",
        "                contErrA = contErrA + 1\n",
        "        contErrB = 0\n",
        "        for index in range(0, len(Bx1)):\n",
        "            if (Bx2[index] < (Bx1[index]*a + b) ):\n",
        "                contErrB = contErrB + 1\n",
        "        err_Total = contErrA + contErrB\n",
        "        if ( err_Total < erro_min ):\n",
        "            print(a, \" \",b,\" \", contErrA,\" \",contErrB,\" \",err_Total ,end=\"\\n\")\n",
        "            plt.plot(x1_range, a*x1_range + b, '-g')\n",
        "            erro_min = err_Total\n",
        "        b = b + b_delta\n",
        "    a = a + a_delta\n",
        "print (\"Fim\\n\")"
      ],
      "execution_count": null,
      "outputs": [
        {
          "output_type": "stream",
          "text": [
            "-0.996   15.086999999999897   12   15   27\n",
            "-0.968   14.978999999999957   11   15   26\n",
            "Fim\n",
            "\n"
          ],
          "name": "stdout"
        },
        {
          "output_type": "display_data",
          "data": {
            "image/png": "[encoded data removed]",
            "text/plain": [
              "<Figure size 432x288 with 1 Axes>"
            ]
          },
          "metadata": {
            "tags": [],
            "needs_background": "light"
          }
        }
      ]
    }
  ]
}