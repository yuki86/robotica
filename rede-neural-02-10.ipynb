{
  "nbformat": 4,
  "nbformat_minor": 0,
  "metadata": {
    "colab": {
      "name": "Untitled7.ipynb",
      "provenance": [],
      "authorship_tag": "ABX9TyMNJrGiECXzEyYC0RqB3o6g",
      "include_colab_link": true
    },
    "kernelspec": {
      "name": "python3",
      "display_name": "Python 3"
    }
  },
  "cells": [
    {
      "cell_type": "markdown",
      "metadata": {
        "id": "view-in-github",
        "colab_type": "text"
      },
      "source": [
        "<a href=\"https://colab.research.google.com/github/yuki86/robotica/blob/master/rede-neural-02-10.ipynb\" target=\"_parent\"><img src=\"https://colab.research.google.com/assets/colab-badge.svg\" alt=\"Open In Colab\"/></a>"
      ]
    },
    {
      "cell_type": "code",
      "metadata": {
        "id": "N0a2GI36c6JY",
        "outputId": "6e8f4b3e-88b2-499d-f7df-9a97d35b0ff0",
        "colab": {
          "base_uri": "https://localhost:8080/",
          "height": 35
        }
      },
      "source": [
        "import numpy as np\n",
        "\n",
        "def calculo_z (lista_w, lista_x):\n",
        "  tamanho = len(lista_w)\n",
        "  z = 0\n",
        "  for index in range( 0, tamanho):\n",
        "    z = z + lista_w[index]* lista_x[index]\n",
        "  return z\n",
        "\n",
        "def f_ativ_indetidade(z):\n",
        "    return z\n",
        "\n",
        "lista_w = [1,-1]\n",
        "lista_x = [1, 1]\n",
        "\n",
        "valor = calculo_z(lista_w,lista_x)\n",
        "print (valor, end=\"\\n\")"
      ],
      "execution_count": 2,
      "outputs": [
        {
          "output_type": "stream",
          "text": [
            "0\n"
          ],
          "name": "stdout"
        }
      ]
    },
    {
      "cell_type": "code",
      "metadata": {
        "id": "G6kPxhhmdrCl",
        "outputId": "d0623d7e-9636-4d66-88d1-2611c664bdba",
        "colab": {
          "base_uri": "https://localhost:8080/",
          "height": 35
        }
      },
      "source": [
        "import numpy as np\n",
        "\n",
        "def calculo_z (lista_w, lista_x):\n",
        "  tamanho = len(lista_w)\n",
        "  z = 0\n",
        "  for index in range( 0, tamanho):\n",
        "    z = z + lista_w[index]* lista_x[index]\n",
        "  return z\n",
        "\n",
        "def funcao_degrau (z, thres):\n",
        "  if (z>=thres):\n",
        "    s = 1\n",
        "  else:\n",
        "    s = 0\n",
        "  return s\n",
        "\n",
        "lista_w = [1, 1, 1]\n",
        "lista_x = [1, 0, 1]\n",
        "\n",
        "valor = calculo_z(lista_w,lista_x)\n",
        "valor = funcao_degrau(valor, 2)\n",
        "print (valor, end=\"\\n\")"
      ],
      "execution_count": 3,
      "outputs": [
        {
          "output_type": "stream",
          "text": [
            "1\n"
          ],
          "name": "stdout"
        }
      ]
    }
  ]
}